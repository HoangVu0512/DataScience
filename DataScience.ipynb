{
 "cells": [
  {
   "cell_type": "code",
   "execution_count": 1,
   "id": "e873fdc8-d5d5-4fff-b68d-155f13412765",
   "metadata": {},
   "outputs": [
    {
     "name": "stdout",
     "output_type": "stream",
     "text": [
      "<class 'pandas.core.frame.DataFrame'>\n",
      "RangeIndex: 9804 entries, 0 to 9803\n",
      "Data columns (total 11 columns):\n",
      " #   Column            Non-Null Count  Dtype  \n",
      "---  ------            --------------  -----  \n",
      " 0   DienTich          9800 non-null   object \n",
      " 1   Phongngu          9800 non-null   object \n",
      " 2   PhongTam          6315 non-null   object \n",
      " 3   GiayTo            7832 non-null   object \n",
      " 4   Loai              9700 non-null   object \n",
      " 5   HuongCuaChinh     1290 non-null   object \n",
      " 6   TinhTrangNoiThat  4986 non-null   object \n",
      " 7   DiaChi            9804 non-null   object \n",
      " 8   Gia               9804 non-null   object \n",
      " 9   SoTang            7456 non-null   float64\n",
      " 10  DacDiem           634 non-null    object \n",
      "dtypes: float64(1), object(10)\n",
      "memory usage: 842.7+ KB\n"
     ]
    }
   ],
   "source": [
    "import warnings\n",
    "warnings.filterwarnings('ignore')\n",
    "import pandas as pd\n",
    "import matplotlib.pyplot as plt\n",
    "import seaborn as sns\n",
    "import statsmodels.api as sm\n",
    "import numpy as np\n",
    "#from sklearn.linear_model import LinearRegression\n",
    "sns.set()\n",
    "\n",
    "df= pd.read_csv(\"/home/hieu/Downloads/_data_science__ML_data_minning/intro2ds_capstone_project/combined_file.csv\",thousands=',',skipinitialspace=True)\n",
    "df.head()\n",
    "df.info()\n"
   ]
  },
  {
   "cell_type": "code",
   "execution_count": 2,
   "id": "06f07f65-1c94-4fae-9cb1-3b51a4fac638",
   "metadata": {},
   "outputs": [
    {
     "ename": "KeyError",
     "evalue": "22",
     "output_type": "error",
     "traceback": [
      "\u001b[0;31m---------------------------------------------------------------------------\u001b[0m",
      "\u001b[0;31mKeyError\u001b[0m                                  Traceback (most recent call last)",
      "\u001b[0;32m~/.local/lib/python3.10/site-packages/pandas/core/indexes/base.py\u001b[0m in \u001b[0;36mget_loc\u001b[0;34m(self, key)\u001b[0m\n\u001b[1;32m   3790\u001b[0m         \u001b[0;32mtry\u001b[0m\u001b[0;34m:\u001b[0m\u001b[0;34m\u001b[0m\u001b[0;34m\u001b[0m\u001b[0m\n\u001b[0;32m-> 3791\u001b[0;31m             \u001b[0;32mreturn\u001b[0m \u001b[0mself\u001b[0m\u001b[0;34m.\u001b[0m\u001b[0m_engine\u001b[0m\u001b[0;34m.\u001b[0m\u001b[0mget_loc\u001b[0m\u001b[0;34m(\u001b[0m\u001b[0mcasted_key\u001b[0m\u001b[0;34m)\u001b[0m\u001b[0;34m\u001b[0m\u001b[0;34m\u001b[0m\u001b[0m\n\u001b[0m\u001b[1;32m   3792\u001b[0m         \u001b[0;32mexcept\u001b[0m \u001b[0mKeyError\u001b[0m \u001b[0;32mas\u001b[0m \u001b[0merr\u001b[0m\u001b[0;34m:\u001b[0m\u001b[0;34m\u001b[0m\u001b[0;34m\u001b[0m\u001b[0m\n",
      "\u001b[0;32mindex.pyx\u001b[0m in \u001b[0;36mpandas._libs.index.IndexEngine.get_loc\u001b[0;34m()\u001b[0m\n",
      "\u001b[0;32mindex.pyx\u001b[0m in \u001b[0;36mpandas._libs.index.IndexEngine.get_loc\u001b[0;34m()\u001b[0m\n",
      "\u001b[0;32mpandas/_libs/hashtable_class_helper.pxi\u001b[0m in \u001b[0;36mpandas._libs.hashtable.Int64HashTable.get_item\u001b[0;34m()\u001b[0m\n",
      "\u001b[0;32mpandas/_libs/hashtable_class_helper.pxi\u001b[0m in \u001b[0;36mpandas._libs.hashtable.Int64HashTable.get_item\u001b[0;34m()\u001b[0m\n",
      "\u001b[0;31mKeyError\u001b[0m: 22",
      "\nThe above exception was the direct cause of the following exception:\n",
      "\u001b[0;31mKeyError\u001b[0m                                  Traceback (most recent call last)",
      "\u001b[0;32m/tmp/ipykernel_55213/1032753983.py\u001b[0m in \u001b[0;36m<module>\u001b[0;34m\u001b[0m\n\u001b[1;32m     27\u001b[0m \u001b[0mdf4\u001b[0m \u001b[0;34m=\u001b[0m \u001b[0mdf3\u001b[0m\u001b[0;34m[\u001b[0m\u001b[0mdf3\u001b[0m\u001b[0;34m.\u001b[0m\u001b[0mLoai\u001b[0m\u001b[0;34m.\u001b[0m\u001b[0mnotnull\u001b[0m\u001b[0;34m(\u001b[0m\u001b[0;34m)\u001b[0m\u001b[0;34m]\u001b[0m\u001b[0;34m\u001b[0m\u001b[0;34m\u001b[0m\u001b[0m\n\u001b[1;32m     28\u001b[0m \u001b[0;32mfor\u001b[0m \u001b[0mi\u001b[0m \u001b[0;32min\u001b[0m \u001b[0mrange\u001b[0m\u001b[0;34m(\u001b[0m\u001b[0;36m0\u001b[0m\u001b[0;34m,\u001b[0m\u001b[0mlen\u001b[0m\u001b[0;34m(\u001b[0m\u001b[0mdf4\u001b[0m\u001b[0;34m.\u001b[0m\u001b[0mGia\u001b[0m\u001b[0;34m)\u001b[0m\u001b[0;34m)\u001b[0m\u001b[0;34m:\u001b[0m\u001b[0;34m\u001b[0m\u001b[0;34m\u001b[0m\u001b[0m\n\u001b[0;32m---> 29\u001b[0;31m     \u001b[0;32mif\u001b[0m \u001b[0;34m'GIÁ TỐT'\u001b[0m \u001b[0;32min\u001b[0m \u001b[0mdf4\u001b[0m\u001b[0;34m.\u001b[0m\u001b[0mGia\u001b[0m\u001b[0;34m[\u001b[0m\u001b[0mi\u001b[0m\u001b[0;34m]\u001b[0m\u001b[0;34m:\u001b[0m\u001b[0;34m\u001b[0m\u001b[0;34m\u001b[0m\u001b[0m\n\u001b[0m\u001b[1;32m     30\u001b[0m         \u001b[0mdf4\u001b[0m\u001b[0;34m.\u001b[0m\u001b[0mGia\u001b[0m\u001b[0;34m[\u001b[0m\u001b[0mi\u001b[0m\u001b[0;34m]\u001b[0m \u001b[0;34m=\u001b[0m \u001b[0mdf4\u001b[0m\u001b[0;34m.\u001b[0m\u001b[0mGia\u001b[0m\u001b[0;34m[\u001b[0m\u001b[0mi\u001b[0m\u001b[0;34m]\u001b[0m\u001b[0;34m.\u001b[0m\u001b[0msplit\u001b[0m\u001b[0;34m(\u001b[0m\u001b[0;34m'\\n'\u001b[0m\u001b[0;34m)\u001b[0m\u001b[0;34m[\u001b[0m\u001b[0;36m0\u001b[0m\u001b[0;34m]\u001b[0m\u001b[0;34m\u001b[0m\u001b[0;34m\u001b[0m\u001b[0m\n\u001b[1;32m     31\u001b[0m     \u001b[0;32melse\u001b[0m\u001b[0;34m:\u001b[0m\u001b[0;34m\u001b[0m\u001b[0;34m\u001b[0m\u001b[0m\n",
      "\u001b[0;32m~/.local/lib/python3.10/site-packages/pandas/core/series.py\u001b[0m in \u001b[0;36m__getitem__\u001b[0;34m(self, key)\u001b[0m\n\u001b[1;32m   1038\u001b[0m \u001b[0;34m\u001b[0m\u001b[0m\n\u001b[1;32m   1039\u001b[0m         \u001b[0;32melif\u001b[0m \u001b[0mkey_is_scalar\u001b[0m\u001b[0;34m:\u001b[0m\u001b[0;34m\u001b[0m\u001b[0;34m\u001b[0m\u001b[0m\n\u001b[0;32m-> 1040\u001b[0;31m             \u001b[0;32mreturn\u001b[0m \u001b[0mself\u001b[0m\u001b[0;34m.\u001b[0m\u001b[0m_get_value\u001b[0m\u001b[0;34m(\u001b[0m\u001b[0mkey\u001b[0m\u001b[0;34m)\u001b[0m\u001b[0;34m\u001b[0m\u001b[0;34m\u001b[0m\u001b[0m\n\u001b[0m\u001b[1;32m   1041\u001b[0m \u001b[0;34m\u001b[0m\u001b[0m\n\u001b[1;32m   1042\u001b[0m         \u001b[0;31m# Convert generator to list before going through hashable part\u001b[0m\u001b[0;34m\u001b[0m\u001b[0;34m\u001b[0m\u001b[0m\n",
      "\u001b[0;32m~/.local/lib/python3.10/site-packages/pandas/core/series.py\u001b[0m in \u001b[0;36m_get_value\u001b[0;34m(self, label, takeable)\u001b[0m\n\u001b[1;32m   1154\u001b[0m \u001b[0;34m\u001b[0m\u001b[0m\n\u001b[1;32m   1155\u001b[0m         \u001b[0;31m# Similar to Index.get_value, but we do not fall back to positional\u001b[0m\u001b[0;34m\u001b[0m\u001b[0;34m\u001b[0m\u001b[0m\n\u001b[0;32m-> 1156\u001b[0;31m         \u001b[0mloc\u001b[0m \u001b[0;34m=\u001b[0m \u001b[0mself\u001b[0m\u001b[0;34m.\u001b[0m\u001b[0mindex\u001b[0m\u001b[0;34m.\u001b[0m\u001b[0mget_loc\u001b[0m\u001b[0;34m(\u001b[0m\u001b[0mlabel\u001b[0m\u001b[0;34m)\u001b[0m\u001b[0;34m\u001b[0m\u001b[0;34m\u001b[0m\u001b[0m\n\u001b[0m\u001b[1;32m   1157\u001b[0m \u001b[0;34m\u001b[0m\u001b[0m\n\u001b[1;32m   1158\u001b[0m         \u001b[0;32mif\u001b[0m \u001b[0mis_integer\u001b[0m\u001b[0;34m(\u001b[0m\u001b[0mloc\u001b[0m\u001b[0;34m)\u001b[0m\u001b[0;34m:\u001b[0m\u001b[0;34m\u001b[0m\u001b[0;34m\u001b[0m\u001b[0m\n",
      "\u001b[0;32m~/.local/lib/python3.10/site-packages/pandas/core/indexes/base.py\u001b[0m in \u001b[0;36mget_loc\u001b[0;34m(self, key)\u001b[0m\n\u001b[1;32m   3796\u001b[0m             ):\n\u001b[1;32m   3797\u001b[0m                 \u001b[0;32mraise\u001b[0m \u001b[0mInvalidIndexError\u001b[0m\u001b[0;34m(\u001b[0m\u001b[0mkey\u001b[0m\u001b[0;34m)\u001b[0m\u001b[0;34m\u001b[0m\u001b[0;34m\u001b[0m\u001b[0m\n\u001b[0;32m-> 3798\u001b[0;31m             \u001b[0;32mraise\u001b[0m \u001b[0mKeyError\u001b[0m\u001b[0;34m(\u001b[0m\u001b[0mkey\u001b[0m\u001b[0;34m)\u001b[0m \u001b[0;32mfrom\u001b[0m \u001b[0merr\u001b[0m\u001b[0;34m\u001b[0m\u001b[0;34m\u001b[0m\u001b[0m\n\u001b[0m\u001b[1;32m   3799\u001b[0m         \u001b[0;32mexcept\u001b[0m \u001b[0mTypeError\u001b[0m\u001b[0;34m:\u001b[0m\u001b[0;34m\u001b[0m\u001b[0;34m\u001b[0m\u001b[0m\n\u001b[1;32m   3800\u001b[0m             \u001b[0;31m# If we have a listlike key, _check_indexing_error will raise\u001b[0m\u001b[0;34m\u001b[0m\u001b[0;34m\u001b[0m\u001b[0m\n",
      "\u001b[0;31mKeyError\u001b[0m: 22"
     ]
    }
   ],
   "source": [
    "df1 = df[df.DienTich.notnull()]\n",
    "df1 = df1.reset_index()\n",
    "for i in range(0,len(df1.DienTich)):\n",
    "    df1.DienTich[i]= df1.DienTich[i].split(' ')[0]\n",
    "\n",
    "## Em sẽ chỉ lấy những data có dữ liệu về phòng ngủ \n",
    "df2 = df1[df1.Phongngu.notnull()]\n",
    "for i in range(0,len(df2.Phongngu)):\n",
    "    if 'nhiều hơn' in df2.Phongngu[i]:\n",
    "        df2.Phongngu[i]= float(df2.Phongngu[i].split(' ')[2])+1\n",
    "    else:\n",
    "        df2.Phongngu[i]= df2.Phongngu[i].split(' ')[0]\n",
    "\n",
    "## Em sẽ chỉ lấy những data có dữ liệu về phòng tắm\n",
    "df3 = df2[df2.PhongTam.notnull()]\n",
    "df3 = df3.reset_index()\n",
    "for i in range(0,len(df3.PhongTam)):\n",
    "    if 'Nhiều hơn' in df3.PhongTam[i]:\n",
    "        df3.PhongTam[i]= float(df3.PhongTam[i].split(' ')[2])+1\n",
    "    else:\n",
    "        df3.PhongTam[i]= df3.PhongTam[i].split(' ')[0]\n",
    "        \n",
    "del df3['level_0']\n",
    "del df3['index']\n",
    "\n",
    "\n",
    "df4 = df3[df3.Loai.notnull()]\n",
    "for i in range(0,len(df4.Gia)):\n",
    "    if 'GIÁ TỐT' in df4.Gia[i]:\n",
    "        df4.Gia[i] = df4.Gia[i].split('\\n')[0]\n",
    "    else:\n",
    "        df4.Gia[i] = df4.Gia[i].split('-')[0]\n",
    "\n",
    "for i in range(0,len(df4.Gia)):\n",
    "    if 'tỷ' in df4.Gia[i]:\n",
    "        price = df4.Gia[i].split(' ')[0]\n",
    "        price = price.replace(',','.')\n",
    "        df4.Gia[i] = round(float(price)*1000000000,1)\n",
    "    elif 'triệu' in df4.Gia[i] :\n",
    "        price = df4.Gia[i].split(' ')[0]\n",
    "        price = price.replace(',','.')\n",
    "        df4.Gia[i] = round(float(price)*1000000,1)"
   ]
  },
  {
   "cell_type": "code",
   "execution_count": 3,
   "id": "49f86134-a980-4ed5-8ec9-d796dc30f6e8",
   "metadata": {},
   "outputs": [],
   "source": [
    "df1 = df[df.DienTich.notnull()]\n",
    "df1 = df1.reset_index()\n",
    "for i in range(0,len(df1.DienTich)):\n",
    "    df1.DienTich[i]= df1.DienTich[i].split(' ')[0]\n",
    "\n",
    "## Em sẽ chỉ lấy những data có dữ liệu về phòng ngủ \n",
    "df2 = df1[df1.Phongngu.notnull()]\n",
    "for i in range(0,len(df2.Phongngu)):\n",
    "    if 'nhiều hơn' in df2.Phongngu[i]:\n",
    "        df2.Phongngu[i]= float(df2.Phongngu[i].split(' ')[2])+1\n",
    "    else:\n",
    "        df2.Phongngu[i]= df2.Phongngu[i].split(' ')[0]\n",
    "\n",
    "## Em sẽ chỉ lấy những data có dữ liệu về phòng tắm\n",
    "df3 = df2[df2.PhongTam.notnull()]\n",
    "df3 = df3.reset_index()\n",
    "for i in range(0,len(df3.PhongTam)):\n",
    "    if 'Nhiều hơn' in df3.PhongTam[i]:\n",
    "        df3.PhongTam[i]= float(df3.PhongTam[i].split(' ')[2])+1\n",
    "    else:\n",
    "        df3.PhongTam[i]= df3.PhongTam[i].split(' ')[0]\n",
    "        \n",
    "del df3['level_0']\n",
    "del df3['index']\n",
    "\n",
    "\n",
    "df4 = df3[df3.Loai.notnull()]\n"
   ]
  },
  {
   "cell_type": "code",
   "execution_count": 4,
   "id": "1d58d710-b251-4387-9535-afee68cdc1e4",
   "metadata": {},
   "outputs": [
    {
     "name": "stdout",
     "output_type": "stream",
     "text": [
      "<class 'pandas.core.frame.DataFrame'>\n",
      "Index: 6224 entries, 0 to 6314\n",
      "Data columns (total 11 columns):\n",
      " #   Column            Non-Null Count  Dtype  \n",
      "---  ------            --------------  -----  \n",
      " 0   DienTich          6224 non-null   object \n",
      " 1   Phongngu          6224 non-null   object \n",
      " 2   PhongTam          6224 non-null   object \n",
      " 3   GiayTo            5649 non-null   object \n",
      " 4   Loai              6224 non-null   object \n",
      " 5   HuongCuaChinh     1087 non-null   object \n",
      " 6   TinhTrangNoiThat  3857 non-null   object \n",
      " 7   DiaChi            6224 non-null   object \n",
      " 8   Gia               6224 non-null   object \n",
      " 9   SoTang            5597 non-null   float64\n",
      " 10  DacDiem           165 non-null    object \n",
      "dtypes: float64(1), object(10)\n",
      "memory usage: 583.5+ KB\n"
     ]
    }
   ],
   "source": [
    "df4.info()"
   ]
  },
  {
   "cell_type": "code",
   "execution_count": 5,
   "id": "b0c46fef-c7cc-4541-aaea-d2206bb6a700",
   "metadata": {},
   "outputs": [
    {
     "ename": "KeyError",
     "evalue": "22",
     "output_type": "error",
     "traceback": [
      "\u001b[0;31m---------------------------------------------------------------------------\u001b[0m",
      "\u001b[0;31mKeyError\u001b[0m                                  Traceback (most recent call last)",
      "\u001b[0;32m~/.local/lib/python3.10/site-packages/pandas/core/indexes/base.py\u001b[0m in \u001b[0;36mget_loc\u001b[0;34m(self, key)\u001b[0m\n\u001b[1;32m   3790\u001b[0m         \u001b[0;32mtry\u001b[0m\u001b[0;34m:\u001b[0m\u001b[0;34m\u001b[0m\u001b[0;34m\u001b[0m\u001b[0m\n\u001b[0;32m-> 3791\u001b[0;31m             \u001b[0;32mreturn\u001b[0m \u001b[0mself\u001b[0m\u001b[0;34m.\u001b[0m\u001b[0m_engine\u001b[0m\u001b[0;34m.\u001b[0m\u001b[0mget_loc\u001b[0m\u001b[0;34m(\u001b[0m\u001b[0mcasted_key\u001b[0m\u001b[0;34m)\u001b[0m\u001b[0;34m\u001b[0m\u001b[0;34m\u001b[0m\u001b[0m\n\u001b[0m\u001b[1;32m   3792\u001b[0m         \u001b[0;32mexcept\u001b[0m \u001b[0mKeyError\u001b[0m \u001b[0;32mas\u001b[0m \u001b[0merr\u001b[0m\u001b[0;34m:\u001b[0m\u001b[0;34m\u001b[0m\u001b[0;34m\u001b[0m\u001b[0m\n",
      "\u001b[0;32mindex.pyx\u001b[0m in \u001b[0;36mpandas._libs.index.IndexEngine.get_loc\u001b[0;34m()\u001b[0m\n",
      "\u001b[0;32mindex.pyx\u001b[0m in \u001b[0;36mpandas._libs.index.IndexEngine.get_loc\u001b[0;34m()\u001b[0m\n",
      "\u001b[0;32mpandas/_libs/hashtable_class_helper.pxi\u001b[0m in \u001b[0;36mpandas._libs.hashtable.Int64HashTable.get_item\u001b[0;34m()\u001b[0m\n",
      "\u001b[0;32mpandas/_libs/hashtable_class_helper.pxi\u001b[0m in \u001b[0;36mpandas._libs.hashtable.Int64HashTable.get_item\u001b[0;34m()\u001b[0m\n",
      "\u001b[0;31mKeyError\u001b[0m: 22",
      "\nThe above exception was the direct cause of the following exception:\n",
      "\u001b[0;31mKeyError\u001b[0m                                  Traceback (most recent call last)",
      "\u001b[0;32m/tmp/ipykernel_55213/3191747392.py\u001b[0m in \u001b[0;36m<module>\u001b[0;34m\u001b[0m\n\u001b[1;32m      1\u001b[0m \u001b[0;32mfor\u001b[0m \u001b[0mi\u001b[0m \u001b[0;32min\u001b[0m \u001b[0mrange\u001b[0m\u001b[0;34m(\u001b[0m\u001b[0;36m0\u001b[0m\u001b[0;34m,\u001b[0m\u001b[0mlen\u001b[0m\u001b[0;34m(\u001b[0m\u001b[0mdf4\u001b[0m\u001b[0;34m.\u001b[0m\u001b[0mGia\u001b[0m\u001b[0;34m)\u001b[0m\u001b[0;34m)\u001b[0m\u001b[0;34m:\u001b[0m\u001b[0;34m\u001b[0m\u001b[0;34m\u001b[0m\u001b[0m\n\u001b[0;32m----> 2\u001b[0;31m     \u001b[0;32mif\u001b[0m \u001b[0;34m'GIÁ TỐT'\u001b[0m \u001b[0;32min\u001b[0m \u001b[0mdf4\u001b[0m\u001b[0;34m.\u001b[0m\u001b[0mGia\u001b[0m\u001b[0;34m[\u001b[0m\u001b[0mi\u001b[0m\u001b[0;34m]\u001b[0m\u001b[0;34m:\u001b[0m\u001b[0;34m\u001b[0m\u001b[0;34m\u001b[0m\u001b[0m\n\u001b[0m\u001b[1;32m      3\u001b[0m         \u001b[0mdf4\u001b[0m\u001b[0;34m.\u001b[0m\u001b[0mGia\u001b[0m\u001b[0;34m[\u001b[0m\u001b[0mi\u001b[0m\u001b[0;34m]\u001b[0m \u001b[0;34m=\u001b[0m \u001b[0mdf4\u001b[0m\u001b[0;34m.\u001b[0m\u001b[0mGia\u001b[0m\u001b[0;34m[\u001b[0m\u001b[0mi\u001b[0m\u001b[0;34m]\u001b[0m\u001b[0;34m.\u001b[0m\u001b[0msplit\u001b[0m\u001b[0;34m(\u001b[0m\u001b[0;34m'\\n'\u001b[0m\u001b[0;34m)\u001b[0m\u001b[0;34m[\u001b[0m\u001b[0;36m0\u001b[0m\u001b[0;34m]\u001b[0m\u001b[0;34m\u001b[0m\u001b[0;34m\u001b[0m\u001b[0m\n\u001b[1;32m      4\u001b[0m     \u001b[0;32melse\u001b[0m\u001b[0;34m:\u001b[0m\u001b[0;34m\u001b[0m\u001b[0;34m\u001b[0m\u001b[0m\n\u001b[1;32m      5\u001b[0m         \u001b[0mdf4\u001b[0m\u001b[0;34m.\u001b[0m\u001b[0mGia\u001b[0m\u001b[0;34m[\u001b[0m\u001b[0mi\u001b[0m\u001b[0;34m]\u001b[0m \u001b[0;34m=\u001b[0m \u001b[0mdf4\u001b[0m\u001b[0;34m.\u001b[0m\u001b[0mGia\u001b[0m\u001b[0;34m[\u001b[0m\u001b[0mi\u001b[0m\u001b[0;34m]\u001b[0m\u001b[0;34m.\u001b[0m\u001b[0msplit\u001b[0m\u001b[0;34m(\u001b[0m\u001b[0;34m'-'\u001b[0m\u001b[0;34m)\u001b[0m\u001b[0;34m[\u001b[0m\u001b[0;36m0\u001b[0m\u001b[0;34m]\u001b[0m\u001b[0;34m\u001b[0m\u001b[0;34m\u001b[0m\u001b[0m\n",
      "\u001b[0;32m~/.local/lib/python3.10/site-packages/pandas/core/series.py\u001b[0m in \u001b[0;36m__getitem__\u001b[0;34m(self, key)\u001b[0m\n\u001b[1;32m   1038\u001b[0m \u001b[0;34m\u001b[0m\u001b[0m\n\u001b[1;32m   1039\u001b[0m         \u001b[0;32melif\u001b[0m \u001b[0mkey_is_scalar\u001b[0m\u001b[0;34m:\u001b[0m\u001b[0;34m\u001b[0m\u001b[0;34m\u001b[0m\u001b[0m\n\u001b[0;32m-> 1040\u001b[0;31m             \u001b[0;32mreturn\u001b[0m \u001b[0mself\u001b[0m\u001b[0;34m.\u001b[0m\u001b[0m_get_value\u001b[0m\u001b[0;34m(\u001b[0m\u001b[0mkey\u001b[0m\u001b[0;34m)\u001b[0m\u001b[0;34m\u001b[0m\u001b[0;34m\u001b[0m\u001b[0m\n\u001b[0m\u001b[1;32m   1041\u001b[0m \u001b[0;34m\u001b[0m\u001b[0m\n\u001b[1;32m   1042\u001b[0m         \u001b[0;31m# Convert generator to list before going through hashable part\u001b[0m\u001b[0;34m\u001b[0m\u001b[0;34m\u001b[0m\u001b[0m\n",
      "\u001b[0;32m~/.local/lib/python3.10/site-packages/pandas/core/series.py\u001b[0m in \u001b[0;36m_get_value\u001b[0;34m(self, label, takeable)\u001b[0m\n\u001b[1;32m   1154\u001b[0m \u001b[0;34m\u001b[0m\u001b[0m\n\u001b[1;32m   1155\u001b[0m         \u001b[0;31m# Similar to Index.get_value, but we do not fall back to positional\u001b[0m\u001b[0;34m\u001b[0m\u001b[0;34m\u001b[0m\u001b[0m\n\u001b[0;32m-> 1156\u001b[0;31m         \u001b[0mloc\u001b[0m \u001b[0;34m=\u001b[0m \u001b[0mself\u001b[0m\u001b[0;34m.\u001b[0m\u001b[0mindex\u001b[0m\u001b[0;34m.\u001b[0m\u001b[0mget_loc\u001b[0m\u001b[0;34m(\u001b[0m\u001b[0mlabel\u001b[0m\u001b[0;34m)\u001b[0m\u001b[0;34m\u001b[0m\u001b[0;34m\u001b[0m\u001b[0m\n\u001b[0m\u001b[1;32m   1157\u001b[0m \u001b[0;34m\u001b[0m\u001b[0m\n\u001b[1;32m   1158\u001b[0m         \u001b[0;32mif\u001b[0m \u001b[0mis_integer\u001b[0m\u001b[0;34m(\u001b[0m\u001b[0mloc\u001b[0m\u001b[0;34m)\u001b[0m\u001b[0;34m:\u001b[0m\u001b[0;34m\u001b[0m\u001b[0;34m\u001b[0m\u001b[0m\n",
      "\u001b[0;32m~/.local/lib/python3.10/site-packages/pandas/core/indexes/base.py\u001b[0m in \u001b[0;36mget_loc\u001b[0;34m(self, key)\u001b[0m\n\u001b[1;32m   3796\u001b[0m             ):\n\u001b[1;32m   3797\u001b[0m                 \u001b[0;32mraise\u001b[0m \u001b[0mInvalidIndexError\u001b[0m\u001b[0;34m(\u001b[0m\u001b[0mkey\u001b[0m\u001b[0;34m)\u001b[0m\u001b[0;34m\u001b[0m\u001b[0;34m\u001b[0m\u001b[0m\n\u001b[0;32m-> 3798\u001b[0;31m             \u001b[0;32mraise\u001b[0m \u001b[0mKeyError\u001b[0m\u001b[0;34m(\u001b[0m\u001b[0mkey\u001b[0m\u001b[0;34m)\u001b[0m \u001b[0;32mfrom\u001b[0m \u001b[0merr\u001b[0m\u001b[0;34m\u001b[0m\u001b[0;34m\u001b[0m\u001b[0m\n\u001b[0m\u001b[1;32m   3799\u001b[0m         \u001b[0;32mexcept\u001b[0m \u001b[0mTypeError\u001b[0m\u001b[0;34m:\u001b[0m\u001b[0;34m\u001b[0m\u001b[0;34m\u001b[0m\u001b[0m\n\u001b[1;32m   3800\u001b[0m             \u001b[0;31m# If we have a listlike key, _check_indexing_error will raise\u001b[0m\u001b[0;34m\u001b[0m\u001b[0;34m\u001b[0m\u001b[0m\n",
      "\u001b[0;31mKeyError\u001b[0m: 22"
     ]
    }
   ],
   "source": [
    "for i in range(0,len(df4.Gia)):\n",
    "    if 'GIÁ TỐT' in df4.Gia[i]:\n",
    "        df4.Gia[i] = df4.Gia[i].split('\\n')[0]\n",
    "    else:\n",
    "        df4.Gia[i] = df4.Gia[i].split('-')[0]"
   ]
  },
  {
   "cell_type": "code",
   "execution_count": 6,
   "id": "8b7f35cd-667b-454d-a5ab-6545e15e78e6",
   "metadata": {},
   "outputs": [
    {
     "name": "stdout",
     "output_type": "stream",
     "text": [
      "2,95 tỷ \n",
      "4,95 tỷ \n",
      "6,65 tỷ \n",
      "4,7 tỷ \n",
      "4,3 tỷ \n",
      "7,8 tỷ \n",
      "4,2 tỷ \n",
      "6,35 tỷ \n",
      "15,8 tỷ \n",
      "5,9 tỷ \n",
      "6,2 tỷ \n",
      "3,95 tỷ \n",
      "4 tỷ \n",
      "10,9 tỷ \n",
      "8,65 tỷ \n",
      "5,12 tỷ \n",
      "2,3 tỷ \n",
      "2,55 tỷ \n",
      "2,55 tỷ \n",
      "2,99 tỷ \n",
      "2,45 tỷ \n",
      "1,8 tỷ \n"
     ]
    },
    {
     "ename": "KeyError",
     "evalue": "22",
     "output_type": "error",
     "traceback": [
      "\u001b[0;31m---------------------------------------------------------------------------\u001b[0m",
      "\u001b[0;31mKeyError\u001b[0m                                  Traceback (most recent call last)",
      "\u001b[0;32m~/.local/lib/python3.10/site-packages/pandas/core/indexes/base.py\u001b[0m in \u001b[0;36mget_loc\u001b[0;34m(self, key)\u001b[0m\n\u001b[1;32m   3790\u001b[0m         \u001b[0;32mtry\u001b[0m\u001b[0;34m:\u001b[0m\u001b[0;34m\u001b[0m\u001b[0;34m\u001b[0m\u001b[0m\n\u001b[0;32m-> 3791\u001b[0;31m             \u001b[0;32mreturn\u001b[0m \u001b[0mself\u001b[0m\u001b[0;34m.\u001b[0m\u001b[0m_engine\u001b[0m\u001b[0;34m.\u001b[0m\u001b[0mget_loc\u001b[0m\u001b[0;34m(\u001b[0m\u001b[0mcasted_key\u001b[0m\u001b[0;34m)\u001b[0m\u001b[0;34m\u001b[0m\u001b[0;34m\u001b[0m\u001b[0m\n\u001b[0m\u001b[1;32m   3792\u001b[0m         \u001b[0;32mexcept\u001b[0m \u001b[0mKeyError\u001b[0m \u001b[0;32mas\u001b[0m \u001b[0merr\u001b[0m\u001b[0;34m:\u001b[0m\u001b[0;34m\u001b[0m\u001b[0;34m\u001b[0m\u001b[0m\n",
      "\u001b[0;32mindex.pyx\u001b[0m in \u001b[0;36mpandas._libs.index.IndexEngine.get_loc\u001b[0;34m()\u001b[0m\n",
      "\u001b[0;32mindex.pyx\u001b[0m in \u001b[0;36mpandas._libs.index.IndexEngine.get_loc\u001b[0;34m()\u001b[0m\n",
      "\u001b[0;32mpandas/_libs/hashtable_class_helper.pxi\u001b[0m in \u001b[0;36mpandas._libs.hashtable.Int64HashTable.get_item\u001b[0;34m()\u001b[0m\n",
      "\u001b[0;32mpandas/_libs/hashtable_class_helper.pxi\u001b[0m in \u001b[0;36mpandas._libs.hashtable.Int64HashTable.get_item\u001b[0;34m()\u001b[0m\n",
      "\u001b[0;31mKeyError\u001b[0m: 22",
      "\nThe above exception was the direct cause of the following exception:\n",
      "\u001b[0;31mKeyError\u001b[0m                                  Traceback (most recent call last)",
      "\u001b[0;32m/tmp/ipykernel_55213/4218242752.py\u001b[0m in \u001b[0;36m<module>\u001b[0;34m\u001b[0m\n\u001b[1;32m      1\u001b[0m \u001b[0;32mfor\u001b[0m \u001b[0mi\u001b[0m \u001b[0;32min\u001b[0m \u001b[0mrange\u001b[0m\u001b[0;34m(\u001b[0m\u001b[0;36m0\u001b[0m\u001b[0;34m,\u001b[0m\u001b[0mlen\u001b[0m\u001b[0;34m(\u001b[0m\u001b[0mdf4\u001b[0m\u001b[0;34m.\u001b[0m\u001b[0mGia\u001b[0m\u001b[0;34m)\u001b[0m\u001b[0;34m)\u001b[0m\u001b[0;34m:\u001b[0m\u001b[0;34m\u001b[0m\u001b[0;34m\u001b[0m\u001b[0m\n\u001b[0;32m----> 2\u001b[0;31m     \u001b[0mprint\u001b[0m\u001b[0;34m(\u001b[0m\u001b[0mdf4\u001b[0m\u001b[0;34m.\u001b[0m\u001b[0mGia\u001b[0m\u001b[0;34m[\u001b[0m\u001b[0mi\u001b[0m\u001b[0;34m]\u001b[0m\u001b[0;34m)\u001b[0m\u001b[0;34m\u001b[0m\u001b[0;34m\u001b[0m\u001b[0m\n\u001b[0m",
      "\u001b[0;32m~/.local/lib/python3.10/site-packages/pandas/core/series.py\u001b[0m in \u001b[0;36m__getitem__\u001b[0;34m(self, key)\u001b[0m\n\u001b[1;32m   1038\u001b[0m \u001b[0;34m\u001b[0m\u001b[0m\n\u001b[1;32m   1039\u001b[0m         \u001b[0;32melif\u001b[0m \u001b[0mkey_is_scalar\u001b[0m\u001b[0;34m:\u001b[0m\u001b[0;34m\u001b[0m\u001b[0;34m\u001b[0m\u001b[0m\n\u001b[0;32m-> 1040\u001b[0;31m             \u001b[0;32mreturn\u001b[0m \u001b[0mself\u001b[0m\u001b[0;34m.\u001b[0m\u001b[0m_get_value\u001b[0m\u001b[0;34m(\u001b[0m\u001b[0mkey\u001b[0m\u001b[0;34m)\u001b[0m\u001b[0;34m\u001b[0m\u001b[0;34m\u001b[0m\u001b[0m\n\u001b[0m\u001b[1;32m   1041\u001b[0m \u001b[0;34m\u001b[0m\u001b[0m\n\u001b[1;32m   1042\u001b[0m         \u001b[0;31m# Convert generator to list before going through hashable part\u001b[0m\u001b[0;34m\u001b[0m\u001b[0;34m\u001b[0m\u001b[0m\n",
      "\u001b[0;32m~/.local/lib/python3.10/site-packages/pandas/core/series.py\u001b[0m in \u001b[0;36m_get_value\u001b[0;34m(self, label, takeable)\u001b[0m\n\u001b[1;32m   1154\u001b[0m \u001b[0;34m\u001b[0m\u001b[0m\n\u001b[1;32m   1155\u001b[0m         \u001b[0;31m# Similar to Index.get_value, but we do not fall back to positional\u001b[0m\u001b[0;34m\u001b[0m\u001b[0;34m\u001b[0m\u001b[0m\n\u001b[0;32m-> 1156\u001b[0;31m         \u001b[0mloc\u001b[0m \u001b[0;34m=\u001b[0m \u001b[0mself\u001b[0m\u001b[0;34m.\u001b[0m\u001b[0mindex\u001b[0m\u001b[0;34m.\u001b[0m\u001b[0mget_loc\u001b[0m\u001b[0;34m(\u001b[0m\u001b[0mlabel\u001b[0m\u001b[0;34m)\u001b[0m\u001b[0;34m\u001b[0m\u001b[0;34m\u001b[0m\u001b[0m\n\u001b[0m\u001b[1;32m   1157\u001b[0m \u001b[0;34m\u001b[0m\u001b[0m\n\u001b[1;32m   1158\u001b[0m         \u001b[0;32mif\u001b[0m \u001b[0mis_integer\u001b[0m\u001b[0;34m(\u001b[0m\u001b[0mloc\u001b[0m\u001b[0;34m)\u001b[0m\u001b[0;34m:\u001b[0m\u001b[0;34m\u001b[0m\u001b[0;34m\u001b[0m\u001b[0m\n",
      "\u001b[0;32m~/.local/lib/python3.10/site-packages/pandas/core/indexes/base.py\u001b[0m in \u001b[0;36mget_loc\u001b[0;34m(self, key)\u001b[0m\n\u001b[1;32m   3796\u001b[0m             ):\n\u001b[1;32m   3797\u001b[0m                 \u001b[0;32mraise\u001b[0m \u001b[0mInvalidIndexError\u001b[0m\u001b[0;34m(\u001b[0m\u001b[0mkey\u001b[0m\u001b[0;34m)\u001b[0m\u001b[0;34m\u001b[0m\u001b[0;34m\u001b[0m\u001b[0m\n\u001b[0;32m-> 3798\u001b[0;31m             \u001b[0;32mraise\u001b[0m \u001b[0mKeyError\u001b[0m\u001b[0;34m(\u001b[0m\u001b[0mkey\u001b[0m\u001b[0;34m)\u001b[0m \u001b[0;32mfrom\u001b[0m \u001b[0merr\u001b[0m\u001b[0;34m\u001b[0m\u001b[0;34m\u001b[0m\u001b[0m\n\u001b[0m\u001b[1;32m   3799\u001b[0m         \u001b[0;32mexcept\u001b[0m \u001b[0mTypeError\u001b[0m\u001b[0;34m:\u001b[0m\u001b[0;34m\u001b[0m\u001b[0;34m\u001b[0m\u001b[0m\n\u001b[1;32m   3800\u001b[0m             \u001b[0;31m# If we have a listlike key, _check_indexing_error will raise\u001b[0m\u001b[0;34m\u001b[0m\u001b[0;34m\u001b[0m\u001b[0m\n",
      "\u001b[0;31mKeyError\u001b[0m: 22"
     ]
    }
   ],
   "source": []
  },
  {
   "cell_type": "code",
   "execution_count": 7,
   "id": "6c4c9c83-e356-4936-a24a-fae3cda36fe5",
   "metadata": {},
   "outputs": [
    {
     "name": "stdout",
     "output_type": "stream",
     "text": [
      "0              2,95 tỷ \n",
      "1              4,95 tỷ \n",
      "2              6,65 tỷ \n",
      "3               4,7 tỷ \n",
      "4               4,3 tỷ \n",
      "             ...       \n",
      "6310    5,15 tỷ - 32 m2\n",
      "6311    3,55 tỷ - 40 m2\n",
      "6312     5,1 tỷ - 60 m2\n",
      "6313    2,69 tỷ - 35 m2\n",
      "6314       8 tỷ - 43 m2\n",
      "Name: Gia, Length: 6224, dtype: object\n"
     ]
    }
   ],
   "source": [
    "print(df4.Gia)"
   ]
  },
  {
   "cell_type": "code",
   "execution_count": 10,
   "id": "c1aff5d3-2b83-4e76-bbde-2d09165ea516",
   "metadata": {},
   "outputs": [
    {
     "name": "stdout",
     "output_type": "stream",
     "text": [
      "6,95 tỷ - 100 m2\n"
     ]
    }
   ],
   "source": [
    "print(df4.Gia[23])"
   ]
  },
  {
   "cell_type": "code",
   "execution_count": 14,
   "id": "799ed301-190b-4e9c-8922-57dbd59cb480",
   "metadata": {},
   "outputs": [
    {
     "ename": "KeyError",
     "evalue": "22",
     "output_type": "error",
     "traceback": [
      "\u001b[0;31m---------------------------------------------------------------------------\u001b[0m",
      "\u001b[0;31mKeyError\u001b[0m                                  Traceback (most recent call last)",
      "\u001b[0;32m~/.local/lib/python3.10/site-packages/pandas/core/indexes/base.py\u001b[0m in \u001b[0;36mget_loc\u001b[0;34m(self, key)\u001b[0m\n\u001b[1;32m   3790\u001b[0m         \u001b[0;32mtry\u001b[0m\u001b[0;34m:\u001b[0m\u001b[0;34m\u001b[0m\u001b[0;34m\u001b[0m\u001b[0m\n\u001b[0;32m-> 3791\u001b[0;31m             \u001b[0;32mreturn\u001b[0m \u001b[0mself\u001b[0m\u001b[0;34m.\u001b[0m\u001b[0m_engine\u001b[0m\u001b[0;34m.\u001b[0m\u001b[0mget_loc\u001b[0m\u001b[0;34m(\u001b[0m\u001b[0mcasted_key\u001b[0m\u001b[0;34m)\u001b[0m\u001b[0;34m\u001b[0m\u001b[0;34m\u001b[0m\u001b[0m\n\u001b[0m\u001b[1;32m   3792\u001b[0m         \u001b[0;32mexcept\u001b[0m \u001b[0mKeyError\u001b[0m \u001b[0;32mas\u001b[0m \u001b[0merr\u001b[0m\u001b[0;34m:\u001b[0m\u001b[0;34m\u001b[0m\u001b[0;34m\u001b[0m\u001b[0m\n",
      "\u001b[0;32mindex.pyx\u001b[0m in \u001b[0;36mpandas._libs.index.IndexEngine.get_loc\u001b[0;34m()\u001b[0m\n",
      "\u001b[0;32mindex.pyx\u001b[0m in \u001b[0;36mpandas._libs.index.IndexEngine.get_loc\u001b[0;34m()\u001b[0m\n",
      "\u001b[0;32mpandas/_libs/hashtable_class_helper.pxi\u001b[0m in \u001b[0;36mpandas._libs.hashtable.PyObjectHashTable.get_item\u001b[0;34m()\u001b[0m\n",
      "\u001b[0;32mpandas/_libs/hashtable_class_helper.pxi\u001b[0m in \u001b[0;36mpandas._libs.hashtable.PyObjectHashTable.get_item\u001b[0;34m()\u001b[0m\n",
      "\u001b[0;31mKeyError\u001b[0m: 22",
      "\nThe above exception was the direct cause of the following exception:\n",
      "\u001b[0;31mKeyError\u001b[0m                                  Traceback (most recent call last)",
      "\u001b[0;32m/tmp/ipykernel_55213/980149246.py\u001b[0m in \u001b[0;36m<module>\u001b[0;34m\u001b[0m\n\u001b[0;32m----> 1\u001b[0;31m \u001b[0mdf4\u001b[0m\u001b[0;34m[\u001b[0m\u001b[0;36m22\u001b[0m\u001b[0;34m]\u001b[0m\u001b[0;34m\u001b[0m\u001b[0;34m\u001b[0m\u001b[0m\n\u001b[0m",
      "\u001b[0;32m~/.local/lib/python3.10/site-packages/pandas/core/frame.py\u001b[0m in \u001b[0;36m__getitem__\u001b[0;34m(self, key)\u001b[0m\n\u001b[1;32m   3891\u001b[0m             \u001b[0;32mif\u001b[0m \u001b[0mself\u001b[0m\u001b[0;34m.\u001b[0m\u001b[0mcolumns\u001b[0m\u001b[0;34m.\u001b[0m\u001b[0mnlevels\u001b[0m \u001b[0;34m>\u001b[0m \u001b[0;36m1\u001b[0m\u001b[0;34m:\u001b[0m\u001b[0;34m\u001b[0m\u001b[0;34m\u001b[0m\u001b[0m\n\u001b[1;32m   3892\u001b[0m                 \u001b[0;32mreturn\u001b[0m \u001b[0mself\u001b[0m\u001b[0;34m.\u001b[0m\u001b[0m_getitem_multilevel\u001b[0m\u001b[0;34m(\u001b[0m\u001b[0mkey\u001b[0m\u001b[0;34m)\u001b[0m\u001b[0;34m\u001b[0m\u001b[0;34m\u001b[0m\u001b[0m\n\u001b[0;32m-> 3893\u001b[0;31m             \u001b[0mindexer\u001b[0m \u001b[0;34m=\u001b[0m \u001b[0mself\u001b[0m\u001b[0;34m.\u001b[0m\u001b[0mcolumns\u001b[0m\u001b[0;34m.\u001b[0m\u001b[0mget_loc\u001b[0m\u001b[0;34m(\u001b[0m\u001b[0mkey\u001b[0m\u001b[0;34m)\u001b[0m\u001b[0;34m\u001b[0m\u001b[0;34m\u001b[0m\u001b[0m\n\u001b[0m\u001b[1;32m   3894\u001b[0m             \u001b[0;32mif\u001b[0m \u001b[0mis_integer\u001b[0m\u001b[0;34m(\u001b[0m\u001b[0mindexer\u001b[0m\u001b[0;34m)\u001b[0m\u001b[0;34m:\u001b[0m\u001b[0;34m\u001b[0m\u001b[0;34m\u001b[0m\u001b[0m\n\u001b[1;32m   3895\u001b[0m                 \u001b[0mindexer\u001b[0m \u001b[0;34m=\u001b[0m \u001b[0;34m[\u001b[0m\u001b[0mindexer\u001b[0m\u001b[0;34m]\u001b[0m\u001b[0;34m\u001b[0m\u001b[0;34m\u001b[0m\u001b[0m\n",
      "\u001b[0;32m~/.local/lib/python3.10/site-packages/pandas/core/indexes/base.py\u001b[0m in \u001b[0;36mget_loc\u001b[0;34m(self, key)\u001b[0m\n\u001b[1;32m   3796\u001b[0m             ):\n\u001b[1;32m   3797\u001b[0m                 \u001b[0;32mraise\u001b[0m \u001b[0mInvalidIndexError\u001b[0m\u001b[0;34m(\u001b[0m\u001b[0mkey\u001b[0m\u001b[0;34m)\u001b[0m\u001b[0;34m\u001b[0m\u001b[0;34m\u001b[0m\u001b[0m\n\u001b[0;32m-> 3798\u001b[0;31m             \u001b[0;32mraise\u001b[0m \u001b[0mKeyError\u001b[0m\u001b[0;34m(\u001b[0m\u001b[0mkey\u001b[0m\u001b[0;34m)\u001b[0m \u001b[0;32mfrom\u001b[0m \u001b[0merr\u001b[0m\u001b[0;34m\u001b[0m\u001b[0;34m\u001b[0m\u001b[0m\n\u001b[0m\u001b[1;32m   3799\u001b[0m         \u001b[0;32mexcept\u001b[0m \u001b[0mTypeError\u001b[0m\u001b[0;34m:\u001b[0m\u001b[0;34m\u001b[0m\u001b[0;34m\u001b[0m\u001b[0m\n\u001b[1;32m   3800\u001b[0m             \u001b[0;31m# If we have a listlike key, _check_indexing_error will raise\u001b[0m\u001b[0;34m\u001b[0m\u001b[0;34m\u001b[0m\u001b[0m\n",
      "\u001b[0;31mKeyError\u001b[0m: 22"
     ]
    }
   ],
   "source": [
    "df4[22]"
   ]
  },
  {
   "cell_type": "code",
   "execution_count": 18,
   "id": "cb373d40-2e49-4849-b189-c86a38a3c71a",
   "metadata": {},
   "outputs": [
    {
     "name": "stdout",
     "output_type": "stream",
     "text": [
      "DienTich                                                           33\n",
      "Phongngu                                                            4\n",
      "PhongTam                                                            3\n",
      "GiayTo                                                       Đã có sổ\n",
      "Loai                                                     Nhà ngõ, hẻm\n",
      "HuongCuaChinh                                                     NaN\n",
      "TinhTrangNoiThat                                      Nội thất đầy đủ\n",
      "DiaChi              Hòa Bình, Phường Biên Giang, Quận Hà Đông, Hà ...\n",
      "Gia                                                    2,4 tỷ - 33 m2\n",
      "SoTang                                                            4.0\n",
      "DacDiem                                                           NaN\n",
      "Name: 24, dtype: object\n"
     ]
    }
   ],
   "source": [
    "print(df4.iloc[23])"
   ]
  },
  {
   "cell_type": "code",
   "execution_count": 19,
   "id": "470bad39-6d4b-433e-9be6-7e736681133f",
   "metadata": {},
   "outputs": [
    {
     "name": "stdout",
     "output_type": "stream",
     "text": [
      "1,8 tỷ \n"
     ]
    }
   ],
   "source": [
    "print(df4.Gia[21])"
   ]
  },
  {
   "cell_type": "code",
   "execution_count": 20,
   "id": "082d7f1b-31d8-49a1-80dc-7318a7694a50",
   "metadata": {},
   "outputs": [
    {
     "ename": "KeyError",
     "evalue": "22",
     "output_type": "error",
     "traceback": [
      "\u001b[0;31m---------------------------------------------------------------------------\u001b[0m",
      "\u001b[0;31mKeyError\u001b[0m                                  Traceback (most recent call last)",
      "\u001b[0;32m~/.local/lib/python3.10/site-packages/pandas/core/indexes/base.py\u001b[0m in \u001b[0;36mget_loc\u001b[0;34m(self, key)\u001b[0m\n\u001b[1;32m   3790\u001b[0m         \u001b[0;32mtry\u001b[0m\u001b[0;34m:\u001b[0m\u001b[0;34m\u001b[0m\u001b[0;34m\u001b[0m\u001b[0m\n\u001b[0;32m-> 3791\u001b[0;31m             \u001b[0;32mreturn\u001b[0m \u001b[0mself\u001b[0m\u001b[0;34m.\u001b[0m\u001b[0m_engine\u001b[0m\u001b[0;34m.\u001b[0m\u001b[0mget_loc\u001b[0m\u001b[0;34m(\u001b[0m\u001b[0mcasted_key\u001b[0m\u001b[0;34m)\u001b[0m\u001b[0;34m\u001b[0m\u001b[0;34m\u001b[0m\u001b[0m\n\u001b[0m\u001b[1;32m   3792\u001b[0m         \u001b[0;32mexcept\u001b[0m \u001b[0mKeyError\u001b[0m \u001b[0;32mas\u001b[0m \u001b[0merr\u001b[0m\u001b[0;34m:\u001b[0m\u001b[0;34m\u001b[0m\u001b[0;34m\u001b[0m\u001b[0m\n",
      "\u001b[0;32mindex.pyx\u001b[0m in \u001b[0;36mpandas._libs.index.IndexEngine.get_loc\u001b[0;34m()\u001b[0m\n",
      "\u001b[0;32mindex.pyx\u001b[0m in \u001b[0;36mpandas._libs.index.IndexEngine.get_loc\u001b[0;34m()\u001b[0m\n",
      "\u001b[0;32mpandas/_libs/hashtable_class_helper.pxi\u001b[0m in \u001b[0;36mpandas._libs.hashtable.Int64HashTable.get_item\u001b[0;34m()\u001b[0m\n",
      "\u001b[0;32mpandas/_libs/hashtable_class_helper.pxi\u001b[0m in \u001b[0;36mpandas._libs.hashtable.Int64HashTable.get_item\u001b[0;34m()\u001b[0m\n",
      "\u001b[0;31mKeyError\u001b[0m: 22",
      "\nThe above exception was the direct cause of the following exception:\n",
      "\u001b[0;31mKeyError\u001b[0m                                  Traceback (most recent call last)",
      "\u001b[0;32m/tmp/ipykernel_55213/1198050171.py\u001b[0m in \u001b[0;36m<module>\u001b[0;34m\u001b[0m\n\u001b[0;32m----> 1\u001b[0;31m \u001b[0mprint\u001b[0m\u001b[0;34m(\u001b[0m\u001b[0mdf4\u001b[0m\u001b[0;34m.\u001b[0m\u001b[0mGia\u001b[0m\u001b[0;34m[\u001b[0m\u001b[0;36m22\u001b[0m\u001b[0;34m]\u001b[0m\u001b[0;34m)\u001b[0m\u001b[0;34m\u001b[0m\u001b[0;34m\u001b[0m\u001b[0m\n\u001b[0m",
      "\u001b[0;32m~/.local/lib/python3.10/site-packages/pandas/core/series.py\u001b[0m in \u001b[0;36m__getitem__\u001b[0;34m(self, key)\u001b[0m\n\u001b[1;32m   1038\u001b[0m \u001b[0;34m\u001b[0m\u001b[0m\n\u001b[1;32m   1039\u001b[0m         \u001b[0;32melif\u001b[0m \u001b[0mkey_is_scalar\u001b[0m\u001b[0;34m:\u001b[0m\u001b[0;34m\u001b[0m\u001b[0;34m\u001b[0m\u001b[0m\n\u001b[0;32m-> 1040\u001b[0;31m             \u001b[0;32mreturn\u001b[0m \u001b[0mself\u001b[0m\u001b[0;34m.\u001b[0m\u001b[0m_get_value\u001b[0m\u001b[0;34m(\u001b[0m\u001b[0mkey\u001b[0m\u001b[0;34m)\u001b[0m\u001b[0;34m\u001b[0m\u001b[0;34m\u001b[0m\u001b[0m\n\u001b[0m\u001b[1;32m   1041\u001b[0m \u001b[0;34m\u001b[0m\u001b[0m\n\u001b[1;32m   1042\u001b[0m         \u001b[0;31m# Convert generator to list before going through hashable part\u001b[0m\u001b[0;34m\u001b[0m\u001b[0;34m\u001b[0m\u001b[0m\n",
      "\u001b[0;32m~/.local/lib/python3.10/site-packages/pandas/core/series.py\u001b[0m in \u001b[0;36m_get_value\u001b[0;34m(self, label, takeable)\u001b[0m\n\u001b[1;32m   1154\u001b[0m \u001b[0;34m\u001b[0m\u001b[0m\n\u001b[1;32m   1155\u001b[0m         \u001b[0;31m# Similar to Index.get_value, but we do not fall back to positional\u001b[0m\u001b[0;34m\u001b[0m\u001b[0;34m\u001b[0m\u001b[0m\n\u001b[0;32m-> 1156\u001b[0;31m         \u001b[0mloc\u001b[0m \u001b[0;34m=\u001b[0m \u001b[0mself\u001b[0m\u001b[0;34m.\u001b[0m\u001b[0mindex\u001b[0m\u001b[0;34m.\u001b[0m\u001b[0mget_loc\u001b[0m\u001b[0;34m(\u001b[0m\u001b[0mlabel\u001b[0m\u001b[0;34m)\u001b[0m\u001b[0;34m\u001b[0m\u001b[0;34m\u001b[0m\u001b[0m\n\u001b[0m\u001b[1;32m   1157\u001b[0m \u001b[0;34m\u001b[0m\u001b[0m\n\u001b[1;32m   1158\u001b[0m         \u001b[0;32mif\u001b[0m \u001b[0mis_integer\u001b[0m\u001b[0;34m(\u001b[0m\u001b[0mloc\u001b[0m\u001b[0;34m)\u001b[0m\u001b[0;34m:\u001b[0m\u001b[0;34m\u001b[0m\u001b[0;34m\u001b[0m\u001b[0m\n",
      "\u001b[0;32m~/.local/lib/python3.10/site-packages/pandas/core/indexes/base.py\u001b[0m in \u001b[0;36mget_loc\u001b[0;34m(self, key)\u001b[0m\n\u001b[1;32m   3796\u001b[0m             ):\n\u001b[1;32m   3797\u001b[0m                 \u001b[0;32mraise\u001b[0m \u001b[0mInvalidIndexError\u001b[0m\u001b[0;34m(\u001b[0m\u001b[0mkey\u001b[0m\u001b[0;34m)\u001b[0m\u001b[0;34m\u001b[0m\u001b[0;34m\u001b[0m\u001b[0m\n\u001b[0;32m-> 3798\u001b[0;31m             \u001b[0;32mraise\u001b[0m \u001b[0mKeyError\u001b[0m\u001b[0;34m(\u001b[0m\u001b[0mkey\u001b[0m\u001b[0;34m)\u001b[0m \u001b[0;32mfrom\u001b[0m \u001b[0merr\u001b[0m\u001b[0;34m\u001b[0m\u001b[0;34m\u001b[0m\u001b[0m\n\u001b[0m\u001b[1;32m   3799\u001b[0m         \u001b[0;32mexcept\u001b[0m \u001b[0mTypeError\u001b[0m\u001b[0;34m:\u001b[0m\u001b[0;34m\u001b[0m\u001b[0;34m\u001b[0m\u001b[0m\n\u001b[1;32m   3800\u001b[0m             \u001b[0;31m# If we have a listlike key, _check_indexing_error will raise\u001b[0m\u001b[0;34m\u001b[0m\u001b[0;34m\u001b[0m\u001b[0m\n",
      "\u001b[0;31mKeyError\u001b[0m: 22"
     ]
    }
   ],
   "source": [
    "print(df4.Gia[22])"
   ]
  },
  {
   "cell_type": "code",
   "execution_count": 22,
   "id": "ba8c041f-2725-4ddc-9c90-fa25c717fd50",
   "metadata": {},
   "outputs": [
    {
     "name": "stdout",
     "output_type": "stream",
     "text": [
      "DienTich                                                           30\n",
      "Phongngu                                                            3\n",
      "PhongTam                                                            3\n",
      "GiayTo                                                            NaN\n",
      "Loai                                                     Nhà ngõ, hẻm\n",
      "HuongCuaChinh                                                 Tây Nam\n",
      "TinhTrangNoiThat                                      Nội thất đầy đủ\n",
      "DiaChi              65, An Thắng, Phường Biên Giang, Quận Hà Đông,...\n",
      "Gia                                                           1,8 tỷ \n",
      "SoTang                                                            NaN\n",
      "DacDiem                                             Hẻm xe hơi,Nở hậu\n",
      "Name: 21, dtype: object\n"
     ]
    }
   ],
   "source": [
    "print(df4.iloc[21])"
   ]
  },
  {
   "cell_type": "code",
   "execution_count": 23,
   "id": "344c2bce-cf8c-4138-91a4-f4bff0d26203",
   "metadata": {},
   "outputs": [
    {
     "name": "stdout",
     "output_type": "stream",
     "text": [
      "0              2,95 tỷ \n",
      "1              4,95 tỷ \n",
      "2              6,65 tỷ \n",
      "3               4,7 tỷ \n",
      "4               4,3 tỷ \n",
      "             ...       \n",
      "6310    5,15 tỷ - 32 m2\n",
      "6311    3,55 tỷ - 40 m2\n",
      "6312     5,1 tỷ - 60 m2\n",
      "6313    2,69 tỷ - 35 m2\n",
      "6314       8 tỷ - 43 m2\n",
      "Name: Gia, Length: 6224, dtype: object\n"
     ]
    }
   ],
   "source": [
    "print(df4['Gia'])"
   ]
  },
  {
   "cell_type": "code",
   "execution_count": 24,
   "id": "4606863d-966b-4da9-8fc1-05b3b854a19f",
   "metadata": {},
   "outputs": [
    {
     "name": "stdout",
     "output_type": "stream",
     "text": [
      "2,95 tỷ \n"
     ]
    }
   ],
   "source": [
    "print(df4['Gia'][0])"
   ]
  },
  {
   "cell_type": "code",
   "execution_count": 25,
   "id": "31ecee4b-09ac-43e9-9b3f-d52431fe7c48",
   "metadata": {},
   "outputs": [
    {
     "ename": "KeyError",
     "evalue": "22",
     "output_type": "error",
     "traceback": [
      "\u001b[0;31m---------------------------------------------------------------------------\u001b[0m",
      "\u001b[0;31mKeyError\u001b[0m                                  Traceback (most recent call last)",
      "\u001b[0;32m~/.local/lib/python3.10/site-packages/pandas/core/indexes/base.py\u001b[0m in \u001b[0;36mget_loc\u001b[0;34m(self, key)\u001b[0m\n\u001b[1;32m   3790\u001b[0m         \u001b[0;32mtry\u001b[0m\u001b[0;34m:\u001b[0m\u001b[0;34m\u001b[0m\u001b[0;34m\u001b[0m\u001b[0m\n\u001b[0;32m-> 3791\u001b[0;31m             \u001b[0;32mreturn\u001b[0m \u001b[0mself\u001b[0m\u001b[0;34m.\u001b[0m\u001b[0m_engine\u001b[0m\u001b[0;34m.\u001b[0m\u001b[0mget_loc\u001b[0m\u001b[0;34m(\u001b[0m\u001b[0mcasted_key\u001b[0m\u001b[0;34m)\u001b[0m\u001b[0;34m\u001b[0m\u001b[0;34m\u001b[0m\u001b[0m\n\u001b[0m\u001b[1;32m   3792\u001b[0m         \u001b[0;32mexcept\u001b[0m \u001b[0mKeyError\u001b[0m \u001b[0;32mas\u001b[0m \u001b[0merr\u001b[0m\u001b[0;34m:\u001b[0m\u001b[0;34m\u001b[0m\u001b[0;34m\u001b[0m\u001b[0m\n",
      "\u001b[0;32mindex.pyx\u001b[0m in \u001b[0;36mpandas._libs.index.IndexEngine.get_loc\u001b[0;34m()\u001b[0m\n",
      "\u001b[0;32mindex.pyx\u001b[0m in \u001b[0;36mpandas._libs.index.IndexEngine.get_loc\u001b[0;34m()\u001b[0m\n",
      "\u001b[0;32mpandas/_libs/hashtable_class_helper.pxi\u001b[0m in \u001b[0;36mpandas._libs.hashtable.Int64HashTable.get_item\u001b[0;34m()\u001b[0m\n",
      "\u001b[0;32mpandas/_libs/hashtable_class_helper.pxi\u001b[0m in \u001b[0;36mpandas._libs.hashtable.Int64HashTable.get_item\u001b[0;34m()\u001b[0m\n",
      "\u001b[0;31mKeyError\u001b[0m: 22",
      "\nThe above exception was the direct cause of the following exception:\n",
      "\u001b[0;31mKeyError\u001b[0m                                  Traceback (most recent call last)",
      "\u001b[0;32m/tmp/ipykernel_55213/1462636409.py\u001b[0m in \u001b[0;36m<module>\u001b[0;34m\u001b[0m\n\u001b[0;32m----> 1\u001b[0;31m \u001b[0mprint\u001b[0m\u001b[0;34m(\u001b[0m\u001b[0mdf4\u001b[0m\u001b[0;34m[\u001b[0m\u001b[0;34m'Gia'\u001b[0m\u001b[0;34m]\u001b[0m\u001b[0;34m[\u001b[0m\u001b[0;36m22\u001b[0m\u001b[0;34m]\u001b[0m\u001b[0;34m)\u001b[0m\u001b[0;34m\u001b[0m\u001b[0;34m\u001b[0m\u001b[0m\n\u001b[0m",
      "\u001b[0;32m~/.local/lib/python3.10/site-packages/pandas/core/series.py\u001b[0m in \u001b[0;36m__getitem__\u001b[0;34m(self, key)\u001b[0m\n\u001b[1;32m   1038\u001b[0m \u001b[0;34m\u001b[0m\u001b[0m\n\u001b[1;32m   1039\u001b[0m         \u001b[0;32melif\u001b[0m \u001b[0mkey_is_scalar\u001b[0m\u001b[0;34m:\u001b[0m\u001b[0;34m\u001b[0m\u001b[0;34m\u001b[0m\u001b[0m\n\u001b[0;32m-> 1040\u001b[0;31m             \u001b[0;32mreturn\u001b[0m \u001b[0mself\u001b[0m\u001b[0;34m.\u001b[0m\u001b[0m_get_value\u001b[0m\u001b[0;34m(\u001b[0m\u001b[0mkey\u001b[0m\u001b[0;34m)\u001b[0m\u001b[0;34m\u001b[0m\u001b[0;34m\u001b[0m\u001b[0m\n\u001b[0m\u001b[1;32m   1041\u001b[0m \u001b[0;34m\u001b[0m\u001b[0m\n\u001b[1;32m   1042\u001b[0m         \u001b[0;31m# Convert generator to list before going through hashable part\u001b[0m\u001b[0;34m\u001b[0m\u001b[0;34m\u001b[0m\u001b[0m\n",
      "\u001b[0;32m~/.local/lib/python3.10/site-packages/pandas/core/series.py\u001b[0m in \u001b[0;36m_get_value\u001b[0;34m(self, label, takeable)\u001b[0m\n\u001b[1;32m   1154\u001b[0m \u001b[0;34m\u001b[0m\u001b[0m\n\u001b[1;32m   1155\u001b[0m         \u001b[0;31m# Similar to Index.get_value, but we do not fall back to positional\u001b[0m\u001b[0;34m\u001b[0m\u001b[0;34m\u001b[0m\u001b[0m\n\u001b[0;32m-> 1156\u001b[0;31m         \u001b[0mloc\u001b[0m \u001b[0;34m=\u001b[0m \u001b[0mself\u001b[0m\u001b[0;34m.\u001b[0m\u001b[0mindex\u001b[0m\u001b[0;34m.\u001b[0m\u001b[0mget_loc\u001b[0m\u001b[0;34m(\u001b[0m\u001b[0mlabel\u001b[0m\u001b[0;34m)\u001b[0m\u001b[0;34m\u001b[0m\u001b[0;34m\u001b[0m\u001b[0m\n\u001b[0m\u001b[1;32m   1157\u001b[0m \u001b[0;34m\u001b[0m\u001b[0m\n\u001b[1;32m   1158\u001b[0m         \u001b[0;32mif\u001b[0m \u001b[0mis_integer\u001b[0m\u001b[0;34m(\u001b[0m\u001b[0mloc\u001b[0m\u001b[0;34m)\u001b[0m\u001b[0;34m:\u001b[0m\u001b[0;34m\u001b[0m\u001b[0;34m\u001b[0m\u001b[0m\n",
      "\u001b[0;32m~/.local/lib/python3.10/site-packages/pandas/core/indexes/base.py\u001b[0m in \u001b[0;36mget_loc\u001b[0;34m(self, key)\u001b[0m\n\u001b[1;32m   3796\u001b[0m             ):\n\u001b[1;32m   3797\u001b[0m                 \u001b[0;32mraise\u001b[0m \u001b[0mInvalidIndexError\u001b[0m\u001b[0;34m(\u001b[0m\u001b[0mkey\u001b[0m\u001b[0;34m)\u001b[0m\u001b[0;34m\u001b[0m\u001b[0;34m\u001b[0m\u001b[0m\n\u001b[0;32m-> 3798\u001b[0;31m             \u001b[0;32mraise\u001b[0m \u001b[0mKeyError\u001b[0m\u001b[0;34m(\u001b[0m\u001b[0mkey\u001b[0m\u001b[0;34m)\u001b[0m \u001b[0;32mfrom\u001b[0m \u001b[0merr\u001b[0m\u001b[0;34m\u001b[0m\u001b[0;34m\u001b[0m\u001b[0m\n\u001b[0m\u001b[1;32m   3799\u001b[0m         \u001b[0;32mexcept\u001b[0m \u001b[0mTypeError\u001b[0m\u001b[0;34m:\u001b[0m\u001b[0;34m\u001b[0m\u001b[0;34m\u001b[0m\u001b[0m\n\u001b[1;32m   3800\u001b[0m             \u001b[0;31m# If we have a listlike key, _check_indexing_error will raise\u001b[0m\u001b[0;34m\u001b[0m\u001b[0;34m\u001b[0m\u001b[0m\n",
      "\u001b[0;31mKeyError\u001b[0m: 22"
     ]
    }
   ],
   "source": [
    "print(df4['Gia'][22])"
   ]
  },
  {
   "cell_type": "code",
   "execution_count": 26,
   "id": "ed9c4dc9-90a1-4384-9efc-4543e3a01077",
   "metadata": {},
   "outputs": [
    {
     "name": "stdout",
     "output_type": "stream",
     "text": [
      "6,95 tỷ - 100 m2\n"
     ]
    }
   ],
   "source": [
    "print(df4['Gia'].iloc[22])\n"
   ]
  },
  {
   "cell_type": "code",
   "execution_count": 27,
   "id": "59175aff-3a46-4518-aa2d-f2a82e31cd25",
   "metadata": {},
   "outputs": [],
   "source": [
    "for i in range(0,len(df4.Gia)):\n",
    "    if 'GIÁ TỐT' in df4.Gia.iloc[i]:\n",
    "        df4.Gia.iloc[i] = df4.Gia.iloc[i].split('\\n')[0]\n",
    "    else:\n",
    "        df4.Gia.iloc[i] = df4.Gia.iloc[i].split('-')[0]"
   ]
  },
  {
   "cell_type": "code",
   "execution_count": 29,
   "id": "cc6e782a-7686-43c5-ae0f-9d1d68b95ee7",
   "metadata": {},
   "outputs": [
    {
     "name": "stdout",
     "output_type": "stream",
     "text": [
      "0       2,95 tỷ \n",
      "1       4,95 tỷ \n",
      "2       6,65 tỷ \n",
      "3        4,7 tỷ \n",
      "4        4,3 tỷ \n",
      "          ...   \n",
      "6310    5,15 tỷ \n",
      "6311    3,55 tỷ \n",
      "6312     5,1 tỷ \n",
      "6313    2,69 tỷ \n",
      "6314       8 tỷ \n",
      "Name: Gia, Length: 6224, dtype: object\n"
     ]
    }
   ],
   "source": [
    "print(df4.Gia)"
   ]
  },
  {
   "cell_type": "code",
   "execution_count": 30,
   "id": "74238697-06a9-4b78-a81e-90bea26512b1",
   "metadata": {},
   "outputs": [
    {
     "name": "stdout",
     "output_type": "stream",
     "text": [
      "     DienTich Phongngu PhongTam    GiayTo                   Loai  \\\n",
      "0          36        4        4  Đã có sổ           Nhà ngõ, hẻm   \n",
      "1          36        3        4  Đã có sổ           Nhà ngõ, hẻm   \n",
      "2          35        3        4  Đã có sổ           Nhà ngõ, hẻm   \n",
      "3          39        4        5  Đã có sổ           Nhà ngõ, hẻm   \n",
      "4          33        3        4  Đã có sổ           Nhà ngõ, hẻm   \n",
      "...       ...      ...      ...       ...                    ...   \n",
      "6310       32        5        3  Đã có sổ  Nhà mặt phố, mặt tiền   \n",
      "6311       40        4        3  Đã có sổ           Nhà ngõ, hẻm   \n",
      "6312       60        4        3  Đã có sổ           Nhà ngõ, hẻm   \n",
      "6313       35        5        3  Đã có sổ           Nhà ngõ, hẻm   \n",
      "6314       43        9      7.0  Đã có sổ  Nhà mặt phố, mặt tiền   \n",
      "\n",
      "     HuongCuaChinh  TinhTrangNoiThat  \\\n",
      "0         Đông Nam               NaN   \n",
      "1              NaN  Nội thất cao cấp   \n",
      "2              NaN   Nội thất đầy đủ   \n",
      "3              NaN   Nội thất đầy đủ   \n",
      "4              NaN  Nội thất cao cấp   \n",
      "...            ...               ...   \n",
      "6310           NaN   Nội thất đầy đủ   \n",
      "6311       Tây Nam               NaN   \n",
      "6312           NaN   Nội thất đầy đủ   \n",
      "6313      Đông Nam               NaN   \n",
      "6314           NaN   Nội thất đầy đủ   \n",
      "\n",
      "                                                 DiaChi       Gia  SoTang  \\\n",
      "0     Vân Canh, Phường Phương Canh, Quận Nam Từ Liêm...  2,95 tỷ      4.0   \n",
      "1     Phố Ngọc Hà, Phường Ngọc Hà, Quận Ba Đình, Hà ...  4,95 tỷ      5.0   \n",
      "2     Xã Đàn, Phường Ô Chợ Dừa, Quận Đống Đa, Hà Nội...  6,65 tỷ      NaN   \n",
      "3     Trần Quốc Vượng, Phường Dịch Vọng Hậu, Quận Cầ...   4,7 tỷ      4.0   \n",
      "4     Ngõ 322 Đường Mỹ Đình, Phường Mỹ Đình 1, Quận ...   4,3 tỷ      5.0   \n",
      "...                                                 ...       ...     ...   \n",
      "6310  Vũ Trọng Phụng, Phường Thanh Xuân Trung, Quận ...  5,15 tỷ      4.0   \n",
      "6311  Phố Văn Khê, Phường Phú La, Quận Hà Đông, Hà N...  3,55 tỷ      3.0   \n",
      "6312  Đội Cấn, Phường Đội Cấn, Quận Ba Đình, Hà NộiX...   5,1 tỷ      5.0   \n",
      "6313  Ngõ 38 Đường Yên Vĩnh, Xã Kim Chung, Huyện Hoà...  2,69 tỷ      4.0   \n",
      "6314  Vũ Ngọc Phan, Phường Láng Hạ, Quận Đống Đa, Hà...     8 tỷ      5.0   \n",
      "\n",
      "     DacDiem  \n",
      "0        NaN  \n",
      "1        NaN  \n",
      "2        NaN  \n",
      "3        NaN  \n",
      "4        NaN  \n",
      "...      ...  \n",
      "6310     NaN  \n",
      "6311     NaN  \n",
      "6312     NaN  \n",
      "6313     NaN  \n",
      "6314     NaN  \n",
      "\n",
      "[6224 rows x 11 columns]\n"
     ]
    }
   ],
   "source": [
    "print(df4)"
   ]
  },
  {
   "cell_type": "code",
   "execution_count": 31,
   "id": "9cb6dbed-c18b-4ace-85c8-5461ddb60474",
   "metadata": {},
   "outputs": [
    {
     "ename": "KeyError",
     "evalue": "22",
     "output_type": "error",
     "traceback": [
      "\u001b[0;31m---------------------------------------------------------------------------\u001b[0m",
      "\u001b[0;31mKeyError\u001b[0m                                  Traceback (most recent call last)",
      "\u001b[0;32m~/.local/lib/python3.10/site-packages/pandas/core/indexes/base.py\u001b[0m in \u001b[0;36mget_loc\u001b[0;34m(self, key)\u001b[0m\n\u001b[1;32m   3790\u001b[0m         \u001b[0;32mtry\u001b[0m\u001b[0;34m:\u001b[0m\u001b[0;34m\u001b[0m\u001b[0;34m\u001b[0m\u001b[0m\n\u001b[0;32m-> 3791\u001b[0;31m             \u001b[0;32mreturn\u001b[0m \u001b[0mself\u001b[0m\u001b[0;34m.\u001b[0m\u001b[0m_engine\u001b[0m\u001b[0;34m.\u001b[0m\u001b[0mget_loc\u001b[0m\u001b[0;34m(\u001b[0m\u001b[0mcasted_key\u001b[0m\u001b[0;34m)\u001b[0m\u001b[0;34m\u001b[0m\u001b[0;34m\u001b[0m\u001b[0m\n\u001b[0m\u001b[1;32m   3792\u001b[0m         \u001b[0;32mexcept\u001b[0m \u001b[0mKeyError\u001b[0m \u001b[0;32mas\u001b[0m \u001b[0merr\u001b[0m\u001b[0;34m:\u001b[0m\u001b[0;34m\u001b[0m\u001b[0;34m\u001b[0m\u001b[0m\n",
      "\u001b[0;32mindex.pyx\u001b[0m in \u001b[0;36mpandas._libs.index.IndexEngine.get_loc\u001b[0;34m()\u001b[0m\n",
      "\u001b[0;32mindex.pyx\u001b[0m in \u001b[0;36mpandas._libs.index.IndexEngine.get_loc\u001b[0;34m()\u001b[0m\n",
      "\u001b[0;32mpandas/_libs/hashtable_class_helper.pxi\u001b[0m in \u001b[0;36mpandas._libs.hashtable.Int64HashTable.get_item\u001b[0;34m()\u001b[0m\n",
      "\u001b[0;32mpandas/_libs/hashtable_class_helper.pxi\u001b[0m in \u001b[0;36mpandas._libs.hashtable.Int64HashTable.get_item\u001b[0;34m()\u001b[0m\n",
      "\u001b[0;31mKeyError\u001b[0m: 22",
      "\nThe above exception was the direct cause of the following exception:\n",
      "\u001b[0;31mKeyError\u001b[0m                                  Traceback (most recent call last)",
      "\u001b[0;32m/tmp/ipykernel_55213/2402346523.py\u001b[0m in \u001b[0;36m<module>\u001b[0;34m\u001b[0m\n\u001b[1;32m      1\u001b[0m \u001b[0;32mfor\u001b[0m \u001b[0mi\u001b[0m \u001b[0;32min\u001b[0m \u001b[0mrange\u001b[0m\u001b[0;34m(\u001b[0m\u001b[0;36m0\u001b[0m\u001b[0;34m,\u001b[0m\u001b[0mlen\u001b[0m\u001b[0;34m(\u001b[0m\u001b[0mdf4\u001b[0m\u001b[0;34m.\u001b[0m\u001b[0mGia\u001b[0m\u001b[0;34m)\u001b[0m\u001b[0;34m)\u001b[0m\u001b[0;34m:\u001b[0m\u001b[0;34m\u001b[0m\u001b[0;34m\u001b[0m\u001b[0m\n\u001b[0;32m----> 2\u001b[0;31m     \u001b[0;32mif\u001b[0m \u001b[0;34m'tỷ'\u001b[0m \u001b[0;32min\u001b[0m \u001b[0mdf4\u001b[0m\u001b[0;34m.\u001b[0m\u001b[0mGia\u001b[0m\u001b[0;34m[\u001b[0m\u001b[0mi\u001b[0m\u001b[0;34m]\u001b[0m\u001b[0;34m:\u001b[0m\u001b[0;34m\u001b[0m\u001b[0;34m\u001b[0m\u001b[0m\n\u001b[0m\u001b[1;32m      3\u001b[0m         \u001b[0mprice\u001b[0m \u001b[0;34m=\u001b[0m \u001b[0mdf4\u001b[0m\u001b[0;34m.\u001b[0m\u001b[0mGia\u001b[0m\u001b[0;34m[\u001b[0m\u001b[0mi\u001b[0m\u001b[0;34m]\u001b[0m\u001b[0;34m.\u001b[0m\u001b[0msplit\u001b[0m\u001b[0;34m(\u001b[0m\u001b[0;34m' '\u001b[0m\u001b[0;34m)\u001b[0m\u001b[0;34m[\u001b[0m\u001b[0;36m0\u001b[0m\u001b[0;34m]\u001b[0m\u001b[0;34m\u001b[0m\u001b[0;34m\u001b[0m\u001b[0m\n\u001b[1;32m      4\u001b[0m         \u001b[0mprice\u001b[0m \u001b[0;34m=\u001b[0m \u001b[0mprice\u001b[0m\u001b[0;34m.\u001b[0m\u001b[0mreplace\u001b[0m\u001b[0;34m(\u001b[0m\u001b[0;34m','\u001b[0m\u001b[0;34m,\u001b[0m\u001b[0;34m'.'\u001b[0m\u001b[0;34m)\u001b[0m\u001b[0;34m\u001b[0m\u001b[0;34m\u001b[0m\u001b[0m\n\u001b[1;32m      5\u001b[0m         \u001b[0mdf4\u001b[0m\u001b[0;34m.\u001b[0m\u001b[0mGia\u001b[0m\u001b[0;34m[\u001b[0m\u001b[0mi\u001b[0m\u001b[0;34m]\u001b[0m \u001b[0;34m=\u001b[0m \u001b[0mround\u001b[0m\u001b[0;34m(\u001b[0m\u001b[0mfloat\u001b[0m\u001b[0;34m(\u001b[0m\u001b[0mprice\u001b[0m\u001b[0;34m)\u001b[0m\u001b[0;34m*\u001b[0m\u001b[0;36m1000000000\u001b[0m\u001b[0;34m,\u001b[0m\u001b[0;36m1\u001b[0m\u001b[0;34m)\u001b[0m\u001b[0;34m\u001b[0m\u001b[0;34m\u001b[0m\u001b[0m\n",
      "\u001b[0;32m~/.local/lib/python3.10/site-packages/pandas/core/series.py\u001b[0m in \u001b[0;36m__getitem__\u001b[0;34m(self, key)\u001b[0m\n\u001b[1;32m   1038\u001b[0m \u001b[0;34m\u001b[0m\u001b[0m\n\u001b[1;32m   1039\u001b[0m         \u001b[0;32melif\u001b[0m \u001b[0mkey_is_scalar\u001b[0m\u001b[0;34m:\u001b[0m\u001b[0;34m\u001b[0m\u001b[0;34m\u001b[0m\u001b[0m\n\u001b[0;32m-> 1040\u001b[0;31m             \u001b[0;32mreturn\u001b[0m \u001b[0mself\u001b[0m\u001b[0;34m.\u001b[0m\u001b[0m_get_value\u001b[0m\u001b[0;34m(\u001b[0m\u001b[0mkey\u001b[0m\u001b[0;34m)\u001b[0m\u001b[0;34m\u001b[0m\u001b[0;34m\u001b[0m\u001b[0m\n\u001b[0m\u001b[1;32m   1041\u001b[0m \u001b[0;34m\u001b[0m\u001b[0m\n\u001b[1;32m   1042\u001b[0m         \u001b[0;31m# Convert generator to list before going through hashable part\u001b[0m\u001b[0;34m\u001b[0m\u001b[0;34m\u001b[0m\u001b[0m\n",
      "\u001b[0;32m~/.local/lib/python3.10/site-packages/pandas/core/series.py\u001b[0m in \u001b[0;36m_get_value\u001b[0;34m(self, label, takeable)\u001b[0m\n\u001b[1;32m   1154\u001b[0m \u001b[0;34m\u001b[0m\u001b[0m\n\u001b[1;32m   1155\u001b[0m         \u001b[0;31m# Similar to Index.get_value, but we do not fall back to positional\u001b[0m\u001b[0;34m\u001b[0m\u001b[0;34m\u001b[0m\u001b[0m\n\u001b[0;32m-> 1156\u001b[0;31m         \u001b[0mloc\u001b[0m \u001b[0;34m=\u001b[0m \u001b[0mself\u001b[0m\u001b[0;34m.\u001b[0m\u001b[0mindex\u001b[0m\u001b[0;34m.\u001b[0m\u001b[0mget_loc\u001b[0m\u001b[0;34m(\u001b[0m\u001b[0mlabel\u001b[0m\u001b[0;34m)\u001b[0m\u001b[0;34m\u001b[0m\u001b[0;34m\u001b[0m\u001b[0m\n\u001b[0m\u001b[1;32m   1157\u001b[0m \u001b[0;34m\u001b[0m\u001b[0m\n\u001b[1;32m   1158\u001b[0m         \u001b[0;32mif\u001b[0m \u001b[0mis_integer\u001b[0m\u001b[0;34m(\u001b[0m\u001b[0mloc\u001b[0m\u001b[0;34m)\u001b[0m\u001b[0;34m:\u001b[0m\u001b[0;34m\u001b[0m\u001b[0;34m\u001b[0m\u001b[0m\n",
      "\u001b[0;32m~/.local/lib/python3.10/site-packages/pandas/core/indexes/base.py\u001b[0m in \u001b[0;36mget_loc\u001b[0;34m(self, key)\u001b[0m\n\u001b[1;32m   3796\u001b[0m             ):\n\u001b[1;32m   3797\u001b[0m                 \u001b[0;32mraise\u001b[0m \u001b[0mInvalidIndexError\u001b[0m\u001b[0;34m(\u001b[0m\u001b[0mkey\u001b[0m\u001b[0;34m)\u001b[0m\u001b[0;34m\u001b[0m\u001b[0;34m\u001b[0m\u001b[0m\n\u001b[0;32m-> 3798\u001b[0;31m             \u001b[0;32mraise\u001b[0m \u001b[0mKeyError\u001b[0m\u001b[0;34m(\u001b[0m\u001b[0mkey\u001b[0m\u001b[0;34m)\u001b[0m \u001b[0;32mfrom\u001b[0m \u001b[0merr\u001b[0m\u001b[0;34m\u001b[0m\u001b[0;34m\u001b[0m\u001b[0m\n\u001b[0m\u001b[1;32m   3799\u001b[0m         \u001b[0;32mexcept\u001b[0m \u001b[0mTypeError\u001b[0m\u001b[0;34m:\u001b[0m\u001b[0;34m\u001b[0m\u001b[0;34m\u001b[0m\u001b[0m\n\u001b[1;32m   3800\u001b[0m             \u001b[0;31m# If we have a listlike key, _check_indexing_error will raise\u001b[0m\u001b[0;34m\u001b[0m\u001b[0;34m\u001b[0m\u001b[0m\n",
      "\u001b[0;31mKeyError\u001b[0m: 22"
     ]
    }
   ],
   "source": [
    "for i in range(0,len(df4.Gia)):\n",
    "    if 'tỷ' in df4.Gia[i]:\n",
    "        price = df4.Gia[i].split(' ')[0]\n",
    "        price = price.replace(',','.')\n",
    "        df4.Gia[i] = round(float(price)*1000000000,1)\n",
    "    elif 'triệu' in df4.Gia[i] :\n",
    "        price = df4.Gia[i].split(' ')[0]\n",
    "        price = price.replace(',','.')\n",
    "        df4.Gia[i] = round(float(price)*1000000,1)\n",
    "df4 = df4.reset_index()"
   ]
  },
  {
   "cell_type": "code",
   "execution_count": 32,
   "id": "9cd57411-f4e8-4ad4-85f7-ae1e052c4eab",
   "metadata": {},
   "outputs": [
    {
     "ename": "TypeError",
     "evalue": "argument of type 'float' is not iterable",
     "output_type": "error",
     "traceback": [
      "\u001b[0;31m---------------------------------------------------------------------------\u001b[0m",
      "\u001b[0;31mTypeError\u001b[0m                                 Traceback (most recent call last)",
      "\u001b[0;32m/tmp/ipykernel_55213/344925500.py\u001b[0m in \u001b[0;36m<module>\u001b[0;34m\u001b[0m\n\u001b[1;32m      1\u001b[0m \u001b[0;32mfor\u001b[0m \u001b[0mi\u001b[0m \u001b[0;32min\u001b[0m \u001b[0mrange\u001b[0m\u001b[0;34m(\u001b[0m\u001b[0;36m0\u001b[0m\u001b[0;34m,\u001b[0m\u001b[0mlen\u001b[0m\u001b[0;34m(\u001b[0m\u001b[0mdf4\u001b[0m\u001b[0;34m.\u001b[0m\u001b[0mGia\u001b[0m\u001b[0;34m)\u001b[0m\u001b[0;34m)\u001b[0m\u001b[0;34m:\u001b[0m\u001b[0;34m\u001b[0m\u001b[0;34m\u001b[0m\u001b[0m\n\u001b[0;32m----> 2\u001b[0;31m     \u001b[0;32mif\u001b[0m \u001b[0;34m'tỷ'\u001b[0m \u001b[0;32min\u001b[0m \u001b[0mdf4\u001b[0m\u001b[0;34m.\u001b[0m\u001b[0mGia\u001b[0m\u001b[0;34m.\u001b[0m\u001b[0miloc\u001b[0m\u001b[0;34m[\u001b[0m\u001b[0mi\u001b[0m\u001b[0;34m]\u001b[0m\u001b[0;34m:\u001b[0m\u001b[0;34m\u001b[0m\u001b[0;34m\u001b[0m\u001b[0m\n\u001b[0m\u001b[1;32m      3\u001b[0m         \u001b[0mprice\u001b[0m \u001b[0;34m=\u001b[0m \u001b[0mdf4\u001b[0m\u001b[0;34m.\u001b[0m\u001b[0mGia\u001b[0m\u001b[0;34m.\u001b[0m\u001b[0miloc\u001b[0m\u001b[0;34m[\u001b[0m\u001b[0mi\u001b[0m\u001b[0;34m]\u001b[0m\u001b[0;34m.\u001b[0m\u001b[0msplit\u001b[0m\u001b[0;34m(\u001b[0m\u001b[0;34m' '\u001b[0m\u001b[0;34m)\u001b[0m\u001b[0;34m[\u001b[0m\u001b[0;36m0\u001b[0m\u001b[0;34m]\u001b[0m\u001b[0;34m\u001b[0m\u001b[0;34m\u001b[0m\u001b[0m\n\u001b[1;32m      4\u001b[0m         \u001b[0mprice\u001b[0m \u001b[0;34m=\u001b[0m \u001b[0mprice\u001b[0m\u001b[0;34m.\u001b[0m\u001b[0mreplace\u001b[0m\u001b[0;34m(\u001b[0m\u001b[0;34m','\u001b[0m\u001b[0;34m,\u001b[0m\u001b[0;34m'.'\u001b[0m\u001b[0;34m)\u001b[0m\u001b[0;34m\u001b[0m\u001b[0;34m\u001b[0m\u001b[0m\n\u001b[1;32m      5\u001b[0m         \u001b[0mdf4\u001b[0m\u001b[0;34m.\u001b[0m\u001b[0mGia\u001b[0m\u001b[0;34m[\u001b[0m\u001b[0mi\u001b[0m\u001b[0;34m]\u001b[0m \u001b[0;34m=\u001b[0m \u001b[0mround\u001b[0m\u001b[0;34m(\u001b[0m\u001b[0mfloat\u001b[0m\u001b[0;34m(\u001b[0m\u001b[0mprice\u001b[0m\u001b[0;34m)\u001b[0m\u001b[0;34m*\u001b[0m\u001b[0;36m1000000000\u001b[0m\u001b[0;34m,\u001b[0m\u001b[0;36m1\u001b[0m\u001b[0;34m)\u001b[0m\u001b[0;34m\u001b[0m\u001b[0;34m\u001b[0m\u001b[0m\n",
      "\u001b[0;31mTypeError\u001b[0m: argument of type 'float' is not iterable"
     ]
    }
   ],
   "source": [
    "for i in range(0,len(df4.Gia)):\n",
    "    if 'tỷ' in df4.Gia.iloc[i]:\n",
    "        price = df4.Gia.iloc[i].split(' ')[0]\n",
    "        price = price.replace(',','.')\n",
    "        df4.Gia[i] = round(float(price)*1000000000,1)\n",
    "    elif 'triệu' in df4.Gia.iloc[i] :\n",
    "        price = df4.Gia.iloc[i].split(' ')[0]\n",
    "        price = price.replace(',','.')\n",
    "        df4.Gia.iloc[i] = round(float(price)*1000000,1)\n",
    "df4 = df4.reset_index()"
   ]
  },
  {
   "cell_type": "code",
   "execution_count": 33,
   "id": "b1c62766-6eb4-41ea-924d-fe368ddedf56",
   "metadata": {},
   "outputs": [
    {
     "name": "stdout",
     "output_type": "stream",
     "text": [
      "6224\n"
     ]
    }
   ],
   "source": [
    "print(len(df4.Gia))"
   ]
  },
  {
   "cell_type": "code",
   "execution_count": 34,
   "id": "b51f7f91-5cec-42a0-a20d-177d514f69ac",
   "metadata": {},
   "outputs": [],
   "source": [
    "for i in range(len(df4.Gia)):\n",
    "    if isinstance(df4.Gia.iloc[i], str) and 'tỷ' in df4.Gia.iloc[i]:\n",
    "        price = df4.Gia.iloc[i].split(' ')[0]\n",
    "        price = price.replace(',', '.')\n",
    "        df4.Gia.iloc[i] = round(float(price) * 1000000000, 1)\n",
    "    elif isinstance(df4.Gia.iloc[i], str) and 'triệu' in df4.Gia.iloc[i]:\n",
    "        price = df4.Gia.iloc[i].split(' ')[0]\n",
    "        price = price.replace(',', '.')\n",
    "        df4.Gia.iloc[i] = round(float(price) * 1000000, 1)\n",
    "\n",
    "df4 = df4.reset_index()"
   ]
  },
  {
   "cell_type": "code",
   "execution_count": 35,
   "id": "dd19c9ae-7600-44a0-b027-d01c4fa072ca",
   "metadata": {},
   "outputs": [
    {
     "name": "stdout",
     "output_type": "stream",
     "text": [
      "0       2950000000.0\n",
      "1       4950000000.0\n",
      "2       6650000000.0\n",
      "3       4700000000.0\n",
      "4       4300000000.0\n",
      "            ...     \n",
      "6219    5150000000.0\n",
      "6220    3550000000.0\n",
      "6221    5100000000.0\n",
      "6222    2690000000.0\n",
      "6223    8000000000.0\n",
      "Name: Gia, Length: 6224, dtype: object\n"
     ]
    }
   ],
   "source": [
    "print(df4.Gia)"
   ]
  },
  {
   "cell_type": "code",
   "execution_count": 36,
   "id": "6103f6a1-955a-4dd8-a0dc-09eaf287f309",
   "metadata": {},
   "outputs": [],
   "source": [
    "df4['Quan'] = df.DiaChi.copy()\n",
    "for i in range(0,len(df4.DiaChi)):\n",
    "    a= df4.DiaChi[i].split(',')\n",
    "    df4['Quan'][i] = a[len(a)-2]\n",
    "for i in df4['Quan']:\n",
    "    if 'Quận' not in i and 'Huyện' not in i:\n",
    "        df4 = df4.drop(df4[df4['Quan']==i].index)"
   ]
  },
  {
   "cell_type": "code",
   "execution_count": 37,
   "id": "886a593e-b49a-484c-9eac-ef198c8448c9",
   "metadata": {},
   "outputs": [
    {
     "data": {
      "text/plain": [
       "array([' Quận Nam Từ Liêm', ' Quận Ba Đình', ' Quận Đống Đa',\n",
       "       ' Quận Cầu Giấy', ' Quận Tây Hồ', ' Quận Hoàng Mai',\n",
       "       ' Quận Thanh Xuân', ' Quận Hà Đông', ' Quận Hai Bà Trưng',\n",
       "       ' Quận Long Biên', ' Huyện Hoài Đức', ' Huyện Gia Lâm',\n",
       "       ' Quận Bắc Từ Liêm', ' Huyện Thanh Trì', ' Quận Hoàn Kiếm',\n",
       "       ' Huyện Đông Anh', ' Huyện Thanh Oai', ' Huyện Thạch Thất',\n",
       "       ' Huyện Đan Phượng', ' Huyện Thường Tín', ' Huyện Quốc Oai',\n",
       "       ' Huyện Chương Mỹ', ' Huyện Sóc Sơn', ' Huyện Mê Linh'],\n",
       "      dtype=object)"
      ]
     },
     "execution_count": 37,
     "metadata": {},
     "output_type": "execute_result"
    }
   ],
   "source": [
    "df4.Quan.unique()\n"
   ]
  },
  {
   "cell_type": "code",
   "execution_count": 38,
   "id": "bdb8f8b7-8376-495e-8a6f-b46cf27c95a2",
   "metadata": {},
   "outputs": [
    {
     "name": "stdout",
     "output_type": "stream",
     "text": [
      "      index DienTich Phongngu PhongTam    GiayTo                   Loai  \\\n",
      "0         0       36        4        4  Đã có sổ           Nhà ngõ, hẻm   \n",
      "1         1       36        3        4  Đã có sổ           Nhà ngõ, hẻm   \n",
      "2         2       35        3        4  Đã có sổ           Nhà ngõ, hẻm   \n",
      "3         3       39        4        5  Đã có sổ           Nhà ngõ, hẻm   \n",
      "4         4       33        3        4  Đã có sổ           Nhà ngõ, hẻm   \n",
      "...     ...      ...      ...      ...       ...                    ...   \n",
      "6219   6310       32        5        3  Đã có sổ  Nhà mặt phố, mặt tiền   \n",
      "6220   6311       40        4        3  Đã có sổ           Nhà ngõ, hẻm   \n",
      "6221   6312       60        4        3  Đã có sổ           Nhà ngõ, hẻm   \n",
      "6222   6313       35        5        3  Đã có sổ           Nhà ngõ, hẻm   \n",
      "6223   6314       43        9      7.0  Đã có sổ  Nhà mặt phố, mặt tiền   \n",
      "\n",
      "     HuongCuaChinh  TinhTrangNoiThat  \\\n",
      "0         Đông Nam               NaN   \n",
      "1              NaN  Nội thất cao cấp   \n",
      "2              NaN   Nội thất đầy đủ   \n",
      "3              NaN   Nội thất đầy đủ   \n",
      "4              NaN  Nội thất cao cấp   \n",
      "...            ...               ...   \n",
      "6219           NaN   Nội thất đầy đủ   \n",
      "6220       Tây Nam               NaN   \n",
      "6221           NaN   Nội thất đầy đủ   \n",
      "6222      Đông Nam               NaN   \n",
      "6223           NaN   Nội thất đầy đủ   \n",
      "\n",
      "                                                 DiaChi           Gia  SoTang  \\\n",
      "0     Vân Canh, Phường Phương Canh, Quận Nam Từ Liêm...  2950000000.0     4.0   \n",
      "1     Phố Ngọc Hà, Phường Ngọc Hà, Quận Ba Đình, Hà ...  4950000000.0     5.0   \n",
      "2     Xã Đàn, Phường Ô Chợ Dừa, Quận Đống Đa, Hà Nội...  6650000000.0     NaN   \n",
      "3     Trần Quốc Vượng, Phường Dịch Vọng Hậu, Quận Cầ...  4700000000.0     4.0   \n",
      "4     Ngõ 322 Đường Mỹ Đình, Phường Mỹ Đình 1, Quận ...  4300000000.0     5.0   \n",
      "...                                                 ...           ...     ...   \n",
      "6219  Vũ Trọng Phụng, Phường Thanh Xuân Trung, Quận ...  5150000000.0     4.0   \n",
      "6220  Phố Văn Khê, Phường Phú La, Quận Hà Đông, Hà N...  3550000000.0     3.0   \n",
      "6221  Đội Cấn, Phường Đội Cấn, Quận Ba Đình, Hà NộiX...  5100000000.0     5.0   \n",
      "6222  Ngõ 38 Đường Yên Vĩnh, Xã Kim Chung, Huyện Hoà...  2690000000.0     4.0   \n",
      "6223  Vũ Ngọc Phan, Phường Láng Hạ, Quận Đống Đa, Hà...  8000000000.0     5.0   \n",
      "\n",
      "     DacDiem               Quan  \n",
      "0        NaN   Quận Nam Từ Liêm  \n",
      "1        NaN       Quận Ba Đình  \n",
      "2        NaN       Quận Đống Đa  \n",
      "3        NaN      Quận Cầu Giấy  \n",
      "4        NaN   Quận Nam Từ Liêm  \n",
      "...      ...                ...  \n",
      "6219     NaN    Quận Thanh Xuân  \n",
      "6220     NaN       Quận Hà Đông  \n",
      "6221     NaN       Quận Ba Đình  \n",
      "6222     NaN     Huyện Hoài Đức  \n",
      "6223     NaN       Quận Đống Đa  \n",
      "\n",
      "[6221 rows x 13 columns]\n"
     ]
    }
   ],
   "source": [
    "print(df4)"
   ]
  },
  {
   "cell_type": "code",
   "execution_count": 39,
   "id": "d2ea49b8-aa3a-4cf6-abea-bac89b567a92",
   "metadata": {},
   "outputs": [
    {
     "data": {
      "text/html": [
       "<div>\n",
       "<style scoped>\n",
       "    .dataframe tbody tr th:only-of-type {\n",
       "        vertical-align: middle;\n",
       "    }\n",
       "\n",
       "    .dataframe tbody tr th {\n",
       "        vertical-align: top;\n",
       "    }\n",
       "\n",
       "    .dataframe thead th {\n",
       "        text-align: right;\n",
       "    }\n",
       "</style>\n",
       "<table border=\"1\" class=\"dataframe\">\n",
       "  <thead>\n",
       "    <tr style=\"text-align: right;\">\n",
       "      <th></th>\n",
       "      <th>DienTich</th>\n",
       "      <th>Phongngu</th>\n",
       "      <th>PhongTam</th>\n",
       "      <th>GiayTo</th>\n",
       "      <th>Loai</th>\n",
       "      <th>HuongCuaChinh</th>\n",
       "      <th>TinhTrangNoiThat</th>\n",
       "      <th>DiaChi</th>\n",
       "      <th>Gia</th>\n",
       "      <th>SoTang</th>\n",
       "      <th>DacDiem</th>\n",
       "      <th>Quan</th>\n",
       "    </tr>\n",
       "  </thead>\n",
       "  <tbody>\n",
       "    <tr>\n",
       "      <th>0</th>\n",
       "      <td>36</td>\n",
       "      <td>4</td>\n",
       "      <td>4</td>\n",
       "      <td>Đã có sổ</td>\n",
       "      <td>Nhà ngõ, hẻm</td>\n",
       "      <td>Đông Nam</td>\n",
       "      <td>NaN</td>\n",
       "      <td>Vân Canh, Phường Phương Canh, Quận Nam Từ Liêm...</td>\n",
       "      <td>2950000000.0</td>\n",
       "      <td>4.0</td>\n",
       "      <td>NaN</td>\n",
       "      <td>Quận Nam Từ Liêm</td>\n",
       "    </tr>\n",
       "    <tr>\n",
       "      <th>1</th>\n",
       "      <td>36</td>\n",
       "      <td>3</td>\n",
       "      <td>4</td>\n",
       "      <td>Đã có sổ</td>\n",
       "      <td>Nhà ngõ, hẻm</td>\n",
       "      <td>NaN</td>\n",
       "      <td>Nội thất cao cấp</td>\n",
       "      <td>Phố Ngọc Hà, Phường Ngọc Hà, Quận Ba Đình, Hà ...</td>\n",
       "      <td>4950000000.0</td>\n",
       "      <td>5.0</td>\n",
       "      <td>NaN</td>\n",
       "      <td>Quận Ba Đình</td>\n",
       "    </tr>\n",
       "  </tbody>\n",
       "</table>\n",
       "</div>"
      ],
      "text/plain": [
       "  DienTich Phongngu PhongTam    GiayTo          Loai HuongCuaChinh  \\\n",
       "0       36        4        4  Đã có sổ  Nhà ngõ, hẻm      Đông Nam   \n",
       "1       36        3        4  Đã có sổ  Nhà ngõ, hẻm           NaN   \n",
       "\n",
       "   TinhTrangNoiThat                                             DiaChi  \\\n",
       "0               NaN  Vân Canh, Phường Phương Canh, Quận Nam Từ Liêm...   \n",
       "1  Nội thất cao cấp  Phố Ngọc Hà, Phường Ngọc Hà, Quận Ba Đình, Hà ...   \n",
       "\n",
       "            Gia  SoTang DacDiem               Quan  \n",
       "0  2950000000.0     4.0     NaN   Quận Nam Từ Liêm  \n",
       "1  4950000000.0     5.0     NaN       Quận Ba Đình  "
      ]
     },
     "execution_count": 39,
     "metadata": {},
     "output_type": "execute_result"
    }
   ],
   "source": [
    "frame = df4[['DienTich', 'Phongngu', 'PhongTam', 'GiayTo', 'Loai', 'HuongCuaChinh', 'TinhTrangNoiThat', 'DiaChi', 'Gia', 'SoTang','DacDiem', 'Quan'   ]]\n",
    "frame.head(2)"
   ]
  },
  {
   "cell_type": "code",
   "execution_count": 40,
   "id": "d65628e0-00ea-4531-a0bd-80d15ac4f407",
   "metadata": {},
   "outputs": [
    {
     "data": {
      "text/html": [
       "<div>\n",
       "<style scoped>\n",
       "    .dataframe tbody tr th:only-of-type {\n",
       "        vertical-align: middle;\n",
       "    }\n",
       "\n",
       "    .dataframe tbody tr th {\n",
       "        vertical-align: top;\n",
       "    }\n",
       "\n",
       "    .dataframe thead th {\n",
       "        text-align: right;\n",
       "    }\n",
       "</style>\n",
       "<table border=\"1\" class=\"dataframe\">\n",
       "  <thead>\n",
       "    <tr style=\"text-align: right;\">\n",
       "      <th></th>\n",
       "      <th>DienTich</th>\n",
       "      <th>Phongngu</th>\n",
       "      <th>PhongTam</th>\n",
       "      <th>Gia</th>\n",
       "      <th>SoTang</th>\n",
       "    </tr>\n",
       "  </thead>\n",
       "  <tbody>\n",
       "    <tr>\n",
       "      <th>count</th>\n",
       "      <td>6221.000000</td>\n",
       "      <td>6221.000000</td>\n",
       "      <td>6221.000000</td>\n",
       "      <td>6.221000e+03</td>\n",
       "      <td>5594.000000</td>\n",
       "    </tr>\n",
       "    <tr>\n",
       "      <th>mean</th>\n",
       "      <td>51.145460</td>\n",
       "      <td>4.069764</td>\n",
       "      <td>3.913840</td>\n",
       "      <td>8.012099e+09</td>\n",
       "      <td>5.033429</td>\n",
       "    </tr>\n",
       "    <tr>\n",
       "      <th>std</th>\n",
       "      <td>42.740515</td>\n",
       "      <td>1.774313</td>\n",
       "      <td>1.293803</td>\n",
       "      <td>1.433323e+10</td>\n",
       "      <td>8.264737</td>\n",
       "    </tr>\n",
       "    <tr>\n",
       "      <th>min</th>\n",
       "      <td>5.000000</td>\n",
       "      <td>1.000000</td>\n",
       "      <td>1.000000</td>\n",
       "      <td>4.100000e+06</td>\n",
       "      <td>1.000000</td>\n",
       "    </tr>\n",
       "    <tr>\n",
       "      <th>25%</th>\n",
       "      <td>35.000000</td>\n",
       "      <td>3.000000</td>\n",
       "      <td>3.000000</td>\n",
       "      <td>3.600000e+09</td>\n",
       "      <td>4.000000</td>\n",
       "    </tr>\n",
       "    <tr>\n",
       "      <th>50%</th>\n",
       "      <td>41.000000</td>\n",
       "      <td>4.000000</td>\n",
       "      <td>4.000000</td>\n",
       "      <td>5.000000e+09</td>\n",
       "      <td>5.000000</td>\n",
       "    </tr>\n",
       "    <tr>\n",
       "      <th>75%</th>\n",
       "      <td>54.000000</td>\n",
       "      <td>4.000000</td>\n",
       "      <td>4.000000</td>\n",
       "      <td>7.850000e+09</td>\n",
       "      <td>5.000000</td>\n",
       "    </tr>\n",
       "    <tr>\n",
       "      <th>max</th>\n",
       "      <td>1200.000000</td>\n",
       "      <td>11.000000</td>\n",
       "      <td>7.000000</td>\n",
       "      <td>4.560000e+11</td>\n",
       "      <td>532.000000</td>\n",
       "    </tr>\n",
       "  </tbody>\n",
       "</table>\n",
       "</div>"
      ],
      "text/plain": [
       "          DienTich     Phongngu     PhongTam           Gia       SoTang\n",
       "count  6221.000000  6221.000000  6221.000000  6.221000e+03  5594.000000\n",
       "mean     51.145460     4.069764     3.913840  8.012099e+09     5.033429\n",
       "std      42.740515     1.774313     1.293803  1.433323e+10     8.264737\n",
       "min       5.000000     1.000000     1.000000  4.100000e+06     1.000000\n",
       "25%      35.000000     3.000000     3.000000  3.600000e+09     4.000000\n",
       "50%      41.000000     4.000000     4.000000  5.000000e+09     5.000000\n",
       "75%      54.000000     4.000000     4.000000  7.850000e+09     5.000000\n",
       "max    1200.000000    11.000000     7.000000  4.560000e+11   532.000000"
      ]
     },
     "execution_count": 40,
     "metadata": {},
     "output_type": "execute_result"
    }
   ],
   "source": [
    "frame.DienTich = frame.DienTich.astype('float')\n",
    "frame.Phongngu = frame.Phongngu.astype('float') \n",
    "frame.PhongTam = frame.PhongTam.astype('float') \n",
    "frame.Gia = frame.Gia.astype('float') \n",
    "frame.describe()"
   ]
  },
  {
   "cell_type": "code",
   "execution_count": 41,
   "id": "67f6b0aa-c349-4c20-a016-876b25e4844d",
   "metadata": {},
   "outputs": [
    {
     "name": "stdout",
     "output_type": "stream",
     "text": [
      "The number of row after cleaning data: 6211\n"
     ]
    }
   ],
   "source": [
    "frame['USD'] = round(frame['Gia']/24000,0)\n",
    "rows  = frame[frame.DienTich > 500]\n",
    "frame = frame.drop(index = rows.index)\n",
    "rows  = frame[frame.SoTang > 81]\n",
    "frame = frame.drop(index = rows.index)\n",
    "frame['log_price'] = np.log(frame.USD)\n",
    "\n",
    "print(\"The number of row after cleaning data:\",len(frame))"
   ]
  },
  {
   "cell_type": "code",
   "execution_count": 42,
   "id": "b930cae0-83aa-4531-929b-14223079cd01",
   "metadata": {},
   "outputs": [],
   "source": [
    "frame.to_csv('/home/hieu/Downloads/_data_science__ML_data_minning/intro2ds_capstone_project/dataset.csv',encoding=\"utf-8-sig\",index=False)"
   ]
  },
  {
   "cell_type": "code",
   "execution_count": 58,
   "id": "89a02743-0cda-47e2-b565-39cfc71fdddf",
   "metadata": {},
   "outputs": [
    {
     "data": {
      "image/png": "[encoded data removed]",
      "text/plain": [
       "<Figure size 720x864 with 4 Axes>"
      ]
     },
     "metadata": {},
     "output_type": "display_data"
    }
   ],
   "source": [
    "def scatter(x,fig):\n",
    "    plt.subplot(5,2,fig)\n",
    "    plt.scatter(frame[x],frame['log_price'])\n",
    "    plt.title(x+' vs price')\n",
    "    plt.ylabel('price')\n",
    "    plt.xlabel(x)\n",
    "\n",
    "\n",
    "plt.figure(figsize=(10,12))\n",
    "\n",
    "scatter('DienTich', 1)\n",
    "scatter('Phongngu', 2)\n",
    "scatter('SoTang', 3)\n",
    "scatter('PhongTam', 4)\n",
    "\n",
    "plt.tight_layout()"
   ]
  },
  {
   "cell_type": "code",
   "execution_count": 44,
   "id": "163af35a-702b-4e75-a800-759e2bf4f160",
   "metadata": {},
   "outputs": [],
   "source": [
    "frame1 = frame[['DienTich', 'Phongngu', 'PhongTam', 'GiayTo', 'Loai', 'HuongCuaChinh', 'TinhTrangNoiThat', 'DiaChi', 'Gia', 'SoTang','DacDiem', 'Quan'   ]]"
   ]
  },
  {
   "cell_type": "code",
   "execution_count": 45,
   "id": "0e0cb4c8-cb11-4413-a5a8-eb5334c01215",
   "metadata": {},
   "outputs": [],
   "source": [
    "bins = [42,67917,106250,40833333]\n"
   ]
  },
  {
   "cell_type": "code",
   "execution_count": 54,
   "id": "5ad3ce31-be36-4cb7-820b-90ae6483f344",
   "metadata": {},
   "outputs": [],
   "source": [
    "def Analyst(col):\n",
    "    temp = frame1.copy()\n",
    "    table = temp.groupby([col])['USD'].mean()\n",
    "    temp = temp.merge(table.reset_index(), how='left',on=col)\n",
    "    cars_bin=['low','Medium','High']\n",
    "    frame1['range'] = pd.cut(temp['USD_y'],bins,right=False,labels=cars_bin)\n",
    "    plt.rcParams['figure.figsize'] = (18, 8)\n",
    "    df = pd.DataFrame(frame1.groupby([col,'range'])['USD'].mean().unstack(fill_value=0))\n",
    "    df.plot.bar()\n",
    "    plt.title('%s vs Price' % col)\n",
    "    plt.show()"
   ]
  },
  {
   "cell_type": "code",
   "execution_count": 48,
   "id": "5474cdfa-ca43-45e4-81df-16e07f564809",
   "metadata": {},
   "outputs": [
    {
     "name": "stdout",
     "output_type": "stream",
     "text": [
      "      DienTich  Phongngu  PhongTam    GiayTo                   Loai  \\\n",
      "0         36.0       4.0       4.0  Đã có sổ           Nhà ngõ, hẻm   \n",
      "1         36.0       3.0       4.0  Đã có sổ           Nhà ngõ, hẻm   \n",
      "2         35.0       3.0       4.0  Đã có sổ           Nhà ngõ, hẻm   \n",
      "3         39.0       4.0       5.0  Đã có sổ           Nhà ngõ, hẻm   \n",
      "4         33.0       3.0       4.0  Đã có sổ           Nhà ngõ, hẻm   \n",
      "...        ...       ...       ...       ...                    ...   \n",
      "6219      32.0       5.0       3.0  Đã có sổ  Nhà mặt phố, mặt tiền   \n",
      "6220      40.0       4.0       3.0  Đã có sổ           Nhà ngõ, hẻm   \n",
      "6221      60.0       4.0       3.0  Đã có sổ           Nhà ngõ, hẻm   \n",
      "6222      35.0       5.0       3.0  Đã có sổ           Nhà ngõ, hẻm   \n",
      "6223      43.0       9.0       7.0  Đã có sổ  Nhà mặt phố, mặt tiền   \n",
      "\n",
      "     HuongCuaChinh  TinhTrangNoiThat  \\\n",
      "0         Đông Nam               NaN   \n",
      "1              NaN  Nội thất cao cấp   \n",
      "2              NaN   Nội thất đầy đủ   \n",
      "3              NaN   Nội thất đầy đủ   \n",
      "4              NaN  Nội thất cao cấp   \n",
      "...            ...               ...   \n",
      "6219           NaN   Nội thất đầy đủ   \n",
      "6220       Tây Nam               NaN   \n",
      "6221           NaN   Nội thất đầy đủ   \n",
      "6222      Đông Nam               NaN   \n",
      "6223           NaN   Nội thất đầy đủ   \n",
      "\n",
      "                                                 DiaChi           Gia  SoTang  \\\n",
      "0     Vân Canh, Phường Phương Canh, Quận Nam Từ Liêm...  2.950000e+09     4.0   \n",
      "1     Phố Ngọc Hà, Phường Ngọc Hà, Quận Ba Đình, Hà ...  4.950000e+09     5.0   \n",
      "2     Xã Đàn, Phường Ô Chợ Dừa, Quận Đống Đa, Hà Nội...  6.650000e+09     NaN   \n",
      "3     Trần Quốc Vượng, Phường Dịch Vọng Hậu, Quận Cầ...  4.700000e+09     4.0   \n",
      "4     Ngõ 322 Đường Mỹ Đình, Phường Mỹ Đình 1, Quận ...  4.300000e+09     5.0   \n",
      "...                                                 ...           ...     ...   \n",
      "6219  Vũ Trọng Phụng, Phường Thanh Xuân Trung, Quận ...  5.150000e+09     4.0   \n",
      "6220  Phố Văn Khê, Phường Phú La, Quận Hà Đông, Hà N...  3.550000e+09     3.0   \n",
      "6221  Đội Cấn, Phường Đội Cấn, Quận Ba Đình, Hà NộiX...  5.100000e+09     5.0   \n",
      "6222  Ngõ 38 Đường Yên Vĩnh, Xã Kim Chung, Huyện Hoà...  2.690000e+09     4.0   \n",
      "6223  Vũ Ngọc Phan, Phường Láng Hạ, Quận Đống Đa, Hà...  8.000000e+09     5.0   \n",
      "\n",
      "     DacDiem               Quan  \n",
      "0        NaN   Quận Nam Từ Liêm  \n",
      "1        NaN       Quận Ba Đình  \n",
      "2        NaN       Quận Đống Đa  \n",
      "3        NaN      Quận Cầu Giấy  \n",
      "4        NaN   Quận Nam Từ Liêm  \n",
      "...      ...                ...  \n",
      "6219     NaN    Quận Thanh Xuân  \n",
      "6220     NaN       Quận Hà Đông  \n",
      "6221     NaN       Quận Ba Đình  \n",
      "6222     NaN     Huyện Hoài Đức  \n",
      "6223     NaN       Quận Đống Đa  \n",
      "\n",
      "[6211 rows x 12 columns]\n"
     ]
    }
   ],
   "source": [
    "print(frame1)"
   ]
  },
  {
   "cell_type": "code",
   "execution_count": 49,
   "id": "dd1ffd08-5c35-4532-82a9-c837b5326b86",
   "metadata": {},
   "outputs": [],
   "source": [
    "frame1 = frame[['DienTich', 'Phongngu', 'PhongTam', 'GiayTo', 'Loai', 'HuongCuaChinh', 'TinhTrangNoiThat', 'DiaChi', 'Gia', 'SoTang','DacDiem', 'Quan', 'USD'   ]]"
   ]
  },
  {
   "cell_type": "code",
   "execution_count": 59,
   "id": "1bff13c4-861f-4ba4-91ea-fd21cf5b1bac",
   "metadata": {},
   "outputs": [
    {
     "data": {
      "image/png": "[encoded data removed]",
      "text/plain": [
       "<Figure size 1296x576 with 1 Axes>"
      ]
     },
     "metadata": {},
     "output_type": "display_data"
    }
   ],
   "source": [
    "Analyst('Quan')\n"
   ]
  },
  {
   "cell_type": "code",
   "execution_count": 51,
   "id": "5f728895-43ad-4a8e-9314-84565684eb09",
   "metadata": {},
   "outputs": [
    {
     "ename": "KeyError",
     "evalue": "'TinhTrangBDS'",
     "output_type": "error",
     "traceback": [
      "\u001b[0;31m---------------------------------------------------------------------------\u001b[0m",
      "\u001b[0;31mKeyError\u001b[0m                                  Traceback (most recent call last)",
      "\u001b[0;32m/tmp/ipykernel_55213/192499948.py\u001b[0m in \u001b[0;36m<module>\u001b[0;34m\u001b[0m\n\u001b[0;32m----> 1\u001b[0;31m \u001b[0mAnalyst\u001b[0m\u001b[0;34m(\u001b[0m\u001b[0;34m'TinhTrangBDS'\u001b[0m\u001b[0;34m)\u001b[0m\u001b[0;34m\u001b[0m\u001b[0;34m\u001b[0m\u001b[0m\n\u001b[0m",
      "\u001b[0;32m/tmp/ipykernel_55213/4131658687.py\u001b[0m in \u001b[0;36mAnalyst\u001b[0;34m(col)\u001b[0m\n\u001b[1;32m      1\u001b[0m \u001b[0;32mdef\u001b[0m \u001b[0mAnalyst\u001b[0m\u001b[0;34m(\u001b[0m\u001b[0mcol\u001b[0m\u001b[0;34m)\u001b[0m\u001b[0;34m:\u001b[0m\u001b[0;34m\u001b[0m\u001b[0;34m\u001b[0m\u001b[0m\n\u001b[1;32m      2\u001b[0m     \u001b[0mtemp\u001b[0m \u001b[0;34m=\u001b[0m \u001b[0mframe1\u001b[0m\u001b[0;34m.\u001b[0m\u001b[0mcopy\u001b[0m\u001b[0;34m(\u001b[0m\u001b[0;34m)\u001b[0m\u001b[0;34m\u001b[0m\u001b[0;34m\u001b[0m\u001b[0m\n\u001b[0;32m----> 3\u001b[0;31m     \u001b[0mtable\u001b[0m \u001b[0;34m=\u001b[0m \u001b[0mtemp\u001b[0m\u001b[0;34m.\u001b[0m\u001b[0mgroupby\u001b[0m\u001b[0;34m(\u001b[0m\u001b[0;34m[\u001b[0m\u001b[0mcol\u001b[0m\u001b[0;34m]\u001b[0m\u001b[0;34m)\u001b[0m\u001b[0;34m[\u001b[0m\u001b[0;34m'USD'\u001b[0m\u001b[0;34m]\u001b[0m\u001b[0;34m.\u001b[0m\u001b[0mmean\u001b[0m\u001b[0;34m(\u001b[0m\u001b[0;34m)\u001b[0m\u001b[0;34m\u001b[0m\u001b[0;34m\u001b[0m\u001b[0m\n\u001b[0m\u001b[1;32m      4\u001b[0m     \u001b[0mtemp\u001b[0m \u001b[0;34m=\u001b[0m \u001b[0mtemp\u001b[0m\u001b[0;34m.\u001b[0m\u001b[0mmerge\u001b[0m\u001b[0;34m(\u001b[0m\u001b[0mtable\u001b[0m\u001b[0;34m.\u001b[0m\u001b[0mreset_index\u001b[0m\u001b[0;34m(\u001b[0m\u001b[0;34m)\u001b[0m\u001b[0;34m,\u001b[0m \u001b[0mhow\u001b[0m\u001b[0;34m=\u001b[0m\u001b[0;34m'left'\u001b[0m\u001b[0;34m,\u001b[0m\u001b[0mon\u001b[0m\u001b[0;34m=\u001b[0m\u001b[0mcol\u001b[0m\u001b[0;34m)\u001b[0m\u001b[0;34m\u001b[0m\u001b[0;34m\u001b[0m\u001b[0m\n\u001b[1;32m      5\u001b[0m     \u001b[0mcars_bin\u001b[0m\u001b[0;34m=\u001b[0m\u001b[0;34m[\u001b[0m\u001b[0;34m'low'\u001b[0m\u001b[0;34m,\u001b[0m\u001b[0;34m'Medium'\u001b[0m\u001b[0;34m,\u001b[0m\u001b[0;34m'High'\u001b[0m\u001b[0;34m]\u001b[0m\u001b[0;34m\u001b[0m\u001b[0;34m\u001b[0m\u001b[0m\n",
      "\u001b[0;32m~/.local/lib/python3.10/site-packages/pandas/core/frame.py\u001b[0m in \u001b[0;36mgroupby\u001b[0;34m(self, by, axis, level, as_index, sort, group_keys, observed, dropna)\u001b[0m\n\u001b[1;32m   8867\u001b[0m             \u001b[0;32mraise\u001b[0m \u001b[0mTypeError\u001b[0m\u001b[0;34m(\u001b[0m\u001b[0;34m\"You have to supply one of 'by' and 'level'\"\u001b[0m\u001b[0;34m)\u001b[0m\u001b[0;34m\u001b[0m\u001b[0;34m\u001b[0m\u001b[0m\n\u001b[1;32m   8868\u001b[0m \u001b[0;34m\u001b[0m\u001b[0m\n\u001b[0;32m-> 8869\u001b[0;31m         return DataFrameGroupBy(\n\u001b[0m\u001b[1;32m   8870\u001b[0m             \u001b[0mobj\u001b[0m\u001b[0;34m=\u001b[0m\u001b[0mself\u001b[0m\u001b[0;34m,\u001b[0m\u001b[0;34m\u001b[0m\u001b[0;34m\u001b[0m\u001b[0m\n\u001b[1;32m   8871\u001b[0m             \u001b[0mkeys\u001b[0m\u001b[0;34m=\u001b[0m\u001b[0mby\u001b[0m\u001b[0;34m,\u001b[0m\u001b[0;34m\u001b[0m\u001b[0;34m\u001b[0m\u001b[0m\n",
      "\u001b[0;32m~/.local/lib/python3.10/site-packages/pandas/core/groupby/groupby.py\u001b[0m in \u001b[0;36m__init__\u001b[0;34m(self, obj, keys, axis, level, grouper, exclusions, selection, as_index, sort, group_keys, observed, dropna)\u001b[0m\n\u001b[1;32m   1276\u001b[0m \u001b[0;34m\u001b[0m\u001b[0m\n\u001b[1;32m   1277\u001b[0m         \u001b[0;32mif\u001b[0m \u001b[0mgrouper\u001b[0m \u001b[0;32mis\u001b[0m \u001b[0;32mNone\u001b[0m\u001b[0;34m:\u001b[0m\u001b[0;34m\u001b[0m\u001b[0;34m\u001b[0m\u001b[0m\n\u001b[0;32m-> 1278\u001b[0;31m             grouper, exclusions, obj = get_grouper(\n\u001b[0m\u001b[1;32m   1279\u001b[0m                 \u001b[0mobj\u001b[0m\u001b[0;34m,\u001b[0m\u001b[0;34m\u001b[0m\u001b[0;34m\u001b[0m\u001b[0m\n\u001b[1;32m   1280\u001b[0m                 \u001b[0mkeys\u001b[0m\u001b[0;34m,\u001b[0m\u001b[0;34m\u001b[0m\u001b[0;34m\u001b[0m\u001b[0m\n",
      "\u001b[0;32m~/.local/lib/python3.10/site-packages/pandas/core/groupby/grouper.py\u001b[0m in \u001b[0;36mget_grouper\u001b[0;34m(obj, key, axis, level, sort, observed, validate, dropna)\u001b[0m\n\u001b[1;32m   1007\u001b[0m                 \u001b[0min_axis\u001b[0m\u001b[0;34m,\u001b[0m \u001b[0mlevel\u001b[0m\u001b[0;34m,\u001b[0m \u001b[0mgpr\u001b[0m \u001b[0;34m=\u001b[0m \u001b[0;32mFalse\u001b[0m\u001b[0;34m,\u001b[0m \u001b[0mgpr\u001b[0m\u001b[0;34m,\u001b[0m \u001b[0;32mNone\u001b[0m\u001b[0;34m\u001b[0m\u001b[0;34m\u001b[0m\u001b[0m\n\u001b[1;32m   1008\u001b[0m             \u001b[0;32melse\u001b[0m\u001b[0;34m:\u001b[0m\u001b[0;34m\u001b[0m\u001b[0;34m\u001b[0m\u001b[0m\n\u001b[0;32m-> 1009\u001b[0;31m                 \u001b[0;32mraise\u001b[0m \u001b[0mKeyError\u001b[0m\u001b[0;34m(\u001b[0m\u001b[0mgpr\u001b[0m\u001b[0;34m)\u001b[0m\u001b[0;34m\u001b[0m\u001b[0;34m\u001b[0m\u001b[0m\n\u001b[0m\u001b[1;32m   1010\u001b[0m         \u001b[0;32melif\u001b[0m \u001b[0misinstance\u001b[0m\u001b[0;34m(\u001b[0m\u001b[0mgpr\u001b[0m\u001b[0;34m,\u001b[0m \u001b[0mGrouper\u001b[0m\u001b[0;34m)\u001b[0m \u001b[0;32mand\u001b[0m \u001b[0mgpr\u001b[0m\u001b[0;34m.\u001b[0m\u001b[0mkey\u001b[0m \u001b[0;32mis\u001b[0m \u001b[0;32mnot\u001b[0m \u001b[0;32mNone\u001b[0m\u001b[0;34m:\u001b[0m\u001b[0;34m\u001b[0m\u001b[0;34m\u001b[0m\u001b[0m\n\u001b[1;32m   1011\u001b[0m             \u001b[0;31m# Add key to exclusions\u001b[0m\u001b[0;34m\u001b[0m\u001b[0;34m\u001b[0m\u001b[0m\n",
      "\u001b[0;31mKeyError\u001b[0m: 'TinhTrangBDS'"
     ]
    }
   ],
   "source": [
    "Analyst('TinhTrangBDS')\n"
   ]
  },
  {
   "cell_type": "code",
   "execution_count": 60,
   "id": "a8885e75-3713-4d6c-bf29-1957d007d1a6",
   "metadata": {},
   "outputs": [
    {
     "data": {
      "image/png": "[encoded data removed]",
      "text/plain": [
       "<Figure size 1296x576 with 1 Axes>"
      ]
     },
     "metadata": {},
     "output_type": "display_data"
    }
   ],
   "source": [
    "Analyst('TinhTrangNoiThat')\n"
   ]
  },
  {
   "cell_type": "code",
   "execution_count": 53,
   "id": "38b28111-d72f-4597-8336-b60135cf0172",
   "metadata": {},
   "outputs": [
    {
     "data": {
      "image/png": "[encoded data removed]",
      "text/plain": [
       "<Figure size 1296x576 with 1 Axes>"
      ]
     },
     "metadata": {},
     "output_type": "display_data"
    }
   ],
   "source": [
    "Analyst('Loai')\n"
   ]
  },
  {
   "cell_type": "code",
   "execution_count": 55,
   "id": "ac3b459d-0173-4ce0-b414-0c790d8137ce",
   "metadata": {},
   "outputs": [
    {
     "data": {
      "image/png": "[encoded data removed]",
      "text/plain": [
       "<Figure size 1296x576 with 1 Axes>"
      ]
     },
     "metadata": {},
     "output_type": "display_data"
    }
   ],
   "source": [
    "Analyst('Loai')\n"
   ]
  },
  {
   "cell_type": "code",
   "execution_count": 56,
   "id": "9e1c0df3-3308-4810-a082-942c6de8f90d",
   "metadata": {},
   "outputs": [
    {
     "data": {
      "image/png": "[encoded data removed]",
      "text/plain": [
       "<Figure size 1296x576 with 1 Axes>"
      ]
     },
     "metadata": {},
     "output_type": "display_data"
    }
   ],
   "source": [
    "Analyst('TinhTrangNoiThat')\n"
   ]
  },
  {
   "cell_type": "code",
   "execution_count": 57,
   "id": "9cc1c853-f83a-4816-9a0c-96e9cee8f94d",
   "metadata": {},
   "outputs": [
    {
     "data": {
      "image/png": "[encoded data removed]",
      "text/plain": [
       "<Figure size 1296x576 with 1 Axes>"
      ]
     },
     "metadata": {},
     "output_type": "display_data"
    }
   ],
   "source": [
    "Analyst('DacDiem')"
   ]
  },
  {
   "cell_type": "code",
   "execution_count": 61,
   "id": "aac6bc93-958e-476d-9c68-83e9ffab3186",
   "metadata": {},
   "outputs": [
    {
     "ename": "NameError",
     "evalue": "name 'test' is not defined",
     "output_type": "error",
     "traceback": [
      "\u001b[0;31m---------------------------------------------------------------------------\u001b[0m",
      "\u001b[0;31mNameError\u001b[0m                                 Traceback (most recent call last)",
      "\u001b[0;32m/tmp/ipykernel_55213/3538844464.py\u001b[0m in \u001b[0;36m<module>\u001b[0;34m\u001b[0m\n\u001b[0;32m----> 1\u001b[0;31m \u001b[0mprint\u001b[0m\u001b[0;34m(\u001b[0m\u001b[0mtest\u001b[0m\u001b[0;34m.\u001b[0m\u001b[0mHuongCuaChinh\u001b[0m\u001b[0;34m.\u001b[0m\u001b[0mvalue_counts\u001b[0m\u001b[0;34m(\u001b[0m\u001b[0;34m)\u001b[0m\u001b[0;34m)\u001b[0m\u001b[0;34m\u001b[0m\u001b[0;34m\u001b[0m\u001b[0m\n\u001b[0m\u001b[1;32m      2\u001b[0m \u001b[0msns\u001b[0m\u001b[0;34m.\u001b[0m\u001b[0mboxplot\u001b[0m\u001b[0;34m(\u001b[0m\u001b[0mx\u001b[0m\u001b[0;34m=\u001b[0m\u001b[0mtest\u001b[0m\u001b[0;34m.\u001b[0m\u001b[0mHuongCuaChinh\u001b[0m\u001b[0;34m,\u001b[0m \u001b[0my\u001b[0m\u001b[0;34m=\u001b[0m\u001b[0mtest\u001b[0m\u001b[0;34m.\u001b[0m\u001b[0mUSD\u001b[0m\u001b[0;34m,\u001b[0m \u001b[0mpalette\u001b[0m\u001b[0;34m=\u001b[0m\u001b[0;34m(\u001b[0m\u001b[0;34m\"plasma\"\u001b[0m\u001b[0;34m)\u001b[0m\u001b[0;34m)\u001b[0m\u001b[0;34m\u001b[0m\u001b[0;34m\u001b[0m\u001b[0m\n\u001b[1;32m      3\u001b[0m \u001b[0mplt\u001b[0m\u001b[0;34m.\u001b[0m\u001b[0mtitle\u001b[0m\u001b[0;34m(\u001b[0m\u001b[0;34m'Huong cua chinh vs Gia'\u001b[0m\u001b[0;34m)\u001b[0m\u001b[0;34m\u001b[0m\u001b[0;34m\u001b[0m\u001b[0m\n\u001b[1;32m      4\u001b[0m \u001b[0mplt\u001b[0m\u001b[0;34m.\u001b[0m\u001b[0mshow\u001b[0m\u001b[0;34m(\u001b[0m\u001b[0;34m)\u001b[0m\u001b[0;34m\u001b[0m\u001b[0;34m\u001b[0m\u001b[0m\n",
      "\u001b[0;31mNameError\u001b[0m: name 'test' is not defined"
     ]
    }
   ],
   "source": [
    "print(test.HuongCuaChinh.value_counts())\n",
    "sns.boxplot(x=test.HuongCuaChinh, y=test.USD, palette=(\"plasma\"))\n",
    "plt.title('Huong cua chinh vs Gia')\n",
    "plt.show()"
   ]
  },
  {
   "cell_type": "code",
   "execution_count": 62,
   "id": "a8009677-1184-4db5-beca-bf59786e63e2",
   "metadata": {},
   "outputs": [],
   "source": [
    "test = frame1[frame1.USD <frame1.USD.quantile(0.8)]\n"
   ]
  },
  {
   "cell_type": "code",
   "execution_count": 63,
   "id": "fe1fe952-d71a-4c8a-9757-83674ef53753",
   "metadata": {},
   "outputs": [],
   "source": [
    "plt.rcParams['figure.figsize'] = (12, 6)"
   ]
  },
  {
   "cell_type": "code",
   "execution_count": 65,
   "id": "e1e93ac3-2b59-4e56-992a-564bd980884b",
   "metadata": {},
   "outputs": [
    {
     "name": "stdout",
     "output_type": "stream",
     "text": [
      "HuongCuaChinh\n",
      "Đông Nam    287\n",
      "Đông Bắc    119\n",
      "Tây Bắc     112\n",
      "Tây Nam      98\n",
      "Nam          81\n",
      "Đông         67\n",
      "Tây          62\n",
      "Bắc          61\n",
      "Name: count, dtype: int64\n"
     ]
    },
    {
     "data": {
      "image/png": "[encoded data removed]",
      "text/plain": [
       "<Figure size 864x432 with 1 Axes>"
      ]
     },
     "metadata": {},
     "output_type": "display_data"
    }
   ],
   "source": [
    "print(test.HuongCuaChinh.value_counts())\n",
    "sns.boxplot(x=test.HuongCuaChinh, y=test.USD, palette=(\"plasma\"))\n",
    "plt.title('HuongCuaChinh vs Price')\n",
    "plt.show()"
   ]
  },
  {
   "cell_type": "code",
   "execution_count": 67,
   "id": "fa7c4ae6-95e2-4e1f-8add-a70fed01df23",
   "metadata": {},
   "outputs": [
    {
     "name": "stdout",
     "output_type": "stream",
     "text": [
      "Loai\n",
      "Nhà ngõ, hẻm             4199\n",
      "Nhà mặt phố, mặt tiền     617\n",
      "Nhà phố liền kề           126\n",
      "Nhà biệt thự               15\n",
      "Name: count, dtype: int64\n"
     ]
    },
    {
     "data": {
      "image/png": "[encoded data removed]",
      "text/plain": [
       "<Figure size 864x432 with 1 Axes>"
      ]
     },
     "metadata": {},
     "output_type": "display_data"
    }
   ],
   "source": [
    "print(test.Loai.value_counts())\n",
    "sns.boxplot(x=test.Loai, y=test.USD, palette=(\"plasma\"))\n",
    "plt.title('Loai vs Price')\n",
    "plt.show()"
   ]
  },
  {
   "cell_type": "code",
   "execution_count": 69,
   "id": "5b8262b2-2862-401a-b65c-48d1bc019c77",
   "metadata": {},
   "outputs": [
    {
     "name": "stdout",
     "output_type": "stream",
     "text": [
      "GiayTo\n",
      "Đã có sổ        4425\n",
      "Giấy tờ khác      57\n",
      "Đang chờ sổ       33\n",
      "Name: count, dtype: int64\n"
     ]
    },
    {
     "data": {
      "image/png": "[encoded data removed]",
      "text/plain": [
       "<Figure size 864x432 with 1 Axes>"
      ]
     },
     "metadata": {},
     "output_type": "display_data"
    }
   ],
   "source": [
    "print(test.GiayTo.value_counts())\n",
    "sns.boxplot(x=test.GiayTo, y=test.USD, palette=(\"plasma\"))\n",
    "plt.title('GiayTo vs Price')\n",
    "plt.show()"
   ]
  },
  {
   "cell_type": "code",
   "execution_count": 70,
   "id": "8d360bb1-a80d-4a95-bd47-f194953414f9",
   "metadata": {},
   "outputs": [],
   "source": [
    "from sklearn.preprocessing import StandardScaler\n",
    "from sklearn.linear_model import LinearRegression\n",
    "from sklearn.model_selection import train_test_split"
   ]
  },
  {
   "cell_type": "code",
   "execution_count": 71,
   "id": "489c19b4-486b-44d9-a086-2d1a53ec895f",
   "metadata": {},
   "outputs": [
    {
     "ename": "FileNotFoundError",
     "evalue": "[Errno 2] No such file or directory: 'dataset.csv'",
     "output_type": "error",
     "traceback": [
      "\u001b[0;31m---------------------------------------------------------------------------\u001b[0m",
      "\u001b[0;31mFileNotFoundError\u001b[0m                         Traceback (most recent call last)",
      "\u001b[0;32m/tmp/ipykernel_55213/2378818229.py\u001b[0m in \u001b[0;36m<module>\u001b[0;34m\u001b[0m\n\u001b[0;32m----> 1\u001b[0;31m \u001b[0mdf\u001b[0m \u001b[0;34m=\u001b[0m \u001b[0mpd\u001b[0m\u001b[0;34m.\u001b[0m\u001b[0mread_csv\u001b[0m\u001b[0;34m(\u001b[0m\u001b[0;34m'dataset.csv'\u001b[0m\u001b[0;34m)\u001b[0m\u001b[0;34m\u001b[0m\u001b[0;34m\u001b[0m\u001b[0m\n\u001b[0m",
      "\u001b[0;32m~/.local/lib/python3.10/site-packages/pandas/io/parsers/readers.py\u001b[0m in \u001b[0;36mread_csv\u001b[0;34m(filepath_or_buffer, sep, delimiter, header, names, index_col, usecols, dtype, engine, converters, true_values, false_values, skipinitialspace, skiprows, skipfooter, nrows, na_values, keep_default_na, na_filter, verbose, skip_blank_lines, parse_dates, infer_datetime_format, keep_date_col, date_parser, date_format, dayfirst, cache_dates, iterator, chunksize, compression, thousands, decimal, lineterminator, quotechar, quoting, doublequote, escapechar, comment, encoding, encoding_errors, dialect, on_bad_lines, delim_whitespace, low_memory, memory_map, float_precision, storage_options, dtype_backend)\u001b[0m\n\u001b[1;32m    946\u001b[0m     \u001b[0mkwds\u001b[0m\u001b[0;34m.\u001b[0m\u001b[0mupdate\u001b[0m\u001b[0;34m(\u001b[0m\u001b[0mkwds_defaults\u001b[0m\u001b[0;34m)\u001b[0m\u001b[0;34m\u001b[0m\u001b[0;34m\u001b[0m\u001b[0m\n\u001b[1;32m    947\u001b[0m \u001b[0;34m\u001b[0m\u001b[0m\n\u001b[0;32m--> 948\u001b[0;31m     \u001b[0;32mreturn\u001b[0m \u001b[0m_read\u001b[0m\u001b[0;34m(\u001b[0m\u001b[0mfilepath_or_buffer\u001b[0m\u001b[0;34m,\u001b[0m \u001b[0mkwds\u001b[0m\u001b[0;34m)\u001b[0m\u001b[0;34m\u001b[0m\u001b[0;34m\u001b[0m\u001b[0m\n\u001b[0m\u001b[1;32m    949\u001b[0m \u001b[0;34m\u001b[0m\u001b[0m\n\u001b[1;32m    950\u001b[0m \u001b[0;34m\u001b[0m\u001b[0m\n",
      "\u001b[0;32m~/.local/lib/python3.10/site-packages/pandas/io/parsers/readers.py\u001b[0m in \u001b[0;36m_read\u001b[0;34m(filepath_or_buffer, kwds)\u001b[0m\n\u001b[1;32m    609\u001b[0m \u001b[0;34m\u001b[0m\u001b[0m\n\u001b[1;32m    610\u001b[0m     \u001b[0;31m# Create the parser.\u001b[0m\u001b[0;34m\u001b[0m\u001b[0;34m\u001b[0m\u001b[0m\n\u001b[0;32m--> 611\u001b[0;31m     \u001b[0mparser\u001b[0m \u001b[0;34m=\u001b[0m \u001b[0mTextFileReader\u001b[0m\u001b[0;34m(\u001b[0m\u001b[0mfilepath_or_buffer\u001b[0m\u001b[0;34m,\u001b[0m \u001b[0;34m**\u001b[0m\u001b[0mkwds\u001b[0m\u001b[0;34m)\u001b[0m\u001b[0;34m\u001b[0m\u001b[0;34m\u001b[0m\u001b[0m\n\u001b[0m\u001b[1;32m    612\u001b[0m \u001b[0;34m\u001b[0m\u001b[0m\n\u001b[1;32m    613\u001b[0m     \u001b[0;32mif\u001b[0m \u001b[0mchunksize\u001b[0m \u001b[0;32mor\u001b[0m \u001b[0miterator\u001b[0m\u001b[0;34m:\u001b[0m\u001b[0;34m\u001b[0m\u001b[0;34m\u001b[0m\u001b[0m\n",
      "\u001b[0;32m~/.local/lib/python3.10/site-packages/pandas/io/parsers/readers.py\u001b[0m in \u001b[0;36m__init__\u001b[0;34m(self, f, engine, **kwds)\u001b[0m\n\u001b[1;32m   1446\u001b[0m \u001b[0;34m\u001b[0m\u001b[0m\n\u001b[1;32m   1447\u001b[0m         \u001b[0mself\u001b[0m\u001b[0;34m.\u001b[0m\u001b[0mhandles\u001b[0m\u001b[0;34m:\u001b[0m \u001b[0mIOHandles\u001b[0m \u001b[0;34m|\u001b[0m \u001b[0;32mNone\u001b[0m \u001b[0;34m=\u001b[0m \u001b[0;32mNone\u001b[0m\u001b[0;34m\u001b[0m\u001b[0;34m\u001b[0m\u001b[0m\n\u001b[0;32m-> 1448\u001b[0;31m         \u001b[0mself\u001b[0m\u001b[0;34m.\u001b[0m\u001b[0m_engine\u001b[0m \u001b[0;34m=\u001b[0m \u001b[0mself\u001b[0m\u001b[0;34m.\u001b[0m\u001b[0m_make_engine\u001b[0m\u001b[0;34m(\u001b[0m\u001b[0mf\u001b[0m\u001b[0;34m,\u001b[0m \u001b[0mself\u001b[0m\u001b[0;34m.\u001b[0m\u001b[0mengine\u001b[0m\u001b[0;34m)\u001b[0m\u001b[0;34m\u001b[0m\u001b[0;34m\u001b[0m\u001b[0m\n\u001b[0m\u001b[1;32m   1449\u001b[0m \u001b[0;34m\u001b[0m\u001b[0m\n\u001b[1;32m   1450\u001b[0m     \u001b[0;32mdef\u001b[0m \u001b[0mclose\u001b[0m\u001b[0;34m(\u001b[0m\u001b[0mself\u001b[0m\u001b[0;34m)\u001b[0m \u001b[0;34m->\u001b[0m \u001b[0;32mNone\u001b[0m\u001b[0;34m:\u001b[0m\u001b[0;34m\u001b[0m\u001b[0;34m\u001b[0m\u001b[0m\n",
      "\u001b[0;32m~/.local/lib/python3.10/site-packages/pandas/io/parsers/readers.py\u001b[0m in \u001b[0;36m_make_engine\u001b[0;34m(self, f, engine)\u001b[0m\n\u001b[1;32m   1703\u001b[0m                 \u001b[0;32mif\u001b[0m \u001b[0;34m\"b\"\u001b[0m \u001b[0;32mnot\u001b[0m \u001b[0;32min\u001b[0m \u001b[0mmode\u001b[0m\u001b[0;34m:\u001b[0m\u001b[0;34m\u001b[0m\u001b[0;34m\u001b[0m\u001b[0m\n\u001b[1;32m   1704\u001b[0m                     \u001b[0mmode\u001b[0m \u001b[0;34m+=\u001b[0m \u001b[0;34m\"b\"\u001b[0m\u001b[0;34m\u001b[0m\u001b[0;34m\u001b[0m\u001b[0m\n\u001b[0;32m-> 1705\u001b[0;31m             self.handles = get_handle(\n\u001b[0m\u001b[1;32m   1706\u001b[0m                 \u001b[0mf\u001b[0m\u001b[0;34m,\u001b[0m\u001b[0;34m\u001b[0m\u001b[0;34m\u001b[0m\u001b[0m\n\u001b[1;32m   1707\u001b[0m                 \u001b[0mmode\u001b[0m\u001b[0;34m,\u001b[0m\u001b[0;34m\u001b[0m\u001b[0;34m\u001b[0m\u001b[0m\n",
      "\u001b[0;32m~/.local/lib/python3.10/site-packages/pandas/io/common.py\u001b[0m in \u001b[0;36mget_handle\u001b[0;34m(path_or_buf, mode, encoding, compression, memory_map, is_text, errors, storage_options)\u001b[0m\n\u001b[1;32m    861\u001b[0m         \u001b[0;32mif\u001b[0m \u001b[0mioargs\u001b[0m\u001b[0;34m.\u001b[0m\u001b[0mencoding\u001b[0m \u001b[0;32mand\u001b[0m \u001b[0;34m\"b\"\u001b[0m \u001b[0;32mnot\u001b[0m \u001b[0;32min\u001b[0m \u001b[0mioargs\u001b[0m\u001b[0;34m.\u001b[0m\u001b[0mmode\u001b[0m\u001b[0;34m:\u001b[0m\u001b[0;34m\u001b[0m\u001b[0;34m\u001b[0m\u001b[0m\n\u001b[1;32m    862\u001b[0m             \u001b[0;31m# Encoding\u001b[0m\u001b[0;34m\u001b[0m\u001b[0;34m\u001b[0m\u001b[0m\n\u001b[0;32m--> 863\u001b[0;31m             handle = open(\n\u001b[0m\u001b[1;32m    864\u001b[0m                 \u001b[0mhandle\u001b[0m\u001b[0;34m,\u001b[0m\u001b[0;34m\u001b[0m\u001b[0;34m\u001b[0m\u001b[0m\n\u001b[1;32m    865\u001b[0m                 \u001b[0mioargs\u001b[0m\u001b[0;34m.\u001b[0m\u001b[0mmode\u001b[0m\u001b[0;34m,\u001b[0m\u001b[0;34m\u001b[0m\u001b[0;34m\u001b[0m\u001b[0m\n",
      "\u001b[0;31mFileNotFoundError\u001b[0m: [Errno 2] No such file or directory: 'dataset.csv'"
     ]
    }
   ],
   "source": [
    "df = pd.read_csv('dataset.csv')\n"
   ]
  },
  {
   "cell_type": "code",
   "execution_count": 72,
   "id": "eb26e6ec-3f29-4844-8084-5cb5366dc200",
   "metadata": {},
   "outputs": [],
   "source": [
    "frame.to_csv('dataset.csv',encoding=\"utf-8-sig\",index=False)\n"
   ]
  },
  {
   "cell_type": "code",
   "execution_count": 73,
   "id": "da805294-2359-4706-a21b-56f7c990de5e",
   "metadata": {},
   "outputs": [],
   "source": [
    "df = pd.read_csv('dataset.csv')\n"
   ]
  },
  {
   "cell_type": "code",
   "execution_count": 74,
   "id": "9cf7a3bb-960c-461c-b0f5-c307e304bed9",
   "metadata": {},
   "outputs": [
    {
     "data": {
      "text/html": [
       "<div>\n",
       "<style scoped>\n",
       "    .dataframe tbody tr th:only-of-type {\n",
       "        vertical-align: middle;\n",
       "    }\n",
       "\n",
       "    .dataframe tbody tr th {\n",
       "        vertical-align: top;\n",
       "    }\n",
       "\n",
       "    .dataframe thead th {\n",
       "        text-align: right;\n",
       "    }\n",
       "</style>\n",
       "<table border=\"1\" class=\"dataframe\">\n",
       "  <thead>\n",
       "    <tr style=\"text-align: right;\">\n",
       "      <th></th>\n",
       "      <th>DienTich</th>\n",
       "      <th>Phongngu</th>\n",
       "      <th>PhongTam</th>\n",
       "      <th>Gia</th>\n",
       "      <th>SoTang</th>\n",
       "      <th>USD</th>\n",
       "      <th>log_price</th>\n",
       "    </tr>\n",
       "  </thead>\n",
       "  <tbody>\n",
       "    <tr>\n",
       "      <th>count</th>\n",
       "      <td>6211.000000</td>\n",
       "      <td>6211.000000</td>\n",
       "      <td>6211.000000</td>\n",
       "      <td>6.211000e+03</td>\n",
       "      <td>5587.000000</td>\n",
       "      <td>6.211000e+03</td>\n",
       "      <td>6211.000000</td>\n",
       "    </tr>\n",
       "    <tr>\n",
       "      <th>mean</th>\n",
       "      <td>50.279811</td>\n",
       "      <td>4.065368</td>\n",
       "      <td>3.911125</td>\n",
       "      <td>7.750960e+09</td>\n",
       "      <td>4.924110</td>\n",
       "      <td>3.229567e+05</td>\n",
       "      <td>12.353703</td>\n",
       "    </tr>\n",
       "    <tr>\n",
       "      <th>std</th>\n",
       "      <td>34.637742</td>\n",
       "      <td>1.768095</td>\n",
       "      <td>1.290804</td>\n",
       "      <td>1.123248e+10</td>\n",
       "      <td>4.174364</td>\n",
       "      <td>4.680200e+05</td>\n",
       "      <td>0.717645</td>\n",
       "    </tr>\n",
       "    <tr>\n",
       "      <th>min</th>\n",
       "      <td>5.000000</td>\n",
       "      <td>1.000000</td>\n",
       "      <td>1.000000</td>\n",
       "      <td>4.100000e+06</td>\n",
       "      <td>1.000000</td>\n",
       "      <td>1.710000e+02</td>\n",
       "      <td>5.141664</td>\n",
       "    </tr>\n",
       "    <tr>\n",
       "      <th>25%</th>\n",
       "      <td>35.000000</td>\n",
       "      <td>3.000000</td>\n",
       "      <td>3.000000</td>\n",
       "      <td>3.600000e+09</td>\n",
       "      <td>4.000000</td>\n",
       "      <td>1.500000e+05</td>\n",
       "      <td>11.918391</td>\n",
       "    </tr>\n",
       "    <tr>\n",
       "      <th>50%</th>\n",
       "      <td>41.000000</td>\n",
       "      <td>4.000000</td>\n",
       "      <td>4.000000</td>\n",
       "      <td>5.000000e+09</td>\n",
       "      <td>5.000000</td>\n",
       "      <td>2.083330e+05</td>\n",
       "      <td>12.246893</td>\n",
       "    </tr>\n",
       "    <tr>\n",
       "      <th>75%</th>\n",
       "      <td>54.000000</td>\n",
       "      <td>4.000000</td>\n",
       "      <td>4.000000</td>\n",
       "      <td>7.800000e+09</td>\n",
       "      <td>5.000000</td>\n",
       "      <td>3.250000e+05</td>\n",
       "      <td>12.691580</td>\n",
       "    </tr>\n",
       "    <tr>\n",
       "      <th>max</th>\n",
       "      <td>492.000000</td>\n",
       "      <td>11.000000</td>\n",
       "      <td>7.000000</td>\n",
       "      <td>2.950000e+11</td>\n",
       "      <td>77.000000</td>\n",
       "      <td>1.229167e+07</td>\n",
       "      <td>16.324432</td>\n",
       "    </tr>\n",
       "  </tbody>\n",
       "</table>\n",
       "</div>"
      ],
      "text/plain": [
       "          DienTich     Phongngu     PhongTam           Gia       SoTang  \\\n",
       "count  6211.000000  6211.000000  6211.000000  6.211000e+03  5587.000000   \n",
       "mean     50.279811     4.065368     3.911125  7.750960e+09     4.924110   \n",
       "std      34.637742     1.768095     1.290804  1.123248e+10     4.174364   \n",
       "min       5.000000     1.000000     1.000000  4.100000e+06     1.000000   \n",
       "25%      35.000000     3.000000     3.000000  3.600000e+09     4.000000   \n",
       "50%      41.000000     4.000000     4.000000  5.000000e+09     5.000000   \n",
       "75%      54.000000     4.000000     4.000000  7.800000e+09     5.000000   \n",
       "max     492.000000    11.000000     7.000000  2.950000e+11    77.000000   \n",
       "\n",
       "                USD    log_price  \n",
       "count  6.211000e+03  6211.000000  \n",
       "mean   3.229567e+05    12.353703  \n",
       "std    4.680200e+05     0.717645  \n",
       "min    1.710000e+02     5.141664  \n",
       "25%    1.500000e+05    11.918391  \n",
       "50%    2.083330e+05    12.246893  \n",
       "75%    3.250000e+05    12.691580  \n",
       "max    1.229167e+07    16.324432  "
      ]
     },
     "execution_count": 74,
     "metadata": {},
     "output_type": "execute_result"
    }
   ],
   "source": [
    "df.describe()\n"
   ]
  },
  {
   "cell_type": "code",
   "execution_count": 75,
   "id": "6e69bc2b-d1c2-4bfb-86f9-7d4bf037a05c",
   "metadata": {},
   "outputs": [
    {
     "data": {
      "text/html": [
       "<div>\n",
       "<style scoped>\n",
       "    .dataframe tbody tr th:only-of-type {\n",
       "        vertical-align: middle;\n",
       "    }\n",
       "\n",
       "    .dataframe tbody tr th {\n",
       "        vertical-align: top;\n",
       "    }\n",
       "\n",
       "    .dataframe thead th {\n",
       "        text-align: right;\n",
       "    }\n",
       "</style>\n",
       "<table border=\"1\" class=\"dataframe\">\n",
       "  <thead>\n",
       "    <tr style=\"text-align: right;\">\n",
       "      <th></th>\n",
       "      <th>DienTich</th>\n",
       "      <th>Phongngu</th>\n",
       "      <th>PhongTam</th>\n",
       "      <th>GiayTo</th>\n",
       "      <th>Loai</th>\n",
       "      <th>HuongCuaChinh</th>\n",
       "      <th>TinhTrangNoiThat</th>\n",
       "      <th>DiaChi</th>\n",
       "      <th>Gia</th>\n",
       "      <th>SoTang</th>\n",
       "      <th>DacDiem</th>\n",
       "      <th>Quan</th>\n",
       "      <th>USD</th>\n",
       "      <th>log_price</th>\n",
       "      <th>Rank</th>\n",
       "    </tr>\n",
       "  </thead>\n",
       "  <tbody>\n",
       "    <tr>\n",
       "      <th>16</th>\n",
       "      <td>33.0</td>\n",
       "      <td>3.0</td>\n",
       "      <td>3.0</td>\n",
       "      <td>Đã có sổ</td>\n",
       "      <td>Nhà ngõ, hẻm</td>\n",
       "      <td>Đông Nam</td>\n",
       "      <td>NaN</td>\n",
       "      <td>Trinh Lương, Phường Phú Lương, Quận Hà Đông, H...</td>\n",
       "      <td>2.300000e+09</td>\n",
       "      <td>4.0</td>\n",
       "      <td>NaN</td>\n",
       "      <td>Quận Hà Đông</td>\n",
       "      <td>95833.0</td>\n",
       "      <td>11.470362</td>\n",
       "      <td>95833.0</td>\n",
       "    </tr>\n",
       "    <tr>\n",
       "      <th>21</th>\n",
       "      <td>30.0</td>\n",
       "      <td>3.0</td>\n",
       "      <td>3.0</td>\n",
       "      <td>NaN</td>\n",
       "      <td>Nhà ngõ, hẻm</td>\n",
       "      <td>Tây Nam</td>\n",
       "      <td>Nội thất đầy đủ</td>\n",
       "      <td>65, An Thắng, Phường Biên Giang, Quận Hà Đông,...</td>\n",
       "      <td>1.800000e+09</td>\n",
       "      <td>NaN</td>\n",
       "      <td>Hẻm xe hơi,Nở hậu</td>\n",
       "      <td>Quận Hà Đông</td>\n",
       "      <td>75000.0</td>\n",
       "      <td>11.225243</td>\n",
       "      <td>75000.0</td>\n",
       "    </tr>\n",
       "  </tbody>\n",
       "</table>\n",
       "</div>"
      ],
      "text/plain": [
       "    DienTich  Phongngu  PhongTam    GiayTo          Loai HuongCuaChinh  \\\n",
       "16      33.0       3.0       3.0  Đã có sổ  Nhà ngõ, hẻm      Đông Nam   \n",
       "21      30.0       3.0       3.0       NaN  Nhà ngõ, hẻm       Tây Nam   \n",
       "\n",
       "   TinhTrangNoiThat                                             DiaChi  \\\n",
       "16              NaN  Trinh Lương, Phường Phú Lương, Quận Hà Đông, H...   \n",
       "21  Nội thất đầy đủ  65, An Thắng, Phường Biên Giang, Quận Hà Đông,...   \n",
       "\n",
       "             Gia  SoTang            DacDiem           Quan      USD  \\\n",
       "16  2.300000e+09     4.0                NaN   Quận Hà Đông  95833.0   \n",
       "21  1.800000e+09     NaN  Hẻm xe hơi,Nở hậu   Quận Hà Đông  75000.0   \n",
       "\n",
       "    log_price     Rank  \n",
       "16  11.470362  95833.0  \n",
       "21  11.225243  75000.0  "
      ]
     },
     "execution_count": 75,
     "metadata": {},
     "output_type": "execute_result"
    }
   ],
   "source": [
    "df['Rank'] = df.USD.copy()\n",
    "df_1 = df[df['USD'] < 50000]\n",
    "df_2 = df[(df['USD'] >= 50000) & (df['USD'] < 100000)]\n",
    "df_3 = df[(df['USD'] >= 100000) & (df['USD'] < 150000)]\n",
    "df_4 = df[df['USD'] >= 150000]\n",
    "df_2.head(2)"
   ]
  },
  {
   "cell_type": "code",
   "execution_count": 76,
   "id": "bbdb5031-68f6-483b-8544-1e35096043de",
   "metadata": {},
   "outputs": [
    {
     "data": {
      "text/plain": [
       "['GiayTo', 'HuongCuaChinh', 'TinhTrangNoiThat', 'SoTang', 'DacDiem']"
      ]
     },
     "execution_count": 76,
     "metadata": {},
     "output_type": "execute_result"
    }
   ],
   "source": [
    "nan_values = df.isna()\n",
    "nan_columns = nan_values.any()\n",
    "columns_with_nan = df.columns[nan_columns].tolist()\n",
    "columns_with_nan"
   ]
  },
  {
   "cell_type": "code",
   "execution_count": 77,
   "id": "087cc903-7c79-4ab4-a5e1-14bc8a05081f",
   "metadata": {},
   "outputs": [
    {
     "data": {
      "text/plain": [
       "DienTich             0.000000\n",
       "Phongngu             0.000000\n",
       "PhongTam             0.000000\n",
       "GiayTo               9.209467\n",
       "Loai                 0.000000\n",
       "HuongCuaChinh       82.547094\n",
       "TinhTrangNoiThat    38.013202\n",
       "DiaChi               0.000000\n",
       "Gia                  0.000000\n",
       "SoTang              10.046691\n",
       "DacDiem             97.375624\n",
       "Quan                 0.000000\n",
       "USD                  0.000000\n",
       "log_price            0.000000\n",
       "Rank                 0.000000\n",
       "dtype: float64"
      ]
     },
     "execution_count": 77,
     "metadata": {},
     "output_type": "execute_result"
    }
   ],
   "source": [
    "df.isna().sum()/df.shape[0]*100"
   ]
  },
  {
   "cell_type": "code",
   "execution_count": 78,
   "id": "aab84b60-976e-4c11-a419-c9fd56de8088",
   "metadata": {},
   "outputs": [],
   "source": [
    "per = 0.5 # Chọn xóa những cột dữ liệu có trên 50% data là NaN"
   ]
  },
  {
   "cell_type": "code",
   "execution_count": 79,
   "id": "57d10dd5-430d-4b0e-adbd-344ea6644def",
   "metadata": {},
   "outputs": [
    {
     "data": {
      "text/html": [
       "<div>\n",
       "<style scoped>\n",
       "    .dataframe tbody tr th:only-of-type {\n",
       "        vertical-align: middle;\n",
       "    }\n",
       "\n",
       "    .dataframe tbody tr th {\n",
       "        vertical-align: top;\n",
       "    }\n",
       "\n",
       "    .dataframe thead th {\n",
       "        text-align: right;\n",
       "    }\n",
       "</style>\n",
       "<table border=\"1\" class=\"dataframe\">\n",
       "  <thead>\n",
       "    <tr style=\"text-align: right;\">\n",
       "      <th></th>\n",
       "      <th>DienTich</th>\n",
       "      <th>Phongngu</th>\n",
       "      <th>PhongTam</th>\n",
       "      <th>GiayTo</th>\n",
       "      <th>Loai</th>\n",
       "      <th>TinhTrangNoiThat</th>\n",
       "      <th>DiaChi</th>\n",
       "      <th>Gia</th>\n",
       "      <th>SoTang</th>\n",
       "      <th>Quan</th>\n",
       "      <th>USD</th>\n",
       "      <th>log_price</th>\n",
       "      <th>Rank</th>\n",
       "    </tr>\n",
       "  </thead>\n",
       "  <tbody>\n",
       "    <tr>\n",
       "      <th>1</th>\n",
       "      <td>36.0</td>\n",
       "      <td>3.0</td>\n",
       "      <td>4.0</td>\n",
       "      <td>Đã có sổ</td>\n",
       "      <td>Nhà ngõ, hẻm</td>\n",
       "      <td>Nội thất cao cấp</td>\n",
       "      <td>Phố Ngọc Hà, Phường Ngọc Hà, Quận Ba Đình, Hà ...</td>\n",
       "      <td>4.950000e+09</td>\n",
       "      <td>5.0</td>\n",
       "      <td>Quận Ba Đình</td>\n",
       "      <td>206250.0</td>\n",
       "      <td>12.236844</td>\n",
       "      <td>206250.0</td>\n",
       "    </tr>\n",
       "    <tr>\n",
       "      <th>3</th>\n",
       "      <td>39.0</td>\n",
       "      <td>4.0</td>\n",
       "      <td>5.0</td>\n",
       "      <td>Đã có sổ</td>\n",
       "      <td>Nhà ngõ, hẻm</td>\n",
       "      <td>Nội thất đầy đủ</td>\n",
       "      <td>Trần Quốc Vượng, Phường Dịch Vọng Hậu, Quận Cầ...</td>\n",
       "      <td>4.700000e+09</td>\n",
       "      <td>4.0</td>\n",
       "      <td>Quận Cầu Giấy</td>\n",
       "      <td>195833.0</td>\n",
       "      <td>12.185018</td>\n",
       "      <td>195833.0</td>\n",
       "    </tr>\n",
       "    <tr>\n",
       "      <th>4</th>\n",
       "      <td>33.0</td>\n",
       "      <td>3.0</td>\n",
       "      <td>4.0</td>\n",
       "      <td>Đã có sổ</td>\n",
       "      <td>Nhà ngõ, hẻm</td>\n",
       "      <td>Nội thất cao cấp</td>\n",
       "      <td>Ngõ 322 Đường Mỹ Đình, Phường Mỹ Đình 1, Quận ...</td>\n",
       "      <td>4.300000e+09</td>\n",
       "      <td>5.0</td>\n",
       "      <td>Quận Nam Từ Liêm</td>\n",
       "      <td>179167.0</td>\n",
       "      <td>12.096074</td>\n",
       "      <td>179167.0</td>\n",
       "    </tr>\n",
       "    <tr>\n",
       "      <th>6</th>\n",
       "      <td>47.0</td>\n",
       "      <td>3.0</td>\n",
       "      <td>3.0</td>\n",
       "      <td>Đã có sổ</td>\n",
       "      <td>Nhà ngõ, hẻm</td>\n",
       "      <td>Bàn giao thô</td>\n",
       "      <td>Âu Cơ, Phường Tứ Liên, Quận Tây Hồ, Hà NộiXem ...</td>\n",
       "      <td>4.200000e+09</td>\n",
       "      <td>3.0</td>\n",
       "      <td>Quận Tây Hồ</td>\n",
       "      <td>175000.0</td>\n",
       "      <td>12.072541</td>\n",
       "      <td>175000.0</td>\n",
       "    </tr>\n",
       "    <tr>\n",
       "      <th>7</th>\n",
       "      <td>28.0</td>\n",
       "      <td>3.0</td>\n",
       "      <td>4.0</td>\n",
       "      <td>Đã có sổ</td>\n",
       "      <td>Nhà ngõ, hẻm</td>\n",
       "      <td>Nội thất cao cấp</td>\n",
       "      <td>Phố Tân Mai, Phường Tương Mai, Quận Hoàng Mai,...</td>\n",
       "      <td>6.350000e+09</td>\n",
       "      <td>5.0</td>\n",
       "      <td>Quận Hoàng Mai</td>\n",
       "      <td>264583.0</td>\n",
       "      <td>12.485910</td>\n",
       "      <td>264583.0</td>\n",
       "    </tr>\n",
       "    <tr>\n",
       "      <th>...</th>\n",
       "      <td>...</td>\n",
       "      <td>...</td>\n",
       "      <td>...</td>\n",
       "      <td>...</td>\n",
       "      <td>...</td>\n",
       "      <td>...</td>\n",
       "      <td>...</td>\n",
       "      <td>...</td>\n",
       "      <td>...</td>\n",
       "      <td>...</td>\n",
       "      <td>...</td>\n",
       "      <td>...</td>\n",
       "      <td>...</td>\n",
       "    </tr>\n",
       "    <tr>\n",
       "      <th>6204</th>\n",
       "      <td>42.0</td>\n",
       "      <td>4.0</td>\n",
       "      <td>4.0</td>\n",
       "      <td>Đã có sổ</td>\n",
       "      <td>Nhà ngõ, hẻm</td>\n",
       "      <td>Nội thất đầy đủ</td>\n",
       "      <td>Phố Hồ Đắc Di, Phường Nam Đồng, Quận Đống Đa, ...</td>\n",
       "      <td>6.800000e+09</td>\n",
       "      <td>5.0</td>\n",
       "      <td>Quận Đống Đa</td>\n",
       "      <td>283333.0</td>\n",
       "      <td>12.554378</td>\n",
       "      <td>283333.0</td>\n",
       "    </tr>\n",
       "    <tr>\n",
       "      <th>6205</th>\n",
       "      <td>28.0</td>\n",
       "      <td>3.0</td>\n",
       "      <td>4.0</td>\n",
       "      <td>Đã có sổ</td>\n",
       "      <td>Nhà ngõ, hẻm</td>\n",
       "      <td>Nội thất đầy đủ</td>\n",
       "      <td>Hoang Quốc Việt, Phường Nghĩa Đô, Quận Cầu Giấ...</td>\n",
       "      <td>3.650000e+09</td>\n",
       "      <td>4.0</td>\n",
       "      <td>Quận Cầu Giấy</td>\n",
       "      <td>152083.0</td>\n",
       "      <td>11.932182</td>\n",
       "      <td>152083.0</td>\n",
       "    </tr>\n",
       "    <tr>\n",
       "      <th>6206</th>\n",
       "      <td>32.0</td>\n",
       "      <td>5.0</td>\n",
       "      <td>3.0</td>\n",
       "      <td>Đã có sổ</td>\n",
       "      <td>Nhà mặt phố, mặt tiền</td>\n",
       "      <td>Nội thất đầy đủ</td>\n",
       "      <td>Vũ Trọng Phụng, Phường Thanh Xuân Trung, Quận ...</td>\n",
       "      <td>5.150000e+09</td>\n",
       "      <td>4.0</td>\n",
       "      <td>Quận Thanh Xuân</td>\n",
       "      <td>214583.0</td>\n",
       "      <td>12.276452</td>\n",
       "      <td>214583.0</td>\n",
       "    </tr>\n",
       "    <tr>\n",
       "      <th>6208</th>\n",
       "      <td>60.0</td>\n",
       "      <td>4.0</td>\n",
       "      <td>3.0</td>\n",
       "      <td>Đã có sổ</td>\n",
       "      <td>Nhà ngõ, hẻm</td>\n",
       "      <td>Nội thất đầy đủ</td>\n",
       "      <td>Đội Cấn, Phường Đội Cấn, Quận Ba Đình, Hà NộiX...</td>\n",
       "      <td>5.100000e+09</td>\n",
       "      <td>5.0</td>\n",
       "      <td>Quận Ba Đình</td>\n",
       "      <td>212500.0</td>\n",
       "      <td>12.266697</td>\n",
       "      <td>212500.0</td>\n",
       "    </tr>\n",
       "    <tr>\n",
       "      <th>6210</th>\n",
       "      <td>43.0</td>\n",
       "      <td>9.0</td>\n",
       "      <td>7.0</td>\n",
       "      <td>Đã có sổ</td>\n",
       "      <td>Nhà mặt phố, mặt tiền</td>\n",
       "      <td>Nội thất đầy đủ</td>\n",
       "      <td>Vũ Ngọc Phan, Phường Láng Hạ, Quận Đống Đa, Hà...</td>\n",
       "      <td>8.000000e+09</td>\n",
       "      <td>5.0</td>\n",
       "      <td>Quận Đống Đa</td>\n",
       "      <td>333333.0</td>\n",
       "      <td>12.716897</td>\n",
       "      <td>333333.0</td>\n",
       "    </tr>\n",
       "  </tbody>\n",
       "</table>\n",
       "<p>3504 rows × 13 columns</p>\n",
       "</div>"
      ],
      "text/plain": [
       "      DienTich  Phongngu  PhongTam    GiayTo                   Loai  \\\n",
       "1         36.0       3.0       4.0  Đã có sổ           Nhà ngõ, hẻm   \n",
       "3         39.0       4.0       5.0  Đã có sổ           Nhà ngõ, hẻm   \n",
       "4         33.0       3.0       4.0  Đã có sổ           Nhà ngõ, hẻm   \n",
       "6         47.0       3.0       3.0  Đã có sổ           Nhà ngõ, hẻm   \n",
       "7         28.0       3.0       4.0  Đã có sổ           Nhà ngõ, hẻm   \n",
       "...        ...       ...       ...       ...                    ...   \n",
       "6204      42.0       4.0       4.0  Đã có sổ           Nhà ngõ, hẻm   \n",
       "6205      28.0       3.0       4.0  Đã có sổ           Nhà ngõ, hẻm   \n",
       "6206      32.0       5.0       3.0  Đã có sổ  Nhà mặt phố, mặt tiền   \n",
       "6208      60.0       4.0       3.0  Đã có sổ           Nhà ngõ, hẻm   \n",
       "6210      43.0       9.0       7.0  Đã có sổ  Nhà mặt phố, mặt tiền   \n",
       "\n",
       "      TinhTrangNoiThat                                             DiaChi  \\\n",
       "1     Nội thất cao cấp  Phố Ngọc Hà, Phường Ngọc Hà, Quận Ba Đình, Hà ...   \n",
       "3      Nội thất đầy đủ  Trần Quốc Vượng, Phường Dịch Vọng Hậu, Quận Cầ...   \n",
       "4     Nội thất cao cấp  Ngõ 322 Đường Mỹ Đình, Phường Mỹ Đình 1, Quận ...   \n",
       "6         Bàn giao thô  Âu Cơ, Phường Tứ Liên, Quận Tây Hồ, Hà NộiXem ...   \n",
       "7     Nội thất cao cấp  Phố Tân Mai, Phường Tương Mai, Quận Hoàng Mai,...   \n",
       "...                ...                                                ...   \n",
       "6204   Nội thất đầy đủ  Phố Hồ Đắc Di, Phường Nam Đồng, Quận Đống Đa, ...   \n",
       "6205   Nội thất đầy đủ  Hoang Quốc Việt, Phường Nghĩa Đô, Quận Cầu Giấ...   \n",
       "6206   Nội thất đầy đủ  Vũ Trọng Phụng, Phường Thanh Xuân Trung, Quận ...   \n",
       "6208   Nội thất đầy đủ  Đội Cấn, Phường Đội Cấn, Quận Ba Đình, Hà NộiX...   \n",
       "6210   Nội thất đầy đủ  Vũ Ngọc Phan, Phường Láng Hạ, Quận Đống Đa, Hà...   \n",
       "\n",
       "               Gia  SoTang               Quan       USD  log_price      Rank  \n",
       "1     4.950000e+09     5.0       Quận Ba Đình  206250.0  12.236844  206250.0  \n",
       "3     4.700000e+09     4.0      Quận Cầu Giấy  195833.0  12.185018  195833.0  \n",
       "4     4.300000e+09     5.0   Quận Nam Từ Liêm  179167.0  12.096074  179167.0  \n",
       "6     4.200000e+09     3.0        Quận Tây Hồ  175000.0  12.072541  175000.0  \n",
       "7     6.350000e+09     5.0     Quận Hoàng Mai  264583.0  12.485910  264583.0  \n",
       "...            ...     ...                ...       ...        ...       ...  \n",
       "6204  6.800000e+09     5.0       Quận Đống Đa  283333.0  12.554378  283333.0  \n",
       "6205  3.650000e+09     4.0      Quận Cầu Giấy  152083.0  11.932182  152083.0  \n",
       "6206  5.150000e+09     4.0    Quận Thanh Xuân  214583.0  12.276452  214583.0  \n",
       "6208  5.100000e+09     5.0       Quận Ba Đình  212500.0  12.266697  212500.0  \n",
       "6210  8.000000e+09     5.0       Quận Đống Đa  333333.0  12.716897  333333.0  \n",
       "\n",
       "[3504 rows x 13 columns]"
      ]
     },
     "execution_count": 79,
     "metadata": {},
     "output_type": "execute_result"
    }
   ],
   "source": [
    "df_dropped = df.dropna(axis=1,thresh=int(df.shape[0]*per))\n",
    "df_dropped_2 = df_dropped.dropna(how='any')\n",
    "#df_dropped_2 = df_dropped.dropna(axis=0,thresh=int(df.shape[1]*0.5))\n",
    "df_dropped_2"
   ]
  },
  {
   "cell_type": "code",
   "execution_count": 80,
   "id": "424a3bb6-f4c6-43d0-a6b8-84a27a95b1bc",
   "metadata": {},
   "outputs": [
    {
     "data": {
      "text/html": [
       "<div>\n",
       "<style scoped>\n",
       "    .dataframe tbody tr th:only-of-type {\n",
       "        vertical-align: middle;\n",
       "    }\n",
       "\n",
       "    .dataframe tbody tr th {\n",
       "        vertical-align: top;\n",
       "    }\n",
       "\n",
       "    .dataframe thead th {\n",
       "        text-align: right;\n",
       "    }\n",
       "</style>\n",
       "<table border=\"1\" class=\"dataframe\">\n",
       "  <thead>\n",
       "    <tr style=\"text-align: right;\">\n",
       "      <th></th>\n",
       "      <th>Phongngu</th>\n",
       "      <th>PhongTam</th>\n",
       "      <th>GiayTo</th>\n",
       "      <th>Loai</th>\n",
       "      <th>TinhTrangNoiThat</th>\n",
       "      <th>SoTang</th>\n",
       "    </tr>\n",
       "  </thead>\n",
       "  <tbody>\n",
       "    <tr>\n",
       "      <th>1</th>\n",
       "      <td>3.0</td>\n",
       "      <td>4.0</td>\n",
       "      <td>Đã có sổ</td>\n",
       "      <td>Nhà ngõ, hẻm</td>\n",
       "      <td>Nội thất cao cấp</td>\n",
       "      <td>5.0</td>\n",
       "    </tr>\n",
       "    <tr>\n",
       "      <th>3</th>\n",
       "      <td>4.0</td>\n",
       "      <td>5.0</td>\n",
       "      <td>Đã có sổ</td>\n",
       "      <td>Nhà ngõ, hẻm</td>\n",
       "      <td>Nội thất đầy đủ</td>\n",
       "      <td>4.0</td>\n",
       "    </tr>\n",
       "    <tr>\n",
       "      <th>4</th>\n",
       "      <td>3.0</td>\n",
       "      <td>4.0</td>\n",
       "      <td>Đã có sổ</td>\n",
       "      <td>Nhà ngõ, hẻm</td>\n",
       "      <td>Nội thất cao cấp</td>\n",
       "      <td>5.0</td>\n",
       "    </tr>\n",
       "    <tr>\n",
       "      <th>6</th>\n",
       "      <td>3.0</td>\n",
       "      <td>3.0</td>\n",
       "      <td>Đã có sổ</td>\n",
       "      <td>Nhà ngõ, hẻm</td>\n",
       "      <td>Bàn giao thô</td>\n",
       "      <td>3.0</td>\n",
       "    </tr>\n",
       "    <tr>\n",
       "      <th>7</th>\n",
       "      <td>3.0</td>\n",
       "      <td>4.0</td>\n",
       "      <td>Đã có sổ</td>\n",
       "      <td>Nhà ngõ, hẻm</td>\n",
       "      <td>Nội thất cao cấp</td>\n",
       "      <td>5.0</td>\n",
       "    </tr>\n",
       "    <tr>\n",
       "      <th>...</th>\n",
       "      <td>...</td>\n",
       "      <td>...</td>\n",
       "      <td>...</td>\n",
       "      <td>...</td>\n",
       "      <td>...</td>\n",
       "      <td>...</td>\n",
       "    </tr>\n",
       "    <tr>\n",
       "      <th>6204</th>\n",
       "      <td>4.0</td>\n",
       "      <td>4.0</td>\n",
       "      <td>Đã có sổ</td>\n",
       "      <td>Nhà ngõ, hẻm</td>\n",
       "      <td>Nội thất đầy đủ</td>\n",
       "      <td>5.0</td>\n",
       "    </tr>\n",
       "    <tr>\n",
       "      <th>6205</th>\n",
       "      <td>3.0</td>\n",
       "      <td>4.0</td>\n",
       "      <td>Đã có sổ</td>\n",
       "      <td>Nhà ngõ, hẻm</td>\n",
       "      <td>Nội thất đầy đủ</td>\n",
       "      <td>4.0</td>\n",
       "    </tr>\n",
       "    <tr>\n",
       "      <th>6206</th>\n",
       "      <td>5.0</td>\n",
       "      <td>3.0</td>\n",
       "      <td>Đã có sổ</td>\n",
       "      <td>Nhà mặt phố, mặt tiền</td>\n",
       "      <td>Nội thất đầy đủ</td>\n",
       "      <td>4.0</td>\n",
       "    </tr>\n",
       "    <tr>\n",
       "      <th>6208</th>\n",
       "      <td>4.0</td>\n",
       "      <td>3.0</td>\n",
       "      <td>Đã có sổ</td>\n",
       "      <td>Nhà ngõ, hẻm</td>\n",
       "      <td>Nội thất đầy đủ</td>\n",
       "      <td>5.0</td>\n",
       "    </tr>\n",
       "    <tr>\n",
       "      <th>6210</th>\n",
       "      <td>9.0</td>\n",
       "      <td>7.0</td>\n",
       "      <td>Đã có sổ</td>\n",
       "      <td>Nhà mặt phố, mặt tiền</td>\n",
       "      <td>Nội thất đầy đủ</td>\n",
       "      <td>5.0</td>\n",
       "    </tr>\n",
       "  </tbody>\n",
       "</table>\n",
       "<p>3504 rows × 6 columns</p>\n",
       "</div>"
      ],
      "text/plain": [
       "      Phongngu  PhongTam    GiayTo                   Loai  TinhTrangNoiThat  \\\n",
       "1          3.0       4.0  Đã có sổ           Nhà ngõ, hẻm  Nội thất cao cấp   \n",
       "3          4.0       5.0  Đã có sổ           Nhà ngõ, hẻm   Nội thất đầy đủ   \n",
       "4          3.0       4.0  Đã có sổ           Nhà ngõ, hẻm  Nội thất cao cấp   \n",
       "6          3.0       3.0  Đã có sổ           Nhà ngõ, hẻm      Bàn giao thô   \n",
       "7          3.0       4.0  Đã có sổ           Nhà ngõ, hẻm  Nội thất cao cấp   \n",
       "...        ...       ...       ...                    ...               ...   \n",
       "6204       4.0       4.0  Đã có sổ           Nhà ngõ, hẻm   Nội thất đầy đủ   \n",
       "6205       3.0       4.0  Đã có sổ           Nhà ngõ, hẻm   Nội thất đầy đủ   \n",
       "6206       5.0       3.0  Đã có sổ  Nhà mặt phố, mặt tiền   Nội thất đầy đủ   \n",
       "6208       4.0       3.0  Đã có sổ           Nhà ngõ, hẻm   Nội thất đầy đủ   \n",
       "6210       9.0       7.0  Đã có sổ  Nhà mặt phố, mặt tiền   Nội thất đầy đủ   \n",
       "\n",
       "      SoTang  \n",
       "1        5.0  \n",
       "3        4.0  \n",
       "4        5.0  \n",
       "6        3.0  \n",
       "7        5.0  \n",
       "...      ...  \n",
       "6204     5.0  \n",
       "6205     4.0  \n",
       "6206     4.0  \n",
       "6208     5.0  \n",
       "6210     5.0  \n",
       "\n",
       "[3504 rows x 6 columns]"
      ]
     },
     "execution_count": 80,
     "metadata": {},
     "output_type": "execute_result"
    }
   ],
   "source": [
    "df_x = df_dropped_2.iloc[:, 1:9]\n",
    "df_x = df_x.drop(df_x.columns[[5, 6]], axis=1)\n",
    "df_x"
   ]
  },
  {
   "cell_type": "code",
   "execution_count": 84,
   "id": "9ba9a815-43c0-4370-9e15-ac03053ffbf1",
   "metadata": {},
   "outputs": [
    {
     "data": {
      "text/html": [
       "<div>\n",
       "<style scoped>\n",
       "    .dataframe tbody tr th:only-of-type {\n",
       "        vertical-align: middle;\n",
       "    }\n",
       "\n",
       "    .dataframe tbody tr th {\n",
       "        vertical-align: top;\n",
       "    }\n",
       "\n",
       "    .dataframe thead th {\n",
       "        text-align: right;\n",
       "    }\n",
       "</style>\n",
       "<table border=\"1\" class=\"dataframe\">\n",
       "  <thead>\n",
       "    <tr style=\"text-align: right;\">\n",
       "      <th></th>\n",
       "      <th>DienTich</th>\n",
       "      <th>Phongngu</th>\n",
       "      <th>PhongTam</th>\n",
       "      <th>GiayTo</th>\n",
       "      <th>Loai</th>\n",
       "      <th>TinhTrangNoiThat</th>\n",
       "      <th>SoTang</th>\n",
       "      <th>Quan</th>\n",
       "    </tr>\n",
       "  </thead>\n",
       "  <tbody>\n",
       "    <tr>\n",
       "      <th>1</th>\n",
       "      <td>36.0</td>\n",
       "      <td>3.0</td>\n",
       "      <td>4.0</td>\n",
       "      <td>Đã có sổ</td>\n",
       "      <td>Nhà ngõ, hẻm</td>\n",
       "      <td>Nội thất cao cấp</td>\n",
       "      <td>5.0</td>\n",
       "      <td>Quận Ba Đình</td>\n",
       "    </tr>\n",
       "    <tr>\n",
       "      <th>3</th>\n",
       "      <td>39.0</td>\n",
       "      <td>4.0</td>\n",
       "      <td>5.0</td>\n",
       "      <td>Đã có sổ</td>\n",
       "      <td>Nhà ngõ, hẻm</td>\n",
       "      <td>Nội thất đầy đủ</td>\n",
       "      <td>4.0</td>\n",
       "      <td>Quận Cầu Giấy</td>\n",
       "    </tr>\n",
       "    <tr>\n",
       "      <th>4</th>\n",
       "      <td>33.0</td>\n",
       "      <td>3.0</td>\n",
       "      <td>4.0</td>\n",
       "      <td>Đã có sổ</td>\n",
       "      <td>Nhà ngõ, hẻm</td>\n",
       "      <td>Nội thất cao cấp</td>\n",
       "      <td>5.0</td>\n",
       "      <td>Quận Nam Từ Liêm</td>\n",
       "    </tr>\n",
       "    <tr>\n",
       "      <th>6</th>\n",
       "      <td>47.0</td>\n",
       "      <td>3.0</td>\n",
       "      <td>3.0</td>\n",
       "      <td>Đã có sổ</td>\n",
       "      <td>Nhà ngõ, hẻm</td>\n",
       "      <td>Bàn giao thô</td>\n",
       "      <td>3.0</td>\n",
       "      <td>Quận Tây Hồ</td>\n",
       "    </tr>\n",
       "    <tr>\n",
       "      <th>7</th>\n",
       "      <td>28.0</td>\n",
       "      <td>3.0</td>\n",
       "      <td>4.0</td>\n",
       "      <td>Đã có sổ</td>\n",
       "      <td>Nhà ngõ, hẻm</td>\n",
       "      <td>Nội thất cao cấp</td>\n",
       "      <td>5.0</td>\n",
       "      <td>Quận Hoàng Mai</td>\n",
       "    </tr>\n",
       "    <tr>\n",
       "      <th>...</th>\n",
       "      <td>...</td>\n",
       "      <td>...</td>\n",
       "      <td>...</td>\n",
       "      <td>...</td>\n",
       "      <td>...</td>\n",
       "      <td>...</td>\n",
       "      <td>...</td>\n",
       "      <td>...</td>\n",
       "    </tr>\n",
       "    <tr>\n",
       "      <th>6204</th>\n",
       "      <td>42.0</td>\n",
       "      <td>4.0</td>\n",
       "      <td>4.0</td>\n",
       "      <td>Đã có sổ</td>\n",
       "      <td>Nhà ngõ, hẻm</td>\n",
       "      <td>Nội thất đầy đủ</td>\n",
       "      <td>5.0</td>\n",
       "      <td>Quận Đống Đa</td>\n",
       "    </tr>\n",
       "    <tr>\n",
       "      <th>6205</th>\n",
       "      <td>28.0</td>\n",
       "      <td>3.0</td>\n",
       "      <td>4.0</td>\n",
       "      <td>Đã có sổ</td>\n",
       "      <td>Nhà ngõ, hẻm</td>\n",
       "      <td>Nội thất đầy đủ</td>\n",
       "      <td>4.0</td>\n",
       "      <td>Quận Cầu Giấy</td>\n",
       "    </tr>\n",
       "    <tr>\n",
       "      <th>6206</th>\n",
       "      <td>32.0</td>\n",
       "      <td>5.0</td>\n",
       "      <td>3.0</td>\n",
       "      <td>Đã có sổ</td>\n",
       "      <td>Nhà mặt phố, mặt tiền</td>\n",
       "      <td>Nội thất đầy đủ</td>\n",
       "      <td>4.0</td>\n",
       "      <td>Quận Thanh Xuân</td>\n",
       "    </tr>\n",
       "    <tr>\n",
       "      <th>6208</th>\n",
       "      <td>60.0</td>\n",
       "      <td>4.0</td>\n",
       "      <td>3.0</td>\n",
       "      <td>Đã có sổ</td>\n",
       "      <td>Nhà ngõ, hẻm</td>\n",
       "      <td>Nội thất đầy đủ</td>\n",
       "      <td>5.0</td>\n",
       "      <td>Quận Ba Đình</td>\n",
       "    </tr>\n",
       "    <tr>\n",
       "      <th>6210</th>\n",
       "      <td>43.0</td>\n",
       "      <td>9.0</td>\n",
       "      <td>7.0</td>\n",
       "      <td>Đã có sổ</td>\n",
       "      <td>Nhà mặt phố, mặt tiền</td>\n",
       "      <td>Nội thất đầy đủ</td>\n",
       "      <td>5.0</td>\n",
       "      <td>Quận Đống Đa</td>\n",
       "    </tr>\n",
       "  </tbody>\n",
       "</table>\n",
       "<p>3504 rows × 8 columns</p>\n",
       "</div>"
      ],
      "text/plain": [
       "      DienTich  Phongngu  PhongTam    GiayTo                   Loai  \\\n",
       "1         36.0       3.0       4.0  Đã có sổ           Nhà ngõ, hẻm   \n",
       "3         39.0       4.0       5.0  Đã có sổ           Nhà ngõ, hẻm   \n",
       "4         33.0       3.0       4.0  Đã có sổ           Nhà ngõ, hẻm   \n",
       "6         47.0       3.0       3.0  Đã có sổ           Nhà ngõ, hẻm   \n",
       "7         28.0       3.0       4.0  Đã có sổ           Nhà ngõ, hẻm   \n",
       "...        ...       ...       ...       ...                    ...   \n",
       "6204      42.0       4.0       4.0  Đã có sổ           Nhà ngõ, hẻm   \n",
       "6205      28.0       3.0       4.0  Đã có sổ           Nhà ngõ, hẻm   \n",
       "6206      32.0       5.0       3.0  Đã có sổ  Nhà mặt phố, mặt tiền   \n",
       "6208      60.0       4.0       3.0  Đã có sổ           Nhà ngõ, hẻm   \n",
       "6210      43.0       9.0       7.0  Đã có sổ  Nhà mặt phố, mặt tiền   \n",
       "\n",
       "      TinhTrangNoiThat  SoTang               Quan  \n",
       "1     Nội thất cao cấp     5.0       Quận Ba Đình  \n",
       "3      Nội thất đầy đủ     4.0      Quận Cầu Giấy  \n",
       "4     Nội thất cao cấp     5.0   Quận Nam Từ Liêm  \n",
       "6         Bàn giao thô     3.0        Quận Tây Hồ  \n",
       "7     Nội thất cao cấp     5.0     Quận Hoàng Mai  \n",
       "...                ...     ...                ...  \n",
       "6204   Nội thất đầy đủ     5.0       Quận Đống Đa  \n",
       "6205   Nội thất đầy đủ     4.0      Quận Cầu Giấy  \n",
       "6206   Nội thất đầy đủ     4.0    Quận Thanh Xuân  \n",
       "6208   Nội thất đầy đủ     5.0       Quận Ba Đình  \n",
       "6210   Nội thất đầy đủ     5.0       Quận Đống Đa  \n",
       "\n",
       "[3504 rows x 8 columns]"
      ]
     },
     "execution_count": 84,
     "metadata": {},
     "output_type": "execute_result"
    }
   ],
   "source": [
    "df_x = df_dropped_2.iloc[:, 0:10]\n",
    "df_x = df_x.drop(df_x.columns[[6, 7]], axis=1)\n",
    "df_x"
   ]
  },
  {
   "cell_type": "code",
   "execution_count": 85,
   "id": "a54f869d-4062-4cb8-8627-6da9f5dba57e",
   "metadata": {},
   "outputs": [
    {
     "data": {
      "text/plain": [
       "1       206250.0\n",
       "3       195833.0\n",
       "4       179167.0\n",
       "6       175000.0\n",
       "7       264583.0\n",
       "          ...   \n",
       "6204    283333.0\n",
       "6205    152083.0\n",
       "6206    214583.0\n",
       "6208    212500.0\n",
       "6210    333333.0\n",
       "Name: USD, Length: 3504, dtype: float64"
      ]
     },
     "execution_count": 85,
     "metadata": {},
     "output_type": "execute_result"
    }
   ],
   "source": [
    "df_y = df_dropped_2.iloc[:, 10]\n",
    "df_y"
   ]
  },
  {
   "cell_type": "code",
   "execution_count": 86,
   "id": "16a81570-5ce0-4b41-bc54-e30a5fdf1af5",
   "metadata": {},
   "outputs": [
    {
     "data": {
      "text/html": [
       "<div>\n",
       "<style scoped>\n",
       "    .dataframe tbody tr th:only-of-type {\n",
       "        vertical-align: middle;\n",
       "    }\n",
       "\n",
       "    .dataframe tbody tr th {\n",
       "        vertical-align: top;\n",
       "    }\n",
       "\n",
       "    .dataframe thead th {\n",
       "        text-align: right;\n",
       "    }\n",
       "</style>\n",
       "<table border=\"1\" class=\"dataframe\">\n",
       "  <thead>\n",
       "    <tr style=\"text-align: right;\">\n",
       "      <th></th>\n",
       "      <th>DienTich</th>\n",
       "      <th>Phongngu</th>\n",
       "      <th>PhongTam</th>\n",
       "      <th>SoTang</th>\n",
       "      <th>GiayTo_Đang chờ sổ</th>\n",
       "      <th>GiayTo_Đã có sổ</th>\n",
       "      <th>Loai_Nhà mặt phố, mặt tiền</th>\n",
       "      <th>Loai_Nhà ngõ, hẻm</th>\n",
       "      <th>Loai_Nhà phố liền kề</th>\n",
       "      <th>TinhTrangNoiThat_Nhà trống</th>\n",
       "      <th>...</th>\n",
       "      <th>Quan_ Quận Cầu Giấy</th>\n",
       "      <th>Quan_ Quận Hai Bà Trưng</th>\n",
       "      <th>Quan_ Quận Hoàn Kiếm</th>\n",
       "      <th>Quan_ Quận Hoàng Mai</th>\n",
       "      <th>Quan_ Quận Hà Đông</th>\n",
       "      <th>Quan_ Quận Long Biên</th>\n",
       "      <th>Quan_ Quận Nam Từ Liêm</th>\n",
       "      <th>Quan_ Quận Thanh Xuân</th>\n",
       "      <th>Quan_ Quận Tây Hồ</th>\n",
       "      <th>Quan_ Quận Đống Đa</th>\n",
       "    </tr>\n",
       "  </thead>\n",
       "  <tbody>\n",
       "    <tr>\n",
       "      <th>1</th>\n",
       "      <td>36.0</td>\n",
       "      <td>3.0</td>\n",
       "      <td>4.0</td>\n",
       "      <td>5.0</td>\n",
       "      <td>0.0</td>\n",
       "      <td>1.0</td>\n",
       "      <td>0.0</td>\n",
       "      <td>1.0</td>\n",
       "      <td>0.0</td>\n",
       "      <td>0.0</td>\n",
       "      <td>...</td>\n",
       "      <td>0.0</td>\n",
       "      <td>0.0</td>\n",
       "      <td>0.0</td>\n",
       "      <td>0.0</td>\n",
       "      <td>0.0</td>\n",
       "      <td>0.0</td>\n",
       "      <td>0.0</td>\n",
       "      <td>0.0</td>\n",
       "      <td>0.0</td>\n",
       "      <td>0.0</td>\n",
       "    </tr>\n",
       "    <tr>\n",
       "      <th>3</th>\n",
       "      <td>39.0</td>\n",
       "      <td>4.0</td>\n",
       "      <td>5.0</td>\n",
       "      <td>4.0</td>\n",
       "      <td>0.0</td>\n",
       "      <td>1.0</td>\n",
       "      <td>0.0</td>\n",
       "      <td>1.0</td>\n",
       "      <td>0.0</td>\n",
       "      <td>0.0</td>\n",
       "      <td>...</td>\n",
       "      <td>1.0</td>\n",
       "      <td>0.0</td>\n",
       "      <td>0.0</td>\n",
       "      <td>0.0</td>\n",
       "      <td>0.0</td>\n",
       "      <td>0.0</td>\n",
       "      <td>0.0</td>\n",
       "      <td>0.0</td>\n",
       "      <td>0.0</td>\n",
       "      <td>0.0</td>\n",
       "    </tr>\n",
       "    <tr>\n",
       "      <th>4</th>\n",
       "      <td>33.0</td>\n",
       "      <td>3.0</td>\n",
       "      <td>4.0</td>\n",
       "      <td>5.0</td>\n",
       "      <td>0.0</td>\n",
       "      <td>1.0</td>\n",
       "      <td>0.0</td>\n",
       "      <td>1.0</td>\n",
       "      <td>0.0</td>\n",
       "      <td>0.0</td>\n",
       "      <td>...</td>\n",
       "      <td>0.0</td>\n",
       "      <td>0.0</td>\n",
       "      <td>0.0</td>\n",
       "      <td>0.0</td>\n",
       "      <td>0.0</td>\n",
       "      <td>0.0</td>\n",
       "      <td>1.0</td>\n",
       "      <td>0.0</td>\n",
       "      <td>0.0</td>\n",
       "      <td>0.0</td>\n",
       "    </tr>\n",
       "    <tr>\n",
       "      <th>6</th>\n",
       "      <td>47.0</td>\n",
       "      <td>3.0</td>\n",
       "      <td>3.0</td>\n",
       "      <td>3.0</td>\n",
       "      <td>0.0</td>\n",
       "      <td>1.0</td>\n",
       "      <td>0.0</td>\n",
       "      <td>1.0</td>\n",
       "      <td>0.0</td>\n",
       "      <td>0.0</td>\n",
       "      <td>...</td>\n",
       "      <td>0.0</td>\n",
       "      <td>0.0</td>\n",
       "      <td>0.0</td>\n",
       "      <td>0.0</td>\n",
       "      <td>0.0</td>\n",
       "      <td>0.0</td>\n",
       "      <td>0.0</td>\n",
       "      <td>0.0</td>\n",
       "      <td>1.0</td>\n",
       "      <td>0.0</td>\n",
       "    </tr>\n",
       "    <tr>\n",
       "      <th>7</th>\n",
       "      <td>28.0</td>\n",
       "      <td>3.0</td>\n",
       "      <td>4.0</td>\n",
       "      <td>5.0</td>\n",
       "      <td>0.0</td>\n",
       "      <td>1.0</td>\n",
       "      <td>0.0</td>\n",
       "      <td>1.0</td>\n",
       "      <td>0.0</td>\n",
       "      <td>0.0</td>\n",
       "      <td>...</td>\n",
       "      <td>0.0</td>\n",
       "      <td>0.0</td>\n",
       "      <td>0.0</td>\n",
       "      <td>1.0</td>\n",
       "      <td>0.0</td>\n",
       "      <td>0.0</td>\n",
       "      <td>0.0</td>\n",
       "      <td>0.0</td>\n",
       "      <td>0.0</td>\n",
       "      <td>0.0</td>\n",
       "    </tr>\n",
       "    <tr>\n",
       "      <th>...</th>\n",
       "      <td>...</td>\n",
       "      <td>...</td>\n",
       "      <td>...</td>\n",
       "      <td>...</td>\n",
       "      <td>...</td>\n",
       "      <td>...</td>\n",
       "      <td>...</td>\n",
       "      <td>...</td>\n",
       "      <td>...</td>\n",
       "      <td>...</td>\n",
       "      <td>...</td>\n",
       "      <td>...</td>\n",
       "      <td>...</td>\n",
       "      <td>...</td>\n",
       "      <td>...</td>\n",
       "      <td>...</td>\n",
       "      <td>...</td>\n",
       "      <td>...</td>\n",
       "      <td>...</td>\n",
       "      <td>...</td>\n",
       "      <td>...</td>\n",
       "    </tr>\n",
       "    <tr>\n",
       "      <th>6204</th>\n",
       "      <td>42.0</td>\n",
       "      <td>4.0</td>\n",
       "      <td>4.0</td>\n",
       "      <td>5.0</td>\n",
       "      <td>0.0</td>\n",
       "      <td>1.0</td>\n",
       "      <td>0.0</td>\n",
       "      <td>1.0</td>\n",
       "      <td>0.0</td>\n",
       "      <td>0.0</td>\n",
       "      <td>...</td>\n",
       "      <td>0.0</td>\n",
       "      <td>0.0</td>\n",
       "      <td>0.0</td>\n",
       "      <td>0.0</td>\n",
       "      <td>0.0</td>\n",
       "      <td>0.0</td>\n",
       "      <td>0.0</td>\n",
       "      <td>0.0</td>\n",
       "      <td>0.0</td>\n",
       "      <td>1.0</td>\n",
       "    </tr>\n",
       "    <tr>\n",
       "      <th>6205</th>\n",
       "      <td>28.0</td>\n",
       "      <td>3.0</td>\n",
       "      <td>4.0</td>\n",
       "      <td>4.0</td>\n",
       "      <td>0.0</td>\n",
       "      <td>1.0</td>\n",
       "      <td>0.0</td>\n",
       "      <td>1.0</td>\n",
       "      <td>0.0</td>\n",
       "      <td>0.0</td>\n",
       "      <td>...</td>\n",
       "      <td>1.0</td>\n",
       "      <td>0.0</td>\n",
       "      <td>0.0</td>\n",
       "      <td>0.0</td>\n",
       "      <td>0.0</td>\n",
       "      <td>0.0</td>\n",
       "      <td>0.0</td>\n",
       "      <td>0.0</td>\n",
       "      <td>0.0</td>\n",
       "      <td>0.0</td>\n",
       "    </tr>\n",
       "    <tr>\n",
       "      <th>6206</th>\n",
       "      <td>32.0</td>\n",
       "      <td>5.0</td>\n",
       "      <td>3.0</td>\n",
       "      <td>4.0</td>\n",
       "      <td>0.0</td>\n",
       "      <td>1.0</td>\n",
       "      <td>1.0</td>\n",
       "      <td>0.0</td>\n",
       "      <td>0.0</td>\n",
       "      <td>0.0</td>\n",
       "      <td>...</td>\n",
       "      <td>0.0</td>\n",
       "      <td>0.0</td>\n",
       "      <td>0.0</td>\n",
       "      <td>0.0</td>\n",
       "      <td>0.0</td>\n",
       "      <td>0.0</td>\n",
       "      <td>0.0</td>\n",
       "      <td>1.0</td>\n",
       "      <td>0.0</td>\n",
       "      <td>0.0</td>\n",
       "    </tr>\n",
       "    <tr>\n",
       "      <th>6208</th>\n",
       "      <td>60.0</td>\n",
       "      <td>4.0</td>\n",
       "      <td>3.0</td>\n",
       "      <td>5.0</td>\n",
       "      <td>0.0</td>\n",
       "      <td>1.0</td>\n",
       "      <td>0.0</td>\n",
       "      <td>1.0</td>\n",
       "      <td>0.0</td>\n",
       "      <td>0.0</td>\n",
       "      <td>...</td>\n",
       "      <td>0.0</td>\n",
       "      <td>0.0</td>\n",
       "      <td>0.0</td>\n",
       "      <td>0.0</td>\n",
       "      <td>0.0</td>\n",
       "      <td>0.0</td>\n",
       "      <td>0.0</td>\n",
       "      <td>0.0</td>\n",
       "      <td>0.0</td>\n",
       "      <td>0.0</td>\n",
       "    </tr>\n",
       "    <tr>\n",
       "      <th>6210</th>\n",
       "      <td>43.0</td>\n",
       "      <td>9.0</td>\n",
       "      <td>7.0</td>\n",
       "      <td>5.0</td>\n",
       "      <td>0.0</td>\n",
       "      <td>1.0</td>\n",
       "      <td>1.0</td>\n",
       "      <td>0.0</td>\n",
       "      <td>0.0</td>\n",
       "      <td>0.0</td>\n",
       "      <td>...</td>\n",
       "      <td>0.0</td>\n",
       "      <td>0.0</td>\n",
       "      <td>0.0</td>\n",
       "      <td>0.0</td>\n",
       "      <td>0.0</td>\n",
       "      <td>0.0</td>\n",
       "      <td>0.0</td>\n",
       "      <td>0.0</td>\n",
       "      <td>0.0</td>\n",
       "      <td>1.0</td>\n",
       "    </tr>\n",
       "  </tbody>\n",
       "</table>\n",
       "<p>3504 rows × 33 columns</p>\n",
       "</div>"
      ],
      "text/plain": [
       "      DienTich  Phongngu  PhongTam  SoTang  GiayTo_Đang chờ sổ  \\\n",
       "1         36.0       3.0       4.0     5.0                 0.0   \n",
       "3         39.0       4.0       5.0     4.0                 0.0   \n",
       "4         33.0       3.0       4.0     5.0                 0.0   \n",
       "6         47.0       3.0       3.0     3.0                 0.0   \n",
       "7         28.0       3.0       4.0     5.0                 0.0   \n",
       "...        ...       ...       ...     ...                 ...   \n",
       "6204      42.0       4.0       4.0     5.0                 0.0   \n",
       "6205      28.0       3.0       4.0     4.0                 0.0   \n",
       "6206      32.0       5.0       3.0     4.0                 0.0   \n",
       "6208      60.0       4.0       3.0     5.0                 0.0   \n",
       "6210      43.0       9.0       7.0     5.0                 0.0   \n",
       "\n",
       "      GiayTo_Đã có sổ  Loai_Nhà mặt phố, mặt tiền  Loai_Nhà ngõ, hẻm  \\\n",
       "1                 1.0                         0.0                1.0   \n",
       "3                 1.0                         0.0                1.0   \n",
       "4                 1.0                         0.0                1.0   \n",
       "6                 1.0                         0.0                1.0   \n",
       "7                 1.0                         0.0                1.0   \n",
       "...               ...                         ...                ...   \n",
       "6204              1.0                         0.0                1.0   \n",
       "6205              1.0                         0.0                1.0   \n",
       "6206              1.0                         1.0                0.0   \n",
       "6208              1.0                         0.0                1.0   \n",
       "6210              1.0                         1.0                0.0   \n",
       "\n",
       "      Loai_Nhà phố liền kề  TinhTrangNoiThat_Nhà trống  ...  \\\n",
       "1                      0.0                         0.0  ...   \n",
       "3                      0.0                         0.0  ...   \n",
       "4                      0.0                         0.0  ...   \n",
       "6                      0.0                         0.0  ...   \n",
       "7                      0.0                         0.0  ...   \n",
       "...                    ...                         ...  ...   \n",
       "6204                   0.0                         0.0  ...   \n",
       "6205                   0.0                         0.0  ...   \n",
       "6206                   0.0                         0.0  ...   \n",
       "6208                   0.0                         0.0  ...   \n",
       "6210                   0.0                         0.0  ...   \n",
       "\n",
       "      Quan_ Quận Cầu Giấy  Quan_ Quận Hai Bà Trưng  Quan_ Quận Hoàn Kiếm  \\\n",
       "1                     0.0                      0.0                   0.0   \n",
       "3                     1.0                      0.0                   0.0   \n",
       "4                     0.0                      0.0                   0.0   \n",
       "6                     0.0                      0.0                   0.0   \n",
       "7                     0.0                      0.0                   0.0   \n",
       "...                   ...                      ...                   ...   \n",
       "6204                  0.0                      0.0                   0.0   \n",
       "6205                  1.0                      0.0                   0.0   \n",
       "6206                  0.0                      0.0                   0.0   \n",
       "6208                  0.0                      0.0                   0.0   \n",
       "6210                  0.0                      0.0                   0.0   \n",
       "\n",
       "      Quan_ Quận Hoàng Mai  Quan_ Quận Hà Đông  Quan_ Quận Long Biên  \\\n",
       "1                      0.0                 0.0                   0.0   \n",
       "3                      0.0                 0.0                   0.0   \n",
       "4                      0.0                 0.0                   0.0   \n",
       "6                      0.0                 0.0                   0.0   \n",
       "7                      1.0                 0.0                   0.0   \n",
       "...                    ...                 ...                   ...   \n",
       "6204                   0.0                 0.0                   0.0   \n",
       "6205                   0.0                 0.0                   0.0   \n",
       "6206                   0.0                 0.0                   0.0   \n",
       "6208                   0.0                 0.0                   0.0   \n",
       "6210                   0.0                 0.0                   0.0   \n",
       "\n",
       "      Quan_ Quận Nam Từ Liêm  Quan_ Quận Thanh Xuân  Quan_ Quận Tây Hồ  \\\n",
       "1                        0.0                    0.0                0.0   \n",
       "3                        0.0                    0.0                0.0   \n",
       "4                        1.0                    0.0                0.0   \n",
       "6                        0.0                    0.0                1.0   \n",
       "7                        0.0                    0.0                0.0   \n",
       "...                      ...                    ...                ...   \n",
       "6204                     0.0                    0.0                0.0   \n",
       "6205                     0.0                    0.0                0.0   \n",
       "6206                     0.0                    1.0                0.0   \n",
       "6208                     0.0                    0.0                0.0   \n",
       "6210                     0.0                    0.0                0.0   \n",
       "\n",
       "      Quan_ Quận Đống Đa  \n",
       "1                    0.0  \n",
       "3                    0.0  \n",
       "4                    0.0  \n",
       "6                    0.0  \n",
       "7                    0.0  \n",
       "...                  ...  \n",
       "6204                 1.0  \n",
       "6205                 0.0  \n",
       "6206                 0.0  \n",
       "6208                 0.0  \n",
       "6210                 1.0  \n",
       "\n",
       "[3504 rows x 33 columns]"
      ]
     },
     "execution_count": 86,
     "metadata": {},
     "output_type": "execute_result"
    }
   ],
   "source": [
    "data_dummies = pd.get_dummies(df_x, drop_first=True)\n",
    "data_dummies = data_dummies.astype(float)\n",
    "cols = data_dummies.columns.values\n",
    "data_preprocessed = data_dummies[cols]\n",
    "data_preprocessed"
   ]
  },
  {
   "cell_type": "code",
   "execution_count": 87,
   "id": "1abdd455-e632-42b0-8013-7ef01cbace69",
   "metadata": {},
   "outputs": [
    {
     "data": {
      "text/html": [
       "<style>#sk-container-id-1 {color: black;}#sk-container-id-1 pre{padding: 0;}#sk-container-id-1 div.sk-toggleable {background-color: white;}#sk-container-id-1 label.sk-toggleable__label {cursor: pointer;display: block;width: 100%;margin-bottom: 0;padding: 0.3em;box-sizing: border-box;text-align: center;}#sk-container-id-1 label.sk-toggleable__label-arrow:before {content: \"▸\";float: left;margin-right: 0.25em;color: #696969;}#sk-container-id-1 label.sk-toggleable__label-arrow:hover:before {color: black;}#sk-container-id-1 div.sk-estimator:hover label.sk-toggleable__label-arrow:before {color: black;}#sk-container-id-1 div.sk-toggleable__content {max-height: 0;max-width: 0;overflow: hidden;text-align: left;background-color: #f0f8ff;}#sk-container-id-1 div.sk-toggleable__content pre {margin: 0.2em;color: black;border-radius: 0.25em;background-color: #f0f8ff;}#sk-container-id-1 input.sk-toggleable__control:checked~div.sk-toggleable__content {max-height: 200px;max-width: 100%;overflow: auto;}#sk-container-id-1 input.sk-toggleable__control:checked~label.sk-toggleable__label-arrow:before {content: \"▾\";}#sk-container-id-1 div.sk-estimator input.sk-toggleable__control:checked~label.sk-toggleable__label {background-color: #d4ebff;}#sk-container-id-1 div.sk-label input.sk-toggleable__control:checked~label.sk-toggleable__label {background-color: #d4ebff;}#sk-container-id-1 input.sk-hidden--visually {border: 0;clip: rect(1px 1px 1px 1px);clip: rect(1px, 1px, 1px, 1px);height: 1px;margin: -1px;overflow: hidden;padding: 0;position: absolute;width: 1px;}#sk-container-id-1 div.sk-estimator {font-family: monospace;background-color: #f0f8ff;border: 1px dotted black;border-radius: 0.25em;box-sizing: border-box;margin-bottom: 0.5em;}#sk-container-id-1 div.sk-estimator:hover {background-color: #d4ebff;}#sk-container-id-1 div.sk-parallel-item::after {content: \"\";width: 100%;border-bottom: 1px solid gray;flex-grow: 1;}#sk-container-id-1 div.sk-label:hover label.sk-toggleable__label {background-color: #d4ebff;}#sk-container-id-1 div.sk-serial::before {content: \"\";position: absolute;border-left: 1px solid gray;box-sizing: border-box;top: 0;bottom: 0;left: 50%;z-index: 0;}#sk-container-id-1 div.sk-serial {display: flex;flex-direction: column;align-items: center;background-color: white;padding-right: 0.2em;padding-left: 0.2em;position: relative;}#sk-container-id-1 div.sk-item {position: relative;z-index: 1;}#sk-container-id-1 div.sk-parallel {display: flex;align-items: stretch;justify-content: center;background-color: white;position: relative;}#sk-container-id-1 div.sk-item::before, #sk-container-id-1 div.sk-parallel-item::before {content: \"\";position: absolute;border-left: 1px solid gray;box-sizing: border-box;top: 0;bottom: 0;left: 50%;z-index: -1;}#sk-container-id-1 div.sk-parallel-item {display: flex;flex-direction: column;z-index: 1;position: relative;background-color: white;}#sk-container-id-1 div.sk-parallel-item:first-child::after {align-self: flex-end;width: 50%;}#sk-container-id-1 div.sk-parallel-item:last-child::after {align-self: flex-start;width: 50%;}#sk-container-id-1 div.sk-parallel-item:only-child::after {width: 0;}#sk-container-id-1 div.sk-dashed-wrapped {border: 1px dashed gray;margin: 0 0.4em 0.5em 0.4em;box-sizing: border-box;padding-bottom: 0.4em;background-color: white;}#sk-container-id-1 div.sk-label label {font-family: monospace;font-weight: bold;display: inline-block;line-height: 1.2em;}#sk-container-id-1 div.sk-label-container {text-align: center;}#sk-container-id-1 div.sk-container {/* jupyter's `normalize.less` sets `[hidden] { display: none; }` but bootstrap.min.css set `[hidden] { display: none !important; }` so we also need the `!important` here to be able to override the default hidden behavior on the sphinx rendered scikit-learn.org. See: https://github.com/scikit-learn/scikit-learn/issues/21755 */display: inline-block !important;position: relative;}#sk-container-id-1 div.sk-text-repr-fallback {display: none;}</style><div id=\"sk-container-id-1\" class=\"sk-top-container\"><div class=\"sk-text-repr-fallback\"><pre>StandardScaler()</pre><b>In a Jupyter environment, please rerun this cell to show the HTML representation or trust the notebook. <br />On GitHub, the HTML representation is unable to render, please try loading this page with nbviewer.org.</b></div><div class=\"sk-container\" hidden><div class=\"sk-item\"><div class=\"sk-estimator sk-toggleable\"><input class=\"sk-toggleable__control sk-hidden--visually\" id=\"sk-estimator-id-1\" type=\"checkbox\" checked><label for=\"sk-estimator-id-1\" class=\"sk-toggleable__label sk-toggleable__label-arrow\">StandardScaler</label><div class=\"sk-toggleable__content\"><pre>StandardScaler()</pre></div></div></div></div></div>"
      ],
      "text/plain": [
       "StandardScaler()"
      ]
     },
     "execution_count": 87,
     "metadata": {},
     "output_type": "execute_result"
    }
   ],
   "source": [
    "scaler = StandardScaler()\n",
    "scaler.fit(data_preprocessed)"
   ]
  },
  {
   "cell_type": "code",
   "execution_count": null,
   "id": "8315afd0-c4c8-4a04-b003-72715bd085e9",
   "metadata": {},
   "outputs": [],
   "source": [
    "data_preprocessed = scaler.transform(data_preprocessed)\n",
    "data_preprocessed"
   ]
  },
  {
   "cell_type": "code",
   "execution_count": 88,
   "id": "c42cb901-c0b7-4abc-918e-a3f8b2be24d7",
   "metadata": {},
   "outputs": [
    {
     "name": "stdout",
     "output_type": "stream",
     "text": [
      "6950000000.0\n"
     ]
    }
   ],
   "source": [
    "print(df4.Gia[22])"
   ]
  },
  {
   "cell_type": "code",
   "execution_count": 89,
   "id": "156b3040-ae14-43ab-8c76-f81f5e93d28d",
   "metadata": {},
   "outputs": [
    {
     "data": {
      "text/plain": [
       "array([[-0.40746649, -0.67096055, -0.03944928, ..., -0.3093296 ,\n",
       "        -0.27176904, -0.43891692],\n",
       "       [-0.32083707, -0.08437228,  0.77367001, ..., -0.3093296 ,\n",
       "        -0.27176904, -0.43891692],\n",
       "       [-0.49409591, -0.67096055, -0.03944928, ..., -0.3093296 ,\n",
       "        -0.27176904, -0.43891692],\n",
       "       ...,\n",
       "       [-0.52297239,  0.50221598, -0.85256857, ...,  3.23279761,\n",
       "        -0.27176904, -0.43891692],\n",
       "       [ 0.2855689 , -0.08437228, -0.85256857, ..., -0.3093296 ,\n",
       "        -0.27176904, -0.43891692],\n",
       "       [-0.20533117,  2.84856903,  2.39990859, ..., -0.3093296 ,\n",
       "        -0.27176904,  2.27833552]])"
      ]
     },
     "execution_count": 89,
     "metadata": {},
     "output_type": "execute_result"
    }
   ],
   "source": [
    "data_preprocessed = scaler.transform(data_preprocessed)\n",
    "data_preprocessed"
   ]
  },
  {
   "cell_type": "code",
   "execution_count": 90,
   "id": "9ddbed47-744d-4540-a027-4100bd77d0f3",
   "metadata": {},
   "outputs": [],
   "source": [
    "X,X_test,Y,Y_test = train_test_split(data_preprocessed,df_y,test_size=0.2,random_state=365)\n"
   ]
  },
  {
   "cell_type": "code",
   "execution_count": 91,
   "id": "6b4dd62b-e0c0-4348-9006-1c9bd8fd6e89",
   "metadata": {},
   "outputs": [],
   "source": [
    "reg = LinearRegression().fit(X, Y)"
   ]
  },
  {
   "cell_type": "code",
   "execution_count": 92,
   "id": "2e316efe-788a-418d-bc2a-b6d73b620a1f",
   "metadata": {},
   "outputs": [
    {
     "data": {
      "text/plain": [
       "array([ 3.90208998e+05,  6.58128527e+04,  2.39527948e+05,  1.81570299e+05,\n",
       "        4.13087159e+05,  4.36889641e+05,  3.42189484e+05,  4.69373469e+04,\n",
       "        3.09538881e+05,  2.01923140e+05,  1.23385305e+06,  1.07441532e+05,\n",
       "        3.02061397e+05, -4.56587045e+04,  8.58499034e+04,  6.93429088e+05,\n",
       "        2.40893126e+05,  9.84985627e+05,  4.26617947e+05,  7.30383517e+05,\n",
       "        2.48812600e+05,  1.53674460e+05,  1.66326369e+06,  4.14736840e+05,\n",
       "        5.26993266e+05,  3.39010322e+05,  4.69355501e+05,  4.35161612e+05,\n",
       "        1.10238458e+05,  2.76706067e+05,  2.13593789e+05,  1.98415295e+05,\n",
       "        9.35449740e+05,  5.64144260e+05,  7.28576747e+05,  8.38449580e+05,\n",
       "        3.86343892e+05,  2.01210666e+05,  4.90241143e+05,  4.25743955e+05,\n",
       "        4.07060864e+05,  2.43326961e+05, -1.41636538e+05,  2.75728867e+05,\n",
       "        9.15211007e+04,  8.93253337e+04,  1.99668275e+05,  2.04463282e+05,\n",
       "        3.12880763e+05,  3.42189484e+05,  4.48561783e+05, -1.23236832e+05,\n",
       "        3.91591954e+04,  6.24917218e+04,  2.55409129e+05,  1.53674460e+05,\n",
       "        5.07766957e+04,  1.53322573e+05,  4.67286394e+05,  2.60513697e+05,\n",
       "        2.15389972e+05,  4.37436088e+05,  5.18255451e+05,  1.75319303e+05,\n",
       "        2.72300042e+05,  2.32433145e+05,  1.68756243e+05,  1.36644806e+05,\n",
       "        5.69358790e+05, -8.89622518e+04,  2.12639287e+05,  2.29012075e+05,\n",
       "        4.12727019e+05,  2.35048818e+04,  4.45775313e+05,  8.59241869e+04,\n",
       "        3.38969996e+05,  5.80271797e+04,  1.58277461e+06,  1.37558052e+05,\n",
       "        5.30972471e+05,  4.00838020e+05,  4.59494955e+05,  2.30580220e+05,\n",
       "        4.11459476e+05,  4.30881589e+05,  2.11297578e+05,  2.34008074e+05,\n",
       "       -7.39722061e+04,  3.36094649e+05,  2.12028807e+05,  1.14674116e+05,\n",
       "        3.85771573e+05,  2.47674030e+06,  1.46104015e+05,  2.51151548e+05,\n",
       "        1.33906921e+05, -5.02036585e+04,  2.47858098e+05,  2.41181347e+05,\n",
       "        1.69213048e+05,  3.07861838e+05,  2.96969048e+05, -6.60387543e+04,\n",
       "        5.67037312e+05,  1.33294410e+05, -6.01776387e+04, -1.35506175e+05,\n",
       "        1.90882519e+05,  3.99386455e+05,  1.15671709e+05,  2.58717513e+05,\n",
       "        2.29370464e+05,  3.33138561e+05,  8.18089454e+04,  3.02285121e+05,\n",
       "        2.96077042e+05,  6.34927757e+05,  2.66585658e+05,  8.24317592e+04,\n",
       "        6.71982877e+04,  3.34351954e+05,  3.65177555e+05,  2.57170114e+05,\n",
       "        3.12147562e+05, -8.87428003e+04,  9.93712872e+04,  6.73989802e+05,\n",
       "        2.18670480e+06,  1.72203369e+05,  8.51043827e+04,  1.08509899e+05,\n",
       "        2.21316711e+05,  2.86969014e+05,  1.91648757e+05, -1.61918369e+05,\n",
       "        2.58553987e+05,  3.96051023e+05,  1.80959819e+05,  3.91642578e+05,\n",
       "        6.89696313e+05,  1.37209229e+05,  8.52861685e+05,  1.90762014e+05,\n",
       "        3.76755346e+05,  3.47162367e+05,  4.89352837e+05,  1.75310742e+05,\n",
       "        8.26978766e+04,  1.43158497e+06,  1.90892591e+05,  5.44600505e+04,\n",
       "        1.97555256e+05,  1.62641460e+05,  1.02316464e+06,  2.44164879e+04,\n",
       "        7.39974960e+04,  9.11809419e+05,  1.33294410e+05,  9.96527106e+04,\n",
       "        3.31752657e+05,  1.76680793e+05,  1.13948829e+06,  1.79342799e+05,\n",
       "        6.74263358e+05,  3.64982035e+05,  2.35661004e+05, -7.34142215e+03,\n",
       "        1.14731266e+05,  6.97367642e+04,  8.11941553e+05,  1.13009328e+05,\n",
       "        2.20983487e+05,  2.72300042e+05,  4.13405103e+04,  2.68307596e+05,\n",
       "        5.71256951e+05,  3.13395627e+04,  3.99527885e+05,  9.07669385e+05,\n",
       "       -3.31520946e+04,  2.43104277e+05,  7.05737409e+04,  2.15444950e+05,\n",
       "        2.42952992e+05,  1.01001893e+06,  2.99063928e+05,  2.63995404e+05,\n",
       "        4.47160748e+05,  3.18679979e+05,  1.08871659e+05,  3.18679979e+05,\n",
       "        2.96834842e+05,  4.46095598e+05,  1.60708637e+05,  4.07060864e+05,\n",
       "        2.99370369e+05,  3.83576671e+05,  1.73557821e+05,  5.49489229e+05,\n",
       "        4.73280496e+05,  1.32010489e+05, -8.89622518e+04,  2.46973193e+05,\n",
       "        2.41475820e+05,  1.12054826e+05,  2.50169602e+06,  2.69904943e+05,\n",
       "        1.69125732e+05,  5.78219368e+03,  5.90699722e+04,  4.00926806e+05,\n",
       "        7.28577216e+05,  3.64751130e+04,  4.32818998e+04,  5.49620751e+04,\n",
       "        7.33454570e+05,  1.66594628e+05,  3.18276744e+05,  3.16723579e+05,\n",
       "        1.34376136e+06,  2.34008074e+05,  7.62097309e+04,  1.33309459e+05,\n",
       "        4.73966094e+05,  5.07950754e+05,  1.14365274e+06,  1.58277461e+06,\n",
       "        1.93879987e+05,  3.96165263e+05,  2.35853173e+05,  8.36051286e+04,\n",
       "        5.05888595e+05,  6.15946087e+05,  4.25655413e+05,  4.20177268e+05,\n",
       "        2.71143773e+05,  2.99048440e+04,  4.20328972e+05,  3.74720260e+05,\n",
       "       -3.78736916e+04,  1.42606243e+04,  6.96164169e+05, -1.33490841e+04,\n",
       "        4.22347307e+05,  4.61836763e+05,  3.70169359e+05,  2.40190852e+06,\n",
       "        2.25179366e+05,  3.82125509e+05,  2.80716110e+05,  2.61566851e+06,\n",
       "        1.18038547e+06,  5.34563152e+05,  7.86210119e+04,  3.07147468e+05,\n",
       "        2.88366274e+05,  1.19834602e+05,  2.94033035e+05,  3.74612885e+05,\n",
       "        7.55941992e+04,  1.51449331e+05,  2.83830457e+05,  4.71229972e+05,\n",
       "        1.03559046e+05,  4.39906785e+05,  5.97377854e+05,  1.45757030e+05,\n",
       "        3.27946721e+05,  2.46479145e+05,  3.60423451e+05,  6.56289179e+05,\n",
       "        2.22838046e+05,  7.49342793e+05,  1.06740665e+05,  7.41158671e+05,\n",
       "        2.77355287e+05,  2.08890451e+05, -1.41691496e+05,  6.62096102e+05,\n",
       "        1.75082768e+05,  4.23833043e+05,  2.26157458e+05,  2.10498570e+05,\n",
       "        3.07571733e+05,  2.15667633e+05,  9.69840598e+05,  1.01566317e+05,\n",
       "       -8.15392044e+03,  4.12860511e+05,  3.14480449e+05,  2.40702896e+05,\n",
       "        3.44025241e+05,  4.11444808e+05,  2.04263066e+05,  1.47129310e+06,\n",
       "        9.47773383e+05,  2.52921998e+05,  6.09924677e+04,  1.90882519e+05,\n",
       "        1.81106624e+05,  6.63171661e+05,  4.45733283e+05,  4.25320614e+05,\n",
       "        2.44452247e+05,  1.76680793e+05,  5.93173815e+05,  3.10215340e+05,\n",
       "        3.27143781e+05,  2.35951266e+05,  1.77199038e+04,  1.23827469e+05,\n",
       "        3.49941813e+05,  2.32134851e+05,  2.01774905e+05,  2.06921821e+05,\n",
       "        3.94737878e+05,  4.13087159e+05,  8.72353769e+04,  2.10832629e+05,\n",
       "        1.31841998e+05,  2.34008074e+05,  5.75389153e+05,  5.32145539e+05,\n",
       "        2.72787830e+05,  8.36051286e+04,  1.41184873e+05,  4.17405916e+05,\n",
       "        3.08472787e+05,  4.39742925e+05,  1.81436295e+05,  1.19899299e+04,\n",
       "        3.25184771e+05,  3.92382948e+06,  1.44250315e+05,  1.04527703e+06,\n",
       "        5.78219368e+03,  3.12982757e+05,  8.70383865e+04,  1.75057075e+05,\n",
       "        8.81946554e+04,  9.86572683e+04,  3.06065251e+05,  4.39977792e+05,\n",
       "       -4.75230445e+06,  2.42876303e+05,  1.07441532e+05,  3.84661543e+05,\n",
       "        1.17416205e+06,  4.89346170e+05,  1.71477494e+05,  5.99098808e+05,\n",
       "        6.29224045e+05,  2.01276394e+05,  1.09560723e+06,  7.02499402e+05,\n",
       "        1.87622847e+05,  5.35506841e+05,  5.12222114e+05,  3.45663113e+05,\n",
       "        1.56429947e+05,  1.15122343e+05,  1.41242910e+05,  3.19279487e+06,\n",
       "        4.28163653e+05,  6.20621271e+05,  1.53674460e+05,  3.18643474e+05,\n",
       "        4.65175419e+05,  3.22496394e+05,  1.21589526e+05,  9.12756340e+05,\n",
       "        1.72058567e+05,  7.62101516e+04, -1.09354992e+05,  3.03071697e+05,\n",
       "        1.52218468e+05,  3.14530156e+05, -5.20026536e+04,  2.35951266e+05,\n",
       "        8.38408269e+05,  6.67112778e+05,  2.72300042e+05,  6.58907023e+04,\n",
       "        1.12198079e+05,  3.75010163e+05,  2.96299726e+05,  2.17695012e+05,\n",
       "        9.15361489e+04,  2.35997507e+05,  3.85359275e+05,  3.46289688e+05,\n",
       "        1.67226006e+05,  2.56671422e+05,  3.15660680e+05,  1.29300294e+05,\n",
       "        1.79940194e+06,  1.49875448e+05,  1.19368896e+05,  1.46604656e+06,\n",
       "       -1.10622508e+05,  1.72172386e+05,  1.16139959e+06,  6.65223854e+05,\n",
       "        3.06370771e+05,  1.97937733e+05,  4.64062975e+04,  1.64026895e+05,\n",
       "        1.00805752e+05,  3.55257257e+05,  4.22661859e+05,  1.76104812e+05,\n",
       "        1.16582427e+05,  1.81713553e+05,  4.55968230e+05,  2.58788833e+05,\n",
       "        7.10410877e+04,  5.08718044e+05, -1.06253661e+05,  2.88366274e+05,\n",
       "        3.67701164e+05,  1.22476269e+05,  4.32231486e+05,  1.74914844e+04,\n",
       "        2.77928362e+05,  5.90699722e+04,  1.73131285e+05,  4.64062975e+04,\n",
       "        3.71025979e+05,  2.21233539e+05,  2.67618766e+05,  1.83292237e+05,\n",
       "        9.07898397e+04,  4.82401641e+05,  3.50665027e+05,  4.65764678e+05,\n",
       "        5.45765903e+05,  1.19111218e+06, -1.58155420e+05,  3.09848880e+05,\n",
       "        3.04511024e+05,  3.13079414e+05,  5.41790612e+05,  1.68821971e+05,\n",
       "        1.05764286e+05,  2.27567394e+05,  1.25825471e+06,  2.23747690e+05,\n",
       "       -7.85788333e+04,  2.88366274e+05,  9.48879349e+04,  2.74839683e+05,\n",
       "        1.29168532e+05,  1.68025014e+05,  1.87254169e+05,  1.53634551e+05,\n",
       "        3.62440331e+05,  1.62765373e+05,  2.03052905e+05,  6.58509158e+05,\n",
       "        6.69658942e+04,  2.38539211e+05, -9.42637706e+04, -1.10730989e+05,\n",
       "        2.08145254e+05,  1.23385709e+05,  2.17053069e+05,  1.60708637e+05,\n",
       "        7.75955866e+04,  1.23990572e+05,  8.31157592e+05,  4.07363576e+05,\n",
       "        2.97678493e+05,  4.56866276e+05,  8.03033759e+04,  1.11795892e+05,\n",
       "       -2.39590544e+04,  1.15921771e+05,  5.97701548e+05,  3.37551873e+05,\n",
       "        3.16433115e+05,  1.07066549e+05,  2.61824887e+05,  1.81073638e+05,\n",
       "        2.91180123e+05,  1.78270080e+05,  2.46174185e+05,  5.60247263e+05,\n",
       "        3.67471998e+05, -1.13457847e+05,  1.96588234e+05, -3.03631391e+04,\n",
       "        3.20104584e+05,  3.18596808e+05,  8.84226292e+04,  1.66283282e+06,\n",
       "        1.06545304e+06,  5.35235645e+05,  2.67618766e+05,  3.69302801e+05,\n",
       "        2.55670860e+05,  9.13020285e+04,  3.62159841e+05,  3.41071544e+05,\n",
       "        4.48700837e+05,  5.58184955e+05,  7.84689569e+05,  3.46356607e+05,\n",
       "        4.17409630e+05,  1.22771419e+06,  2.08032660e+05, -1.82595264e+04,\n",
       "        4.04981666e+05,  4.39674759e+05,  2.69004201e+05,  7.03536280e+05,\n",
       "        3.17713324e+05,  1.64264627e+05,  2.46474324e+05,  1.87745563e+05,\n",
       "        2.69904943e+05,  2.21316711e+05,  5.28008653e+05,  1.40064678e+05,\n",
       "        2.06348747e+05,  2.56222924e+04,  3.70308120e+04,  1.43889867e+05,\n",
       "        2.64854378e+05,  1.50558565e+05,  5.06171883e+05,  2.85631686e+05,\n",
       "        1.89661296e+05,  2.32122698e+05,  3.00906353e+05,  1.24049769e+05,\n",
       "        1.83892661e+05,  4.84464893e+05,  2.04076026e+04,  3.05701044e+05,\n",
       "        4.00281028e+05,  3.54449073e+05,  5.67024614e+05,  2.71262822e+05,\n",
       "        8.99165935e+04,  2.83461168e+05,  6.24725176e+05,  4.03596231e+05,\n",
       "        3.62159841e+05,  1.72243705e+05,  6.03607276e+04,  3.39379811e+05,\n",
       "        1.95708394e+05,  7.22029199e+05, -1.04487953e+04,  2.67988255e+05,\n",
       "        1.82876707e+05,  1.59913832e+05,  2.72300042e+05,  3.00264890e+05,\n",
       "        9.64710925e+04,  1.20140084e+05,  4.84936755e+05,  9.58139455e+05,\n",
       "        2.29370464e+05,  1.22247103e+05,  7.65950241e+04,  5.21310130e+05,\n",
       "        1.13345831e+05,  1.59437356e+05,  2.91474116e+05,  2.72015056e+05,\n",
       "        6.84993837e+04,  2.91073717e+05,  3.17264706e+05,  2.76906670e+05,\n",
       "        9.56366882e+04,  8.21775135e+05,  5.13557801e+05,  4.84936755e+05,\n",
       "        4.61608373e+05,  3.39010322e+05,  2.48589916e+05,  2.86459677e+05,\n",
       "        1.35413046e+05,  4.21894580e+05,  7.19427329e+05,  7.51552546e+05,\n",
       "        2.73132802e+05,  5.21303463e+05,  3.29985908e+05,  6.54021046e+04,\n",
       "        3.62328216e+05,  4.37013505e+05,  2.55791365e+05,  2.95608555e+05,\n",
       "        2.68307596e+05,  1.68195392e+04,  1.62884482e+05, -1.21126689e+05,\n",
       "        3.59573170e+05,  8.26529304e+02,  3.58848781e+05,  2.46400118e+05,\n",
       "        6.16825959e+05,  4.08248537e+05,  6.34369364e+05,  6.80546006e+05,\n",
       "        4.32032158e+05,  1.20966370e+05,  2.41986337e+05,  6.85190364e+05,\n",
       "        4.69503892e+05,  3.41071544e+05,  2.42689310e+05,  2.40702896e+05,\n",
       "        5.23417084e+05,  2.79384991e+06,  1.82990527e+05,  2.23336942e+05,\n",
       "        1.68533559e+05,  1.56442098e+05,  3.84669730e+05,  8.65495147e+05,\n",
       "       -8.43800196e+04,  1.13631695e+06,  8.51977925e+05,  8.01582392e+02,\n",
       "        1.72653691e+05,  1.23493147e+06,  1.71084204e+05,  1.59800013e+05,\n",
       "        3.38319072e+05,  2.46883226e+05,  1.57265141e+05,  4.21062173e+05,\n",
       "        2.51686195e+05,  7.61945519e+04,  2.20462325e+05,  1.25818142e+05,\n",
       "        1.96466750e+05,  4.33428080e+05,  1.10401896e+05,  4.85736509e+05,\n",
       "        2.00317110e+05,  1.18527010e+05,  2.88181615e+05,  1.14899659e+05,\n",
       "        3.08472787e+05,  4.47134318e+05,  3.28237686e+04,  4.30645018e+05,\n",
       "        2.53963591e+05,  2.95340591e+05,  7.02452551e+05,  6.01726635e+04,\n",
       "        3.66752016e+05,  1.63253971e+05,  3.89967997e+05,  3.13829911e+05,\n",
       "        3.30428576e+05,  7.92035200e+05,  7.51722604e+05,  1.23385709e+05,\n",
       "        3.20179233e+05,  2.91200388e+06, -5.03512924e+04,  1.17096718e+05,\n",
       "        2.78854541e+05,  2.76160449e+05,  1.66704595e+05,  2.28162817e+05,\n",
       "        6.59742906e+05,  1.43784614e+05,  3.87244457e+04,  2.30623444e+05,\n",
       "        6.83439653e+04,  1.05012337e+05,  3.64021472e+05,  2.39990422e+05,\n",
       "        6.37789374e+04,  2.51686195e+05,  3.85372855e+05,  4.42150470e+05,\n",
       "        3.42336492e+05,  2.34655798e+05,  1.98317075e+05,  7.14870684e+05,\n",
       "        3.73525967e+05,  5.11480727e+05,  3.98188109e+05,  2.13050035e+05,\n",
       "        2.61685068e+05,  5.38778282e+05,  3.98656333e+05,  1.23975524e+05,\n",
       "        4.34803028e+05,  4.35431386e+04,  5.89367624e+05,  1.61354245e+05,\n",
       "        1.58661176e+05])"
      ]
     },
     "execution_count": 92,
     "metadata": {},
     "output_type": "execute_result"
    }
   ],
   "source": [
    "reg.predict(X_test)\n"
   ]
  },
  {
   "cell_type": "code",
   "execution_count": 93,
   "id": "209bac82-cdaa-40b6-9a6b-801297522f80",
   "metadata": {},
   "outputs": [
    {
     "data": {
      "text/plain": [
       "3970    250000.0\n",
       "1772    158333.0\n",
       "2430    264583.0\n",
       "231     295833.0\n",
       "605     237500.0\n",
       "          ...   \n",
       "6162    450000.0\n",
       "204     104167.0\n",
       "4422    400000.0\n",
       "1615    229167.0\n",
       "3926    120833.0\n",
       "Name: USD, Length: 701, dtype: float64"
      ]
     },
     "execution_count": 93,
     "metadata": {},
     "output_type": "execute_result"
    }
   ],
   "source": [
    "Y_test"
   ]
  },
  {
   "cell_type": "code",
   "execution_count": 94,
   "id": "6aabbc69-1e09-49d5-a0aa-73c656441a06",
   "metadata": {},
   "outputs": [],
   "source": [
    "Y_pre = reg.predict(X_test)\n"
   ]
  },
  {
   "cell_type": "code",
   "execution_count": 95,
   "id": "1803a640-20e6-48e4-b120-19eb91df5dad",
   "metadata": {},
   "outputs": [],
   "source": [
    "perc = np.abs((Y_pre - Y_test)/Y_test)\n",
    "perc = perc.values*100"
   ]
  },
  {
   "cell_type": "code",
   "execution_count": 96,
   "id": "1de6ef15-62b1-482a-8e3d-af613a66ef33",
   "metadata": {},
   "outputs": [
    {
     "data": {
      "text/plain": [
       "array([[3.90208998e+05, 6.58128527e+04, 2.39527948e+05, ...,\n",
       "        5.89367624e+05, 1.61354245e+05, 1.58661176e+05],\n",
       "       [2.50000000e+05, 1.58333000e+05, 2.64583000e+05, ...,\n",
       "        4.00000000e+05, 2.29167000e+05, 1.20833000e+05],\n",
       "       [5.60835991e+01, 5.84339003e+01, 9.46963772e+00, ...,\n",
       "        4.73419060e+01, 2.95909775e+01, 3.13061633e+01]])"
      ]
     },
     "execution_count": 96,
     "metadata": {},
     "output_type": "execute_result"
    }
   ],
   "source": [
    "np.array([Y_pre, Y_test, perc])\n"
   ]
  },
  {
   "cell_type": "code",
   "execution_count": 101,
   "id": "39f80ec2-2e3c-4712-bf12-1853cbc425c8",
   "metadata": {},
   "outputs": [],
   "source": [
    "data = {'Predict price':Y_pre,\n",
    "        'Real Price':Y_test,\n",
    "       '% False': perc}\n",
    "A = pd.DataFrame(data)"
   ]
  },
  {
   "cell_type": "code",
   "execution_count": 102,
   "id": "7147960c-368b-4754-8ee0-9693ff8755d6",
   "metadata": {},
   "outputs": [
    {
     "data": {
      "text/html": [
       "<div>\n",
       "<style scoped>\n",
       "    .dataframe tbody tr th:only-of-type {\n",
       "        vertical-align: middle;\n",
       "    }\n",
       "\n",
       "    .dataframe tbody tr th {\n",
       "        vertical-align: top;\n",
       "    }\n",
       "\n",
       "    .dataframe thead th {\n",
       "        text-align: right;\n",
       "    }\n",
       "</style>\n",
       "<table border=\"1\" class=\"dataframe\">\n",
       "  <thead>\n",
       "    <tr style=\"text-align: right;\">\n",
       "      <th></th>\n",
       "      <th>Predict price</th>\n",
       "      <th>Real Price</th>\n",
       "      <th>% False</th>\n",
       "    </tr>\n",
       "  </thead>\n",
       "  <tbody>\n",
       "    <tr>\n",
       "      <th>6037</th>\n",
       "      <td>1.832922e+05</td>\n",
       "      <td>183333.0</td>\n",
       "      <td>0.022234</td>\n",
       "    </tr>\n",
       "    <tr>\n",
       "      <th>3173</th>\n",
       "      <td>1.332944e+05</td>\n",
       "      <td>133333.0</td>\n",
       "      <td>0.028942</td>\n",
       "    </tr>\n",
       "    <tr>\n",
       "      <th>3147</th>\n",
       "      <td>1.750828e+05</td>\n",
       "      <td>175000.0</td>\n",
       "      <td>0.047296</td>\n",
       "    </tr>\n",
       "    <tr>\n",
       "      <th>3735</th>\n",
       "      <td>2.461742e+05</td>\n",
       "      <td>245833.0</td>\n",
       "      <td>0.138787</td>\n",
       "    </tr>\n",
       "    <tr>\n",
       "      <th>2562</th>\n",
       "      <td>4.594950e+05</td>\n",
       "      <td>458333.0</td>\n",
       "      <td>0.253518</td>\n",
       "    </tr>\n",
       "    <tr>\n",
       "      <th>...</th>\n",
       "      <td>...</td>\n",
       "      <td>...</td>\n",
       "      <td>...</td>\n",
       "    </tr>\n",
       "    <tr>\n",
       "      <th>4241</th>\n",
       "      <td>1.582775e+06</td>\n",
       "      <td>228333.0</td>\n",
       "      <td>593.186973</td>\n",
       "    </tr>\n",
       "    <tr>\n",
       "      <th>4240</th>\n",
       "      <td>1.582775e+06</td>\n",
       "      <td>228333.0</td>\n",
       "      <td>593.186973</td>\n",
       "    </tr>\n",
       "    <tr>\n",
       "      <th>6099</th>\n",
       "      <td>7.148707e+05</td>\n",
       "      <td>93750.0</td>\n",
       "      <td>662.528730</td>\n",
       "    </tr>\n",
       "    <tr>\n",
       "      <th>4052</th>\n",
       "      <td>1.799402e+06</td>\n",
       "      <td>183333.0</td>\n",
       "      <td>881.493751</td>\n",
       "    </tr>\n",
       "    <tr>\n",
       "      <th>4926</th>\n",
       "      <td>-4.752304e+06</td>\n",
       "      <td>72917.0</td>\n",
       "      <td>6617.416305</td>\n",
       "    </tr>\n",
       "  </tbody>\n",
       "</table>\n",
       "<p>701 rows × 3 columns</p>\n",
       "</div>"
      ],
      "text/plain": [
       "      Predict price  Real Price      % False\n",
       "6037   1.832922e+05    183333.0     0.022234\n",
       "3173   1.332944e+05    133333.0     0.028942\n",
       "3147   1.750828e+05    175000.0     0.047296\n",
       "3735   2.461742e+05    245833.0     0.138787\n",
       "2562   4.594950e+05    458333.0     0.253518\n",
       "...             ...         ...          ...\n",
       "4241   1.582775e+06    228333.0   593.186973\n",
       "4240   1.582775e+06    228333.0   593.186973\n",
       "6099   7.148707e+05     93750.0   662.528730\n",
       "4052   1.799402e+06    183333.0   881.493751\n",
       "4926  -4.752304e+06     72917.0  6617.416305\n",
       "\n",
       "[701 rows x 3 columns]"
      ]
     },
     "execution_count": 102,
     "metadata": {},
     "output_type": "execute_result"
    }
   ],
   "source": [
    "B = A.sort_values(by=['% False'])\n",
    "B"
   ]
  },
  {
   "cell_type": "code",
   "execution_count": 103,
   "id": "afbd1e6b-6de9-4890-b296-9c230d92b20b",
   "metadata": {},
   "outputs": [
    {
     "data": {
      "text/plain": [
       "count     701.000000\n",
       "mean       63.604805\n",
       "std       260.765345\n",
       "min         0.022234\n",
       "25%        14.229555\n",
       "50%        32.832100\n",
       "75%        60.104502\n",
       "max      6617.416305\n",
       "Name: % False, dtype: float64"
      ]
     },
     "execution_count": 103,
     "metadata": {},
     "output_type": "execute_result"
    }
   ],
   "source": [
    "B['% False'].describe()\n"
   ]
  },
  {
   "cell_type": "code",
   "execution_count": 104,
   "id": "97393d82-d3d9-411d-b428-4a90f89ea75a",
   "metadata": {},
   "outputs": [
    {
     "data": {
      "text/plain": [
       "301193.1442146978"
      ]
     },
     "execution_count": 104,
     "metadata": {},
     "output_type": "execute_result"
    }
   ],
   "source": [
    "(sum((reg.predict(X_test) - Y_test)**2)/len(Y_test))**0.5\n"
   ]
  },
  {
   "cell_type": "code",
   "execution_count": null,
   "id": "3084ac62-0c81-4371-8299-fb39df9ee115",
   "metadata": {},
   "outputs": [],
   "source": []
  }
 ],
 "metadata": {
  "kernelspec": {
   "display_name": "Python 3 (ipykernel)",
   "language": "python",
   "name": "python3"
  },
  "language_info": {
   "codemirror_mode": {
    "name": "ipython",
    "version": 3
   },
   "file_extension": ".py",
   "mimetype": "text/x-python",
   "name": "python",
   "nbconvert_exporter": "python",
   "pygments_lexer": "ipython3",
   "version": "3.10.12"
  }
 },
 "nbformat": 4,
 "nbformat_minor": 5
}
